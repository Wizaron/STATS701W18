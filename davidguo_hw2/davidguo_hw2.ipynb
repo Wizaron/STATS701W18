{
 "cells": [
  {
   "cell_type": "markdown",
   "metadata": {
    "collapsed": true
   },
   "source": [
    "# Stats701 Homework 2, Winter 2018\n",
    "### David Guo\n",
    "#### davidguo@umich.edu\n",
    "\n",
    "Discussion: For all problems, I did not discuss with anyone.\n",
    "\n",
    "Overall ~ 9 hours.\n",
    "Time to do each homework problem (write-up about 30 min to 1 hour)\n",
    "\n",
    "- Problem 1 took about 1.25 hours\n",
    "\n",
    "    -1.1: about 45 minutes\n",
    "    \n",
    "    -1.2: about 15 minutes\n",
    "    \n",
    "    -1.3: about 15 minutes\n",
    "\n",
    "- Problem 2 took about 3.5 hours.\n",
    "\n",
    "    -2.1: about 30 minutes.\n",
    "    \n",
    "    -2.2: about 3 hours.\n",
    "\n",
    "- Problem 3 took about 45 minutes.\n",
    "\n",
    "    -3.1: about 10 minutes\n",
    "    \n",
    "    -3.2: about 15 minutes for bare minimum, then 15 minutes to create keys as tuples\n",
    "\n",
    "- Problem 4 took about 2.5 hours.\n",
    "    \n",
    "    -4.1: about 20 min\n",
    "    \n",
    "    -4.2: about 15 min\n",
    "    \n",
    "    -4.3: about 15 min\n",
    "    \n",
    "    -4.4: about 1.5 hours"
   ]
  },
  {
   "cell_type": "markdown",
   "metadata": {},
   "source": [
    "### Problem 1: Fun with Strings\n",
    "\n",
    "For 1.1 and 1.2, we use the same string \"standardization\" of removing leading and trailing spaces, removing interal spaces, and lowercasing all characters in the string. We define this as the $\\tt{clean}$ function."
   ]
  },
  {
   "cell_type": "code",
   "execution_count": 4,
   "metadata": {
    "collapsed": true
   },
   "outputs": [],
   "source": [
    "def clean(string):\n",
    "    string=string.rstrip() #Remove leading and trailing spaces\n",
    "    string=string.replace(' ','') #Remove spaces\n",
    "    \n",
    "    '''Lowercase everything. For alphanumeric, we can also decide to do all upper, \n",
    "    but we follow the idea of casefold which applies to special characters'''\n",
    "    string=string.lower()\n",
    "    return string"
   ]
  },
  {
   "cell_type": "code",
   "execution_count": 5,
   "metadata": {
    "collapsed": false
   },
   "outputs": [
    {
     "data": {
      "text/plain": [
       "'youonlyliveonce'"
      ]
     },
     "execution_count": 5,
     "metadata": {},
     "output_type": "execute_result"
    }
   ],
   "source": [
    "#Example\n",
    "clean('    YOU     onlY livE onCE')"
   ]
  },
  {
   "cell_type": "markdown",
   "metadata": {},
   "source": [
    "#### 1.1\n",
    "\n",
    "Although I could use one index value and use $\\tt +ind$ and $\\tt -ind$, I found it more complicated to differentiate between cases for odd and even. This approach defines 2 indicies, but captures both cases in one loop."
   ]
  },
  {
   "cell_type": "code",
   "execution_count": 6,
   "metadata": {
    "collapsed": true
   },
   "outputs": [],
   "source": [
    "def is_palindrome(phrase):\n",
    "    phrase=clean(phrase)\n",
    "\n",
    "    #traverse both indices from beginning (left) and end (right)\n",
    "    left=0\n",
    "    right=len(phrase)-1\n",
    "    \n",
    "    '''Traverse the string.\n",
    "    For odd length strings, the middle will be same value for left and right.\n",
    "    For even length strings, the middle value will be 2 values.\n",
    "    Ex: cat index 1 will be the middle\n",
    "        cart has indices 1 and 2 as the \"middle\".\n",
    "    We use left<right (< satisfies both cases)\n",
    "    '''\n",
    "    \n",
    "    while left<right: \n",
    "        if phrase[left]!=phrase[right]:\n",
    "            return False\n",
    "        left+=1\n",
    "        right-=1\n",
    "    \n",
    "    return True"
   ]
  },
  {
   "cell_type": "markdown",
   "metadata": {},
   "source": [
    "Some test cases follow:"
   ]
  },
  {
   "cell_type": "code",
   "execution_count": 7,
   "metadata": {
    "collapsed": false
   },
   "outputs": [
    {
     "name": "stdout",
     "output_type": "stream",
     "text": [
      "True\n",
      "True\n",
      "False\n"
     ]
    }
   ],
   "source": [
    "print(is_palindrome('Was it a car or a cat I saw'))\n",
    "print(is_palindrome('     Was it a car or a cat I saw       '))\n",
    "print(is_palindrome('Was it a car oAr a cat I saw'))"
   ]
  },
  {
   "cell_type": "code",
   "execution_count": 8,
   "metadata": {
    "collapsed": false
   },
   "outputs": [
    {
     "name": "stdout",
     "output_type": "stream",
     "text": [
      "True\n",
      "False\n"
     ]
    }
   ],
   "source": [
    "print(is_palindrome('level'))\n",
    "print(is_palindrome('  LEW VVel'))"
   ]
  },
  {
   "cell_type": "code",
   "execution_count": 9,
   "metadata": {
    "collapsed": false
   },
   "outputs": [
    {
     "name": "stdout",
     "output_type": "stream",
     "text": [
      "False\n",
      "True\n"
     ]
    }
   ],
   "source": [
    "print(is_palindrome('7779311'))\n",
    "print(is_palindrome('7779311 1139777'))"
   ]
  },
  {
   "cell_type": "markdown",
   "metadata": {},
   "source": [
    "#### 1.2"
   ]
  },
  {
   "cell_type": "code",
   "execution_count": 10,
   "metadata": {
    "collapsed": true
   },
   "outputs": [],
   "source": [
    "def is_abecedarian(phrase):\n",
    "    phrase=clean(phrase)\n",
    "    \n",
    "    #Go through each element of string. We use len(phrase)-1 because inside the loop, we take the index i+1\n",
    "    for i in range(len(phrase)-1):\n",
    "        if phrase[i]>phrase[i+1]: #Check if the current letter is alphabetically \"later\" than the following letter.\n",
    "            return False #If so, stop loop and return False.\n",
    "        \n",
    "    return True #Loop didn't find any \"violations\", return True"
   ]
  },
  {
   "cell_type": "markdown",
   "metadata": {},
   "source": [
    "Some test cases follow:"
   ]
  },
  {
   "cell_type": "code",
   "execution_count": 11,
   "metadata": {
    "collapsed": false
   },
   "outputs": [
    {
     "name": "stdout",
     "output_type": "stream",
     "text": [
      "True\n",
      "False\n"
     ]
    }
   ],
   "source": [
    "print(is_abecedarian('beet'))\n",
    "print(is_abecedarian('cat'))"
   ]
  },
  {
   "cell_type": "code",
   "execution_count": 12,
   "metadata": {
    "collapsed": false
   },
   "outputs": [
    {
     "name": "stdout",
     "output_type": "stream",
     "text": [
      "True\n",
      "False\n"
     ]
    }
   ],
   "source": [
    "print(is_abecedarian('be  et'))\n",
    "print(is_abecedarian(' ca t'))"
   ]
  },
  {
   "cell_type": "markdown",
   "metadata": {},
   "source": [
    "#### 1.3"
   ]
  },
  {
   "cell_type": "code",
   "execution_count": 13,
   "metadata": {
    "collapsed": true
   },
   "outputs": [],
   "source": [
    "def count_vowels(phrase):\n",
    "    #num is number of vowels initialize as 0\n",
    "    num=0\n",
    "    vowels='aeiou' #define our set of vowels in a string\n",
    "    \n",
    "    #Traverse string\n",
    "    for i in range(len(phrase)):\n",
    "        if phrase[i] in vowels: #check if character in string phrase is one of the vowels. If so add to count.\n",
    "            num+=1\n",
    "                        \n",
    "    return num"
   ]
  },
  {
   "cell_type": "markdown",
   "metadata": {},
   "source": [
    "Some test cases follow:"
   ]
  },
  {
   "cell_type": "code",
   "execution_count": 14,
   "metadata": {
    "collapsed": false
   },
   "outputs": [
    {
     "name": "stdout",
     "output_type": "stream",
     "text": [
      "2\n",
      "0\n"
     ]
    }
   ],
   "source": [
    "print(count_vowels('hello'))\n",
    "print(count_vowels('xyyy'))"
   ]
  },
  {
   "cell_type": "markdown",
   "metadata": {},
   "source": [
    "### Problem 2: Fun with Lists\n",
    "\n",
    "#### 2.1\n",
    "\n",
    "We use the $\\tt list.pop()$ method since it only works on lists, so it ensures that the appropriate errors show up when a list is not entered."
   ]
  },
  {
   "cell_type": "code",
   "execution_count": 15,
   "metadata": {
    "collapsed": false
   },
   "outputs": [],
   "source": [
    "def list_reverse(l):\n",
    "    rev=[] #Initialize empty list\n",
    "    \n",
    "    #build up the empty list rev until it is the length of the original list inputted\n",
    "    while(len(rev)<len(l)):\n",
    "        '''take the last element from the substring of l. Since we keep adding to rev, \n",
    "        l[0:len(l)-len(rev)] acts as the new \"chopped off\" string\n",
    "        '''\n",
    "        rev.append(l[0:len(l)-len(rev)].pop()) \n",
    "    return rev"
   ]
  },
  {
   "cell_type": "markdown",
   "metadata": {},
   "source": [
    "Some test cases follow:"
   ]
  },
  {
   "cell_type": "code",
   "execution_count": 16,
   "metadata": {
    "collapsed": false
   },
   "outputs": [
    {
     "data": {
      "text/plain": [
       "['yolo', 1, []]"
      ]
     },
     "execution_count": 16,
     "metadata": {},
     "output_type": "execute_result"
    }
   ],
   "source": [
    "list_reverse([[],1,'yolo'])"
   ]
  },
  {
   "cell_type": "code",
   "execution_count": 17,
   "metadata": {
    "collapsed": false
   },
   "outputs": [
    {
     "ename": "AttributeError",
     "evalue": "'str' object has no attribute 'pop'",
     "output_type": "error",
     "traceback": [
      "\u001b[0;31m---------------------------------------------------------------------------\u001b[0m",
      "\u001b[0;31mAttributeError\u001b[0m                            Traceback (most recent call last)",
      "\u001b[0;32m<ipython-input-17-8f1d345cf742>\u001b[0m in \u001b[0;36m<module>\u001b[0;34m()\u001b[0m\n\u001b[0;32m----> 1\u001b[0;31m \u001b[0mlist_reverse\u001b[0m\u001b[0;34m(\u001b[0m\u001b[0;34m'hi'\u001b[0m\u001b[0;34m)\u001b[0m\u001b[0;34m\u001b[0m\u001b[0m\n\u001b[0m",
      "\u001b[0;32m<ipython-input-15-85a39e0ee3c3>\u001b[0m in \u001b[0;36mlist_reverse\u001b[0;34m(l)\u001b[0m\n\u001b[1;32m      7\u001b[0m         \u001b[0ml\u001b[0m\u001b[0;34m[\u001b[0m\u001b[0;36m0\u001b[0m\u001b[0;34m:\u001b[0m\u001b[0mlen\u001b[0m\u001b[0;34m(\u001b[0m\u001b[0ml\u001b[0m\u001b[0;34m)\u001b[0m\u001b[0;34m-\u001b[0m\u001b[0mlen\u001b[0m\u001b[0;34m(\u001b[0m\u001b[0mrev\u001b[0m\u001b[0;34m)\u001b[0m\u001b[0;34m]\u001b[0m \u001b[0macts\u001b[0m \u001b[0;32mas\u001b[0m \u001b[0mthe\u001b[0m \u001b[0mnew\u001b[0m \u001b[0;34m\"chopped off\"\u001b[0m \u001b[0mstring\u001b[0m\u001b[0;34m\u001b[0m\u001b[0m\n\u001b[1;32m      8\u001b[0m         '''\n\u001b[0;32m----> 9\u001b[0;31m         \u001b[0mrev\u001b[0m\u001b[0;34m.\u001b[0m\u001b[0mappend\u001b[0m\u001b[0;34m(\u001b[0m\u001b[0ml\u001b[0m\u001b[0;34m[\u001b[0m\u001b[0;36m0\u001b[0m\u001b[0;34m:\u001b[0m\u001b[0mlen\u001b[0m\u001b[0;34m(\u001b[0m\u001b[0ml\u001b[0m\u001b[0;34m)\u001b[0m\u001b[0;34m-\u001b[0m\u001b[0mlen\u001b[0m\u001b[0;34m(\u001b[0m\u001b[0mrev\u001b[0m\u001b[0;34m)\u001b[0m\u001b[0;34m]\u001b[0m\u001b[0;34m.\u001b[0m\u001b[0mpop\u001b[0m\u001b[0;34m(\u001b[0m\u001b[0;34m)\u001b[0m\u001b[0;34m)\u001b[0m\u001b[0;34m\u001b[0m\u001b[0m\n\u001b[0m\u001b[1;32m     10\u001b[0m     \u001b[0;32mreturn\u001b[0m \u001b[0mrev\u001b[0m\u001b[0;34m\u001b[0m\u001b[0m\n",
      "\u001b[0;31mAttributeError\u001b[0m: 'str' object has no attribute 'pop'"
     ]
    }
   ],
   "source": [
    "list_reverse('hi')"
   ]
  },
  {
   "cell_type": "code",
   "execution_count": null,
   "metadata": {
    "collapsed": false
   },
   "outputs": [],
   "source": [
    "list_reverse(3)"
   ]
  },
  {
   "cell_type": "code",
   "execution_count": null,
   "metadata": {
    "collapsed": false
   },
   "outputs": [],
   "source": [
    "list_reverse(3.0)"
   ]
  },
  {
   "cell_type": "code",
   "execution_count": null,
   "metadata": {
    "collapsed": false
   },
   "outputs": [],
   "source": [
    "list_reverse((3,2))"
   ]
  },
  {
   "cell_type": "code",
   "execution_count": null,
   "metadata": {
    "collapsed": false
   },
   "outputs": [],
   "source": [
    "list_reverse({'k': [2,3,4],'n': 4})"
   ]
  },
  {
   "cell_type": "markdown",
   "metadata": {},
   "source": [
    "### 2.2\n",
    "\n",
    "I first attempted to use a recursive approach, but I could not figure out why my code only returned a boolean when the element was exactly in the middle on the first iteration, so I used a while loop instead. The attempted recursive approach is included in the appendix at the end of the homework.\n"
   ]
  },
  {
   "cell_type": "code",
   "execution_count": null,
   "metadata": {
    "collapsed": false
   },
   "outputs": [],
   "source": [
    "def binary_search(t,elmt):\n",
    "    \n",
    "    #Check if elmt is an integer\n",
    "    if type(elmt)!=int:\n",
    "        raise TypeError('elmt must be an integer')\n",
    "    #We assume t is a sorted list of integers, so no need to check\n",
    " \n",
    "    #start the search if the list entered is not empty. if not, return false\n",
    "    while len(t)>0:\n",
    "        #print(t) #for error checking purposes.\n",
    "        '''Because of 0 indexing:\n",
    "                for odd number length list, the middle is the floor of half the length \n",
    "                (ex: int(13/2)=6, which in 0-indexing is the 7th element sandwiched between 6 elements less than\n",
    "                and greater than itself)\n",
    "            \n",
    "                for even length list, the middle will be one of 2 elements. this function picks the lower index.\n",
    "        '''\n",
    "        if len(t)%2==0:\n",
    "            ind=int(len(t)/2)-1\n",
    "        else:\n",
    "            ind=int(len(t)/2)\n",
    "        #print(ind) #for error checking purposes   \n",
    "        \n",
    "        #Check if the middle element of the list equals elmt\n",
    "        if elmt==t[ind]:\n",
    "            return True\n",
    "        elif elmt<t[ind]: #if the element we are looking for is less than the middle, keep everything less than the middle element\n",
    "            t=t[:ind]\n",
    "        elif elmt>t[ind]: #if the element we are looking for is greater than the middle, keep everything greater than the middle element\n",
    "            t=t[ind+1:]\n",
    "    return False"
   ]
  },
  {
   "cell_type": "markdown",
   "metadata": {},
   "source": [
    "Some test cases follow:"
   ]
  },
  {
   "cell_type": "code",
   "execution_count": null,
   "metadata": {
    "collapsed": false
   },
   "outputs": [],
   "source": [
    "binary_search([],3)"
   ]
  },
  {
   "cell_type": "code",
   "execution_count": null,
   "metadata": {
    "collapsed": false
   },
   "outputs": [],
   "source": [
    "binary_search([],'b')"
   ]
  },
  {
   "cell_type": "code",
   "execution_count": null,
   "metadata": {
    "collapsed": false
   },
   "outputs": [],
   "source": [
    "print(binary_search([-3,-2,-1,0,1,2,3,4,5,6],6))\n",
    "print(binary_search([-5,-4,-3,-2,-1,0,1,2,3,4,5,6,100],-3))\n",
    "print(binary_search([-5,-4,-3,-2,-1,0,1,2,3,4,5,6,100],1))\n",
    "print(binary_search([-5,-4,-3,-2,-1,0,1,2,3,4,5,6,100],9))"
   ]
  },
  {
   "cell_type": "markdown",
   "metadata": {},
   "source": [
    "### Problem 3: More Fun with Strings\n",
    "\n",
    "#### 3.1"
   ]
  },
  {
   "cell_type": "code",
   "execution_count": null,
   "metadata": {
    "collapsed": true
   },
   "outputs": [],
   "source": [
    "#Following 9.1 of Severance\n",
    "\n",
    "def char_hist(string):\n",
    "    string=string.lower()\n",
    "    d=dict()\n",
    "    for c in string: #traverse each character of string\n",
    "        if c not in d: #if character is not already in the dictionary, then initialize it in the dictionary\n",
    "            d[c]=1\n",
    "        else: #if the character is, then add on to the count\n",
    "            d[c]=d[c]+1 \n",
    "            \n",
    "    return(d)"
   ]
  },
  {
   "cell_type": "markdown",
   "metadata": {},
   "source": [
    "Some test cases follow:"
   ]
  },
  {
   "cell_type": "code",
   "execution_count": null,
   "metadata": {
    "collapsed": false
   },
   "outputs": [],
   "source": [
    "char_hist('HELLO \\thello')"
   ]
  },
  {
   "cell_type": "code",
   "execution_count": null,
   "metadata": {
    "collapsed": false
   },
   "outputs": [],
   "source": [
    "char_hist('ß Yellow ! Othelllo O\\tthel 10 20 T\\n')"
   ]
  },
  {
   "cell_type": "code",
   "execution_count": null,
   "metadata": {
    "collapsed": true
   },
   "outputs": [],
   "source": [
    "def bigram_hist(string):\n",
    "    string=string.lower()\n",
    "    d=dict()\n",
    "    \n",
    "    for i in range(len(string)-1):\n",
    "        bigram=tuple(string[i:i+2])\n",
    "        \n",
    "        '''From this point on, we are following char_hist, where instead of c as one character, \n",
    "        we use bigram which is a 2-tuple with 2 characters'''\n",
    "        \n",
    "        if bigram not in d:\n",
    "            d[bigram]=1\n",
    "        else:\n",
    "            d[bigram]=d[bigram]+1\n",
    "            \n",
    "        \n",
    "    return d"
   ]
  },
  {
   "cell_type": "markdown",
   "metadata": {},
   "source": [
    "Some test cases follow:"
   ]
  },
  {
   "cell_type": "code",
   "execution_count": null,
   "metadata": {
    "collapsed": false
   },
   "outputs": [],
   "source": [
    "bigram_hist('cat, dog\\nCaT, dog  ct')"
   ]
  },
  {
   "cell_type": "code",
   "execution_count": null,
   "metadata": {
    "collapsed": false
   },
   "outputs": [],
   "source": [
    "bigram_hist('mississippi')"
   ]
  },
  {
   "cell_type": "markdown",
   "metadata": {},
   "source": [
    "### Problem 4: Tuples as Vectors\n",
    "\n",
    "I define $\\tt is\\_float\\_int$ to check if an input is integers and floats. I include $\\tt is\\_float\\_int$ in $\\tt is\\_num\\_tuple$ to check if a tuple contains all integers and floats.\n"
   ]
  },
  {
   "cell_type": "code",
   "execution_count": 21,
   "metadata": {
    "collapsed": true
   },
   "outputs": [],
   "source": [
    "def is_float_int(c):\n",
    "    if (type(c)==float) or (type(c)==int):\n",
    "        return True\n",
    "\n",
    "    return False        "
   ]
  },
  {
   "cell_type": "code",
   "execution_count": 22,
   "metadata": {
    "collapsed": true
   },
   "outputs": [],
   "source": [
    "def is_num_tuple(t):\n",
    "    for i in range(len(t)):\n",
    "        if is_float_int(t[i])==False:\n",
    "            return False\n",
    "    return True    "
   ]
  },
  {
   "cell_type": "markdown",
   "metadata": {},
   "source": [
    "Some test cases follow:"
   ]
  },
  {
   "cell_type": "code",
   "execution_count": 23,
   "metadata": {
    "collapsed": false
   },
   "outputs": [
    {
     "name": "stdout",
     "output_type": "stream",
     "text": [
      "True\n",
      "True\n",
      "False\n",
      "False\n"
     ]
    }
   ],
   "source": [
    "print(is_float_int(3))\n",
    "print(is_float_int(3.1))\n",
    "print(is_float_int('3'))\n",
    "print(is_float_int('yo'))"
   ]
  },
  {
   "cell_type": "code",
   "execution_count": 24,
   "metadata": {
    "collapsed": false
   },
   "outputs": [
    {
     "name": "stdout",
     "output_type": "stream",
     "text": [
      "True\n",
      "False\n"
     ]
    }
   ],
   "source": [
    "print(is_num_tuple((3,4.0)))\n",
    "print(is_num_tuple((3,'3',4.0)))"
   ]
  },
  {
   "cell_type": "markdown",
   "metadata": {},
   "source": [
    "### 4.1\n",
    "\n",
    "If the defined functions above find that inputs are not floats or integers, the $\\tt vec\\_scalar\\_mult$ raises TypeErrors. We initialize an empty tuple, and replace it with another (as noted at the end of 10.1 of Severance)."
   ]
  },
  {
   "cell_type": "code",
   "execution_count": 25,
   "metadata": {
    "collapsed": false
   },
   "outputs": [],
   "source": [
    "def vec_scalar_mult(t,s):\n",
    "    if is_float_int(s)==False:\n",
    "        raise TypeError('Input s needs to be a float or int')\n",
    "    if is_num_tuple(t)==False:\n",
    "        raise TypeError('Input tuple t contains entries of types other than float or int')\n",
    "    new_t=()\n",
    "    for i in range(len(t)):\n",
    "        new_t=new_t+(s*t[i],)\n",
    "    return new_t"
   ]
  },
  {
   "cell_type": "markdown",
   "metadata": {},
   "source": [
    "Some test cases follow:"
   ]
  },
  {
   "cell_type": "code",
   "execution_count": 26,
   "metadata": {
    "collapsed": false
   },
   "outputs": [
    {
     "ename": "TypeError",
     "evalue": "Input tuple t contains entries of types other than float or int",
     "output_type": "error",
     "traceback": [
      "\u001b[0;31m---------------------------------------------------------------------------\u001b[0m",
      "\u001b[0;31mTypeError\u001b[0m                                 Traceback (most recent call last)",
      "\u001b[0;32m<ipython-input-26-4ac190861253>\u001b[0m in \u001b[0;36m<module>\u001b[0;34m()\u001b[0m\n\u001b[0;32m----> 1\u001b[0;31m \u001b[0mvec_scalar_mult\u001b[0m\u001b[0;34m(\u001b[0m\u001b[0;34m(\u001b[0m\u001b[0;34m'3'\u001b[0m\u001b[0;34m,\u001b[0m\u001b[0;36m4\u001b[0m\u001b[0;34m)\u001b[0m\u001b[0;34m,\u001b[0m\u001b[0;36m3\u001b[0m\u001b[0;34m)\u001b[0m\u001b[0;34m\u001b[0m\u001b[0m\n\u001b[0m",
      "\u001b[0;32m<ipython-input-25-2231ca007769>\u001b[0m in \u001b[0;36mvec_scalar_mult\u001b[0;34m(t, s)\u001b[0m\n\u001b[1;32m      3\u001b[0m         \u001b[0;32mraise\u001b[0m \u001b[0mTypeError\u001b[0m\u001b[0;34m(\u001b[0m\u001b[0;34m'Input s needs to be a float or int'\u001b[0m\u001b[0;34m)\u001b[0m\u001b[0;34m\u001b[0m\u001b[0m\n\u001b[1;32m      4\u001b[0m     \u001b[0;32mif\u001b[0m \u001b[0mis_num_tuple\u001b[0m\u001b[0;34m(\u001b[0m\u001b[0mt\u001b[0m\u001b[0;34m)\u001b[0m\u001b[0;34m==\u001b[0m\u001b[0;32mFalse\u001b[0m\u001b[0;34m:\u001b[0m\u001b[0;34m\u001b[0m\u001b[0m\n\u001b[0;32m----> 5\u001b[0;31m         \u001b[0;32mraise\u001b[0m \u001b[0mTypeError\u001b[0m\u001b[0;34m(\u001b[0m\u001b[0;34m'Input tuple t contains entries of types other than float or int'\u001b[0m\u001b[0;34m)\u001b[0m\u001b[0;34m\u001b[0m\u001b[0m\n\u001b[0m\u001b[1;32m      6\u001b[0m     \u001b[0mnew_t\u001b[0m\u001b[0;34m=\u001b[0m\u001b[0;34m(\u001b[0m\u001b[0;34m)\u001b[0m\u001b[0;34m\u001b[0m\u001b[0m\n\u001b[1;32m      7\u001b[0m     \u001b[0;32mfor\u001b[0m \u001b[0mi\u001b[0m \u001b[0;32min\u001b[0m \u001b[0mrange\u001b[0m\u001b[0;34m(\u001b[0m\u001b[0mlen\u001b[0m\u001b[0;34m(\u001b[0m\u001b[0mt\u001b[0m\u001b[0;34m)\u001b[0m\u001b[0;34m)\u001b[0m\u001b[0;34m:\u001b[0m\u001b[0;34m\u001b[0m\u001b[0m\n",
      "\u001b[0;31mTypeError\u001b[0m: Input tuple t contains entries of types other than float or int"
     ]
    }
   ],
   "source": [
    "vec_scalar_mult(('3',4),3)"
   ]
  },
  {
   "cell_type": "code",
   "execution_count": 27,
   "metadata": {
    "collapsed": false
   },
   "outputs": [
    {
     "data": {
      "text/plain": [
       "(15, 25, 35)"
      ]
     },
     "execution_count": 27,
     "metadata": {},
     "output_type": "execute_result"
    }
   ],
   "source": [
    "vec_scalar_mult((3,5,7),5)"
   ]
  },
  {
   "cell_type": "markdown",
   "metadata": {},
   "source": [
    "### 4.2\n",
    "\n"
   ]
  },
  {
   "cell_type": "code",
   "execution_count": 28,
   "metadata": {
    "collapsed": true
   },
   "outputs": [],
   "source": [
    "def vec_inner_product(t1,t2):\n",
    "    #Check valid inputs\n",
    "    if type(t1)!=tuple or type(t2)!=tuple:\n",
    "        raise TypeError('Input t1 and t2 must both be tuples')\n",
    "    if is_num_tuple(t1)==False or is_num_tuple(t2)==False:\n",
    "        raise TypeError('Input tuple t1 and t2 must contain entries of either float or int')\n",
    "    if len(t1)!=len(t2):\n",
    "        raise ValueError('Tuples t1 and t2 must be the same length')\n",
    "    \n",
    "    vip=()\n",
    "    for i in range(len(t1)):\n",
    "        vip=vip+(t1[i]*t2[i],)\n",
    "    return sum(vip)"
   ]
  },
  {
   "cell_type": "markdown",
   "metadata": {},
   "source": [
    "Some test cases follow:"
   ]
  },
  {
   "cell_type": "code",
   "execution_count": 29,
   "metadata": {
    "collapsed": false
   },
   "outputs": [
    {
     "data": {
      "text/plain": [
       "67.19999999999999"
      ]
     },
     "execution_count": 29,
     "metadata": {},
     "output_type": "execute_result"
    }
   ],
   "source": [
    "vec_inner_product((3,5.8),(5,9))"
   ]
  },
  {
   "cell_type": "code",
   "execution_count": 30,
   "metadata": {
    "collapsed": false
   },
   "outputs": [
    {
     "ename": "ValueError",
     "evalue": "Tuples t1 and t2 must be the same length",
     "output_type": "error",
     "traceback": [
      "\u001b[0;31m---------------------------------------------------------------------------\u001b[0m",
      "\u001b[0;31mValueError\u001b[0m                                Traceback (most recent call last)",
      "\u001b[0;32m<ipython-input-30-b20c7ee76f9d>\u001b[0m in \u001b[0;36m<module>\u001b[0;34m()\u001b[0m\n\u001b[0;32m----> 1\u001b[0;31m \u001b[0mvec_inner_product\u001b[0m\u001b[0;34m(\u001b[0m\u001b[0;34m(\u001b[0m\u001b[0;36m3\u001b[0m\u001b[0;34m,\u001b[0m\u001b[0;36m5.8\u001b[0m\u001b[0;34m)\u001b[0m\u001b[0;34m,\u001b[0m\u001b[0;34m(\u001b[0m\u001b[0;36m5\u001b[0m\u001b[0;34m,\u001b[0m\u001b[0;36m9\u001b[0m\u001b[0;34m,\u001b[0m\u001b[0;36m3\u001b[0m\u001b[0;34m)\u001b[0m\u001b[0;34m)\u001b[0m\u001b[0;34m\u001b[0m\u001b[0m\n\u001b[0m",
      "\u001b[0;32m<ipython-input-28-79af1186f857>\u001b[0m in \u001b[0;36mvec_inner_product\u001b[0;34m(t1, t2)\u001b[0m\n\u001b[1;32m      6\u001b[0m         \u001b[0;32mraise\u001b[0m \u001b[0mTypeError\u001b[0m\u001b[0;34m(\u001b[0m\u001b[0;34m'Input tuple t1 and t2 must contain entries of either float or int'\u001b[0m\u001b[0;34m)\u001b[0m\u001b[0;34m\u001b[0m\u001b[0m\n\u001b[1;32m      7\u001b[0m     \u001b[0;32mif\u001b[0m \u001b[0mlen\u001b[0m\u001b[0;34m(\u001b[0m\u001b[0mt1\u001b[0m\u001b[0;34m)\u001b[0m\u001b[0;34m!=\u001b[0m\u001b[0mlen\u001b[0m\u001b[0;34m(\u001b[0m\u001b[0mt2\u001b[0m\u001b[0;34m)\u001b[0m\u001b[0;34m:\u001b[0m\u001b[0;34m\u001b[0m\u001b[0m\n\u001b[0;32m----> 8\u001b[0;31m         \u001b[0;32mraise\u001b[0m \u001b[0mValueError\u001b[0m\u001b[0;34m(\u001b[0m\u001b[0;34m'Tuples t1 and t2 must be the same length'\u001b[0m\u001b[0;34m)\u001b[0m\u001b[0;34m\u001b[0m\u001b[0m\n\u001b[0m\u001b[1;32m      9\u001b[0m \u001b[0;34m\u001b[0m\u001b[0m\n\u001b[1;32m     10\u001b[0m     \u001b[0mvip\u001b[0m\u001b[0;34m=\u001b[0m\u001b[0;34m(\u001b[0m\u001b[0;34m)\u001b[0m\u001b[0;34m\u001b[0m\u001b[0m\n",
      "\u001b[0;31mValueError\u001b[0m: Tuples t1 and t2 must be the same length"
     ]
    }
   ],
   "source": [
    "vec_inner_product((3,5.8),(5,9,3))"
   ]
  },
  {
   "cell_type": "code",
   "execution_count": 31,
   "metadata": {
    "collapsed": false
   },
   "outputs": [
    {
     "ename": "TypeError",
     "evalue": "Input tuple t1 and t2 must contain entries of either float or int",
     "output_type": "error",
     "traceback": [
      "\u001b[0;31m---------------------------------------------------------------------------\u001b[0m",
      "\u001b[0;31mTypeError\u001b[0m                                 Traceback (most recent call last)",
      "\u001b[0;32m<ipython-input-31-6a6285a957a0>\u001b[0m in \u001b[0;36m<module>\u001b[0;34m()\u001b[0m\n\u001b[0;32m----> 1\u001b[0;31m \u001b[0mvec_inner_product\u001b[0m\u001b[0;34m(\u001b[0m\u001b[0;34m(\u001b[0m\u001b[0;36m3\u001b[0m\u001b[0;34m,\u001b[0m\u001b[0;34m'a'\u001b[0m\u001b[0;34m)\u001b[0m\u001b[0;34m,\u001b[0m\u001b[0;34m(\u001b[0m\u001b[0;36m5\u001b[0m\u001b[0;34m,\u001b[0m\u001b[0;36m9\u001b[0m\u001b[0;34m)\u001b[0m\u001b[0;34m)\u001b[0m\u001b[0;34m\u001b[0m\u001b[0m\n\u001b[0m",
      "\u001b[0;32m<ipython-input-28-79af1186f857>\u001b[0m in \u001b[0;36mvec_inner_product\u001b[0;34m(t1, t2)\u001b[0m\n\u001b[1;32m      4\u001b[0m         \u001b[0;32mraise\u001b[0m \u001b[0mTypeError\u001b[0m\u001b[0;34m(\u001b[0m\u001b[0;34m'Input t1 and t2 must both be tuples'\u001b[0m\u001b[0;34m)\u001b[0m\u001b[0;34m\u001b[0m\u001b[0m\n\u001b[1;32m      5\u001b[0m     \u001b[0;32mif\u001b[0m \u001b[0mis_num_tuple\u001b[0m\u001b[0;34m(\u001b[0m\u001b[0mt1\u001b[0m\u001b[0;34m)\u001b[0m\u001b[0;34m==\u001b[0m\u001b[0;32mFalse\u001b[0m \u001b[0;32mor\u001b[0m \u001b[0mis_num_tuple\u001b[0m\u001b[0;34m(\u001b[0m\u001b[0mt2\u001b[0m\u001b[0;34m)\u001b[0m\u001b[0;34m==\u001b[0m\u001b[0;32mFalse\u001b[0m\u001b[0;34m:\u001b[0m\u001b[0;34m\u001b[0m\u001b[0m\n\u001b[0;32m----> 6\u001b[0;31m         \u001b[0;32mraise\u001b[0m \u001b[0mTypeError\u001b[0m\u001b[0;34m(\u001b[0m\u001b[0;34m'Input tuple t1 and t2 must contain entries of either float or int'\u001b[0m\u001b[0;34m)\u001b[0m\u001b[0;34m\u001b[0m\u001b[0m\n\u001b[0m\u001b[1;32m      7\u001b[0m     \u001b[0;32mif\u001b[0m \u001b[0mlen\u001b[0m\u001b[0;34m(\u001b[0m\u001b[0mt1\u001b[0m\u001b[0;34m)\u001b[0m\u001b[0;34m!=\u001b[0m\u001b[0mlen\u001b[0m\u001b[0;34m(\u001b[0m\u001b[0mt2\u001b[0m\u001b[0;34m)\u001b[0m\u001b[0;34m:\u001b[0m\u001b[0;34m\u001b[0m\u001b[0m\n\u001b[1;32m      8\u001b[0m         \u001b[0;32mraise\u001b[0m \u001b[0mValueError\u001b[0m\u001b[0;34m(\u001b[0m\u001b[0;34m'Tuples t1 and t2 must be the same length'\u001b[0m\u001b[0;34m)\u001b[0m\u001b[0;34m\u001b[0m\u001b[0m\n",
      "\u001b[0;31mTypeError\u001b[0m: Input tuple t1 and t2 must contain entries of either float or int"
     ]
    }
   ],
   "source": [
    "vec_inner_product((3,'a'),(5,9))"
   ]
  },
  {
   "cell_type": "code",
   "execution_count": 32,
   "metadata": {
    "collapsed": false
   },
   "outputs": [
    {
     "ename": "TypeError",
     "evalue": "Input t1 and t2 must both be tuples",
     "output_type": "error",
     "traceback": [
      "\u001b[0;31m---------------------------------------------------------------------------\u001b[0m",
      "\u001b[0;31mTypeError\u001b[0m                                 Traceback (most recent call last)",
      "\u001b[0;32m<ipython-input-32-f5a43ebecaa7>\u001b[0m in \u001b[0;36m<module>\u001b[0;34m()\u001b[0m\n\u001b[0;32m----> 1\u001b[0;31m \u001b[0mvec_inner_product\u001b[0m\u001b[0;34m(\u001b[0m\u001b[0;34m')'\u001b[0m\u001b[0;34m,\u001b[0m\u001b[0;34m(\u001b[0m\u001b[0;36m5\u001b[0m\u001b[0;34m,\u001b[0m\u001b[0;36m9\u001b[0m\u001b[0;34m)\u001b[0m\u001b[0;34m)\u001b[0m\u001b[0;34m\u001b[0m\u001b[0m\n\u001b[0m",
      "\u001b[0;32m<ipython-input-28-79af1186f857>\u001b[0m in \u001b[0;36mvec_inner_product\u001b[0;34m(t1, t2)\u001b[0m\n\u001b[1;32m      2\u001b[0m     \u001b[0;31m#Check valid inputs\u001b[0m\u001b[0;34m\u001b[0m\u001b[0;34m\u001b[0m\u001b[0m\n\u001b[1;32m      3\u001b[0m     \u001b[0;32mif\u001b[0m \u001b[0mtype\u001b[0m\u001b[0;34m(\u001b[0m\u001b[0mt1\u001b[0m\u001b[0;34m)\u001b[0m\u001b[0;34m!=\u001b[0m\u001b[0mtuple\u001b[0m \u001b[0;32mor\u001b[0m \u001b[0mtype\u001b[0m\u001b[0;34m(\u001b[0m\u001b[0mt2\u001b[0m\u001b[0;34m)\u001b[0m\u001b[0;34m!=\u001b[0m\u001b[0mtuple\u001b[0m\u001b[0;34m:\u001b[0m\u001b[0;34m\u001b[0m\u001b[0m\n\u001b[0;32m----> 4\u001b[0;31m         \u001b[0;32mraise\u001b[0m \u001b[0mTypeError\u001b[0m\u001b[0;34m(\u001b[0m\u001b[0;34m'Input t1 and t2 must both be tuples'\u001b[0m\u001b[0;34m)\u001b[0m\u001b[0;34m\u001b[0m\u001b[0m\n\u001b[0m\u001b[1;32m      5\u001b[0m     \u001b[0;32mif\u001b[0m \u001b[0mis_num_tuple\u001b[0m\u001b[0;34m(\u001b[0m\u001b[0mt1\u001b[0m\u001b[0;34m)\u001b[0m\u001b[0;34m==\u001b[0m\u001b[0;32mFalse\u001b[0m \u001b[0;32mor\u001b[0m \u001b[0mis_num_tuple\u001b[0m\u001b[0;34m(\u001b[0m\u001b[0mt2\u001b[0m\u001b[0;34m)\u001b[0m\u001b[0;34m==\u001b[0m\u001b[0;32mFalse\u001b[0m\u001b[0;34m:\u001b[0m\u001b[0;34m\u001b[0m\u001b[0m\n\u001b[1;32m      6\u001b[0m         \u001b[0;32mraise\u001b[0m \u001b[0mTypeError\u001b[0m\u001b[0;34m(\u001b[0m\u001b[0;34m'Input tuple t1 and t2 must contain entries of either float or int'\u001b[0m\u001b[0;34m)\u001b[0m\u001b[0;34m\u001b[0m\u001b[0m\n",
      "\u001b[0;31mTypeError\u001b[0m: Input t1 and t2 must both be tuples"
     ]
    }
   ],
   "source": [
    "vec_inner_product(')',(5,9))"
   ]
  },
  {
   "cell_type": "markdown",
   "metadata": {},
   "source": [
    "### 4.3\n",
    "\n",
    "When we check for same length, we look at two adjacent tuples and compare their lengths and do this for all elements in the $\\tt mat$ tuple. It also compares the 0th and last element. I would assume this would be inefficient for large matrices, and it might be faster to get the use a set of all lengths of tuples and see if the set is size 1."
   ]
  },
  {
   "cell_type": "code",
   "execution_count": 33,
   "metadata": {
    "collapsed": true
   },
   "outputs": [],
   "source": [
    "def check_valid_mx(mat):\n",
    "    if type(mat)!=tuple:\n",
    "        raise TypeError('Input must be a tuple')\n",
    "    for i in range(len(mat)):\n",
    "        #check if each \"row\" of mat is a tuple, checks if left adjacent tuple is same length, \n",
    "        #and checks if entries in each tuple is a float or integer\n",
    "        if type(mat[i])!=tuple or len(mat[i])!=len(mat[i-1]) or is_num_tuple(mat[i])==False:\n",
    "            return False\n",
    "    return True"
   ]
  },
  {
   "cell_type": "markdown",
   "metadata": {},
   "source": [
    "Some test cases follow:"
   ]
  },
  {
   "cell_type": "code",
   "execution_count": 34,
   "metadata": {
    "collapsed": false
   },
   "outputs": [
    {
     "name": "stdout",
     "output_type": "stream",
     "text": [
      "False\n",
      "False\n"
     ]
    }
   ],
   "source": [
    "print(check_valid_mx(((1,2,3),(4,5,6),'a')))\n",
    "print(check_valid_mx(((1,2),(4,5,6),(7,8,9.0))))"
   ]
  },
  {
   "cell_type": "code",
   "execution_count": 35,
   "metadata": {
    "collapsed": false
   },
   "outputs": [
    {
     "name": "stdout",
     "output_type": "stream",
     "text": [
      "True\n",
      "True\n"
     ]
    }
   ],
   "source": [
    "print(check_valid_mx(((1,2,3),(4,5,6),(7,8,9))))\n",
    "print(check_valid_mx(((1,2,3),(4,5,6),(7,8,9.0))))"
   ]
  },
  {
   "cell_type": "markdown",
   "metadata": {},
   "source": [
    "### 4.4\n",
    "\n",
    "When we consider row vectors and column vectors, we would need to account for left and right multiplication. However, for this problem, we only consider column vectors. The appendix includes a function that applies to column and row vectors. We need to see if the length of the column vector has dimensions equal the number of columns of the matrix.\n",
    "\n",
    "##### Example cases\n",
    "\n",
    "$\\underbrace{\\left[\\begin{array}{cc}a & b\\\\c & d\\\\e & f\\end{array}\\right]}_{3\\times2}\\underbrace{\\left[\\begin{array}{c}x\\\\y\\end{array}\\right]}_{2\\times1}=\\underbrace{\\left[\\begin{array}{c}ax+by\\\\cx+dy\\\\ex+fy\\end{array}\\right]}_{3\\times1}$\n",
    "\n",
    "$\\underbrace{\\left[\\begin{array}{ccc}\n",
    "a & b & c\\\\\n",
    "d & e & f\\\\\n",
    "g & h & i\n",
    "\\end{array}\\right]}_{3\\times3}\\underbrace{\\left[\\begin{array}{c}\n",
    "x\\\\\n",
    "y\\\\\n",
    "z\n",
    "\\end{array}\\right]}_{3\\times1}=\\underbrace{\\left[\\begin{array}{c}\n",
    "ax+by+cz\\\\\n",
    "dx+ey+fz\\\\\n",
    "gx+hy+iz\n",
    "\\end{array}\\right]}_{3\\times1}$"
   ]
  },
  {
   "cell_type": "code",
   "execution_count": 75,
   "metadata": {
    "collapsed": true
   },
   "outputs": [],
   "source": [
    "def mx_vect_mult(mat,vec):\n",
    "    #Check for invalid inputs\n",
    "    if check_valid_mx(mat)==False:\n",
    "        raise ValueError('Input mat is not a valid matrix')\n",
    "    if is_num_tuple(vec)==False:\n",
    "        raise ValueError('Input is neither a tuple nor a tuple containing elements of type float or int')\n",
    "    if len(vec)!=len(mat[0]): #length of vector same dim as col of mat\n",
    "        raise ValueError('Length of vector must equal to column length of matrix')\n",
    "        \n",
    "    prod=()\n",
    "    #Matrix*Vector, mxn and nx1. also works when m=n.\n",
    "    if len(vec)==len(mat[0]):\n",
    "        for i in range(len(mat)):\n",
    "            prod=prod+(vec_inner_product(mat[i],vec),)\n",
    "    else:\n",
    "        print('Operation not valid') #In case the checks are somehow bypassed\n",
    "        \n",
    "    return prod"
   ]
  },
  {
   "cell_type": "markdown",
   "metadata": {},
   "source": [
    "Some test cases follow:"
   ]
  },
  {
   "cell_type": "markdown",
   "metadata": {},
   "source": [
    "$\\underbrace{\\left[\\begin{array}{cc}\n",
    "1 & 2\\\\\n",
    "3 & 4\\\\\n",
    "5 & 6\n",
    "\\end{array}\\right]}_{3\\times2}\\underbrace{\\left[\\begin{array}{c}\n",
    "10\\\\\n",
    "10\n",
    "\\end{array}\\right]}_{2\\times1}=\\underbrace{\\left[\\begin{array}{c}\n",
    "10+20\\\\\n",
    "30+40\\\\\n",
    "50+60\n",
    "\\end{array}\\right]}_{3\\times1}$"
   ]
  },
  {
   "cell_type": "code",
   "execution_count": 76,
   "metadata": {
    "collapsed": false
   },
   "outputs": [
    {
     "data": {
      "text/plain": [
       "(30, 70, 110)"
      ]
     },
     "execution_count": 76,
     "metadata": {},
     "output_type": "execute_result"
    }
   ],
   "source": [
    "mx_vect_mult(((1,2),(3,4),(5,6)),(10,10))"
   ]
  },
  {
   "cell_type": "markdown",
   "metadata": {},
   "source": [
    "$\\underbrace{\\left[\\begin{array}{ccc}\n",
    "1 & 2 & 3\\\\\n",
    "4 & 5 & 6\n",
    "\\end{array}\\right]}_{2\\times3}\\underbrace{\\left[\\begin{array}{c}\n",
    "10\\\\\n",
    "10\\\\\n",
    "10\n",
    "\\end{array}\\right]}_{3\\times1}=\\underbrace{\\left[\\begin{array}{c}\n",
    "10+20+30\\\\\n",
    "40+50+60\n",
    "\\end{array}\\right]}_{2\\times1}$"
   ]
  },
  {
   "cell_type": "code",
   "execution_count": 77,
   "metadata": {
    "collapsed": false
   },
   "outputs": [
    {
     "data": {
      "text/plain": [
       "(60, 150)"
      ]
     },
     "execution_count": 77,
     "metadata": {},
     "output_type": "execute_result"
    }
   ],
   "source": [
    "mx_vect_mult(((1,2,3),(4,5,6)),(10,10,10))"
   ]
  },
  {
   "cell_type": "markdown",
   "metadata": {},
   "source": [
    "$\\underbrace{\\left[\\begin{array}{ccc}\n",
    "10 & 10 & 10\\end{array}\\right]}_{1\\times3}\\underbrace{\\left[\\begin{array}{ccc}\n",
    "1 & 2 & 3\\\\\n",
    "4 & 5 & 6\\\\\n",
    "7 & 8 & 9\n",
    "\\end{array}\\right]}_{3\\times3}\\neq\\underbrace{\\left[\\begin{array}{ccc}\n",
    "1 & 2 & 3\\\\\n",
    "4 & 5 & 6\\\\\n",
    "7 & 8 & 9\n",
    "\\end{array}\\right]}_{3\\times3}\\underbrace{\\left[\\begin{array}{c}\n",
    "10\\\\\n",
    "10\\\\\n",
    "10\n",
    "\\end{array}\\right]}_{3\\times1}$\n",
    "\n",
    "$\\left[\\begin{array}{ccc}\n",
    "10+40+70, & 20+50+80, & 30+60+90\\end{array}\\right]\\neq\\left[\\begin{array}{c}\n",
    "10+20+30\\\\\n",
    "40+50+60\\\\\n",
    "70+80+90\n",
    "\\end{array}\\right]$"
   ]
  },
  {
   "cell_type": "code",
   "execution_count": 78,
   "metadata": {
    "collapsed": false
   },
   "outputs": [
    {
     "data": {
      "text/plain": [
       "(60, 150, 240)"
      ]
     },
     "execution_count": 78,
     "metadata": {},
     "output_type": "execute_result"
    }
   ],
   "source": [
    "mx_vect_mult(((1,2,3),(4,5,6),(7,8,9)),(10,10,10))"
   ]
  },
  {
   "cell_type": "markdown",
   "metadata": {},
   "source": [
    "Implicit multiplication of row vectors raise errors"
   ]
  },
  {
   "cell_type": "code",
   "execution_count": 79,
   "metadata": {
    "collapsed": false,
    "scrolled": false
   },
   "outputs": [
    {
     "ename": "ValueError",
     "evalue": "Length of vector must equal to column length of matrix",
     "output_type": "error",
     "traceback": [
      "\u001b[0;31m---------------------------------------------------------------------------\u001b[0m",
      "\u001b[0;31mValueError\u001b[0m                                Traceback (most recent call last)",
      "\u001b[0;32m<ipython-input-79-e8acce3031f2>\u001b[0m in \u001b[0;36m<module>\u001b[0;34m()\u001b[0m\n\u001b[0;32m----> 1\u001b[0;31m \u001b[0mmx_vect_mult\u001b[0m\u001b[0;34m(\u001b[0m\u001b[0;34m(\u001b[0m\u001b[0;34m(\u001b[0m\u001b[0;36m1\u001b[0m\u001b[0;34m,\u001b[0m\u001b[0;36m2\u001b[0m\u001b[0;34m)\u001b[0m\u001b[0;34m,\u001b[0m\u001b[0;34m(\u001b[0m\u001b[0;36m3\u001b[0m\u001b[0;34m,\u001b[0m\u001b[0;36m4\u001b[0m\u001b[0;34m)\u001b[0m\u001b[0;34m,\u001b[0m\u001b[0;34m(\u001b[0m\u001b[0;36m5\u001b[0m\u001b[0;34m,\u001b[0m\u001b[0;36m6\u001b[0m\u001b[0;34m)\u001b[0m\u001b[0;34m)\u001b[0m\u001b[0;34m,\u001b[0m\u001b[0;34m(\u001b[0m\u001b[0;36m10\u001b[0m\u001b[0;34m,\u001b[0m\u001b[0;36m10\u001b[0m\u001b[0;34m,\u001b[0m\u001b[0;36m10\u001b[0m\u001b[0;34m)\u001b[0m\u001b[0;34m)\u001b[0m\u001b[0;34m\u001b[0m\u001b[0m\n\u001b[0m",
      "\u001b[0;32m<ipython-input-75-974c6e771105>\u001b[0m in \u001b[0;36mmx_vect_mult\u001b[0;34m(mat, vec)\u001b[0m\n\u001b[1;32m      6\u001b[0m         \u001b[0;32mraise\u001b[0m \u001b[0mValueError\u001b[0m\u001b[0;34m(\u001b[0m\u001b[0;34m'Input is neither a tuple nor a tuple containing elements of type float or int'\u001b[0m\u001b[0;34m)\u001b[0m\u001b[0;34m\u001b[0m\u001b[0m\n\u001b[1;32m      7\u001b[0m     \u001b[0;32mif\u001b[0m \u001b[0mlen\u001b[0m\u001b[0;34m(\u001b[0m\u001b[0mvec\u001b[0m\u001b[0;34m)\u001b[0m\u001b[0;34m!=\u001b[0m\u001b[0mlen\u001b[0m\u001b[0;34m(\u001b[0m\u001b[0mmat\u001b[0m\u001b[0;34m[\u001b[0m\u001b[0;36m0\u001b[0m\u001b[0;34m]\u001b[0m\u001b[0;34m)\u001b[0m\u001b[0;34m:\u001b[0m \u001b[0;31m#length of vector same dim as col of mat\u001b[0m\u001b[0;34m\u001b[0m\u001b[0m\n\u001b[0;32m----> 8\u001b[0;31m         \u001b[0;32mraise\u001b[0m \u001b[0mValueError\u001b[0m\u001b[0;34m(\u001b[0m\u001b[0;34m'Length of vector must equal to column length of matrix'\u001b[0m\u001b[0;34m)\u001b[0m\u001b[0;34m\u001b[0m\u001b[0m\n\u001b[0m\u001b[1;32m      9\u001b[0m \u001b[0;34m\u001b[0m\u001b[0m\n\u001b[1;32m     10\u001b[0m     \u001b[0mprod\u001b[0m\u001b[0;34m=\u001b[0m\u001b[0;34m(\u001b[0m\u001b[0;34m)\u001b[0m\u001b[0;34m\u001b[0m\u001b[0m\n",
      "\u001b[0;31mValueError\u001b[0m: Length of vector must equal to column length of matrix"
     ]
    }
   ],
   "source": [
    "mx_vect_mult(((1,2),(3,4),(5,6)),(10,10,10))"
   ]
  },
  {
   "cell_type": "code",
   "execution_count": 80,
   "metadata": {
    "collapsed": false
   },
   "outputs": [
    {
     "ename": "ValueError",
     "evalue": "Length of vector must equal to column length of matrix",
     "output_type": "error",
     "traceback": [
      "\u001b[0;31m---------------------------------------------------------------------------\u001b[0m",
      "\u001b[0;31mValueError\u001b[0m                                Traceback (most recent call last)",
      "\u001b[0;32m<ipython-input-80-6f90aa92c650>\u001b[0m in \u001b[0;36m<module>\u001b[0;34m()\u001b[0m\n\u001b[0;32m----> 1\u001b[0;31m \u001b[0mmx_vect_mult\u001b[0m\u001b[0;34m(\u001b[0m\u001b[0;34m(\u001b[0m\u001b[0;34m(\u001b[0m\u001b[0;36m1\u001b[0m\u001b[0;34m,\u001b[0m\u001b[0;36m2\u001b[0m\u001b[0;34m,\u001b[0m\u001b[0;36m3\u001b[0m\u001b[0;34m)\u001b[0m\u001b[0;34m,\u001b[0m\u001b[0;34m(\u001b[0m\u001b[0;36m4\u001b[0m\u001b[0;34m,\u001b[0m\u001b[0;36m5\u001b[0m\u001b[0;34m,\u001b[0m\u001b[0;36m6\u001b[0m\u001b[0;34m)\u001b[0m\u001b[0;34m)\u001b[0m\u001b[0;34m,\u001b[0m\u001b[0;34m(\u001b[0m\u001b[0;36m10\u001b[0m\u001b[0;34m,\u001b[0m\u001b[0;36m10\u001b[0m\u001b[0;34m)\u001b[0m\u001b[0;34m)\u001b[0m\u001b[0;34m\u001b[0m\u001b[0m\n\u001b[0m",
      "\u001b[0;32m<ipython-input-75-974c6e771105>\u001b[0m in \u001b[0;36mmx_vect_mult\u001b[0;34m(mat, vec)\u001b[0m\n\u001b[1;32m      6\u001b[0m         \u001b[0;32mraise\u001b[0m \u001b[0mValueError\u001b[0m\u001b[0;34m(\u001b[0m\u001b[0;34m'Input is neither a tuple nor a tuple containing elements of type float or int'\u001b[0m\u001b[0;34m)\u001b[0m\u001b[0;34m\u001b[0m\u001b[0m\n\u001b[1;32m      7\u001b[0m     \u001b[0;32mif\u001b[0m \u001b[0mlen\u001b[0m\u001b[0;34m(\u001b[0m\u001b[0mvec\u001b[0m\u001b[0;34m)\u001b[0m\u001b[0;34m!=\u001b[0m\u001b[0mlen\u001b[0m\u001b[0;34m(\u001b[0m\u001b[0mmat\u001b[0m\u001b[0;34m[\u001b[0m\u001b[0;36m0\u001b[0m\u001b[0;34m]\u001b[0m\u001b[0;34m)\u001b[0m\u001b[0;34m:\u001b[0m \u001b[0;31m#length of vector same dim as col of mat\u001b[0m\u001b[0;34m\u001b[0m\u001b[0m\n\u001b[0;32m----> 8\u001b[0;31m         \u001b[0;32mraise\u001b[0m \u001b[0mValueError\u001b[0m\u001b[0;34m(\u001b[0m\u001b[0;34m'Length of vector must equal to column length of matrix'\u001b[0m\u001b[0;34m)\u001b[0m\u001b[0;34m\u001b[0m\u001b[0m\n\u001b[0m\u001b[1;32m      9\u001b[0m \u001b[0;34m\u001b[0m\u001b[0m\n\u001b[1;32m     10\u001b[0m     \u001b[0mprod\u001b[0m\u001b[0;34m=\u001b[0m\u001b[0;34m(\u001b[0m\u001b[0;34m)\u001b[0m\u001b[0;34m\u001b[0m\u001b[0m\n",
      "\u001b[0;31mValueError\u001b[0m: Length of vector must equal to column length of matrix"
     ]
    }
   ],
   "source": [
    "mx_vect_mult(((1,2,3),(4,5,6)),(10,10))"
   ]
  },
  {
   "cell_type": "markdown",
   "metadata": {},
   "source": [
    "### Appendix\n",
    "\n",
    "2.2: This is the attempt at recursion, but only seems to give a boolean on the first run through."
   ]
  },
  {
   "cell_type": "code",
   "execution_count": null,
   "metadata": {
    "collapsed": true
   },
   "outputs": [],
   "source": [
    "def binary_search_rec(t,elmt):\n",
    "    if len(t)<=0:\n",
    "        return False\n",
    "    else:\n",
    "        print(t)\n",
    "        if len(t) % 2==0:\n",
    "            ind=int(len(t)/2)-1\n",
    "        elif len(t) % 2==1:\n",
    "            ind=int(len(t)/2)\n",
    "        print(ind)\n",
    "        if elmt==t[ind]:\n",
    "            return True\n",
    "        elif elmt<t[ind]:\n",
    "            binary_search_rec(t[:ind],elmt)\n",
    "        elif elmt>t[ind]:\n",
    "            binary_search_rec(t[ind+1:],elmt)"
   ]
  },
  {
   "cell_type": "code",
   "execution_count": null,
   "metadata": {
    "collapsed": false
   },
   "outputs": [],
   "source": [
    "print(binary_search_rec([1,2,3,4,5],3),'\\n')\n",
    "print(binary_search_rec([1,2,3,4,5,6],4),'\\n')\n",
    "print(binary_search_rec([1,2,3,4,5,6,7],2),'\\n')\n",
    "print(binary_search_rec([1,2,3,4,5],2),'\\n')"
   ]
  },
  {
   "cell_type": "markdown",
   "metadata": {
    "collapsed": true
   },
   "source": [
    "### 4.4\n",
    "\n",
    "We need to see if the length of the vector has dimensions equal to at least one of the matrix dimensions. If we have a square matrix, we need to include both left and right multiplication results.\n",
    "\n",
    "In the case of the square matrix, the function outputs the product with vector placed to the left of the matrix 1st, and the product with the vector placed on the right of the matrix 2nd.\n",
    "\n",
    "##### Example cases\n",
    "\n",
    "The first 2 cases, the multiplication in reverse order is not defined due to dimensions not matching.\n",
    "\n",
    "$\\underbrace{\\left[\\begin{array}{ccc}x & y & z\\end{array}\\right]}_{1\\times3}\\underbrace{\\left[\\begin{array}{cc}a & b\\\\c & d\\\\e & f\\end{array}\\right]}_{3\\times2}=\\underbrace{\\left[\\begin{array}{cc}ax+cy+ze & bx+dy+fz\\end{array}\\right]}_{1\\times2}$\n",
    "\n",
    "$\\underbrace{\\left[\\begin{array}{cc}a & b\\\\c & d\\\\e & f\\end{array}\\right]}_{3\\times2}\\underbrace{\\left[\\begin{array}{c}x\\\\y\\end{array}\\right]}_{2\\times1}=\\underbrace{\\left[\\begin{array}{c}ax+by\\\\cx+dy\\\\ex+fy\\end{array}\\right]}_{3\\times1}$\n",
    "\n",
    "$\\underbrace{\\left[\\begin{array}{ccc}x & y & z\\end{array}\\right]}_{1\\times3}\\underbrace{\\left[\\begin{array}{ccc}a & b & c\\\\d & e & f\\\\g & h & i\\end{array}\\right]}_{3\\times3}\\neq\\underbrace{\\left[\\begin{array}{ccc}a & b & c\\\\d & e & f\\\\g & h & i\\end{array}\\right]}_{3\\times3}\\underbrace{\\left[\\begin{array}{c}x\\\\y\\\\z\\end{array}\\right]}_{3\\times1}$\n",
    "\n",
    "$\\left[\\begin{array}{ccc}ax+dy+gz, & bx+ey+hz, & cx+fy+iz\\end{array}\\right]\\neq\\left[\\begin{array}{c}ax+by+cz\\\\dx+ey+fz\\\\gx+hy+iz\\end{array}\\right]$"
   ]
  },
  {
   "cell_type": "code",
   "execution_count": 58,
   "metadata": {
    "collapsed": true
   },
   "outputs": [],
   "source": [
    "def mx_vect_mult_lr(mat,vec):\n",
    "    #Check for invalid inputs\n",
    "    if check_valid_mx(mat)==False:\n",
    "        raise ValueError('Input mat is not a valid matrix')\n",
    "    if is_num_tuple(vec)==False:\n",
    "        raise ValueError('Input is neither a tuple nor a tuple containing elements of type float or int')\n",
    "    if len(vec)!=len(mat) and len(vec)!=len(mat[0]):\n",
    "        raise ValueError('Length of vector must equal to either column or row length of matrix')\n",
    "        \n",
    "    #Vector*Matrix, 1xm and mxn\n",
    "    if len(vec)==len(mat):\n",
    "        prod_vm=()\n",
    "        #The final vector will have the same number of entries as the number of columns of the matrix\n",
    "        for i in range(len(mat[0])):\n",
    "            term=0\n",
    "            for j in range(len(vec)): #We add up terms from each of the rows in the i'th column\n",
    "                term=term+vec[j]*mat[j][i]\n",
    "            prod_vm=prod_vm+(term,)\n",
    "    \n",
    "    #Matrix*Vector, mxn and nx1\n",
    "    if len(vec)==len(mat[0]):\n",
    "        prod_mv=()\n",
    "        for i in range(len(mat)):\n",
    "            prod_mv=prod_mv+(vec_inner_product(mat[i],vec),)\n",
    "        \n",
    "    if len(vec)==len(mat) and len(vec)==len(mat[0]): #For a square matrix, we have already calculated both\n",
    "        return (prod_vm,)+(prod_mv,)\n",
    "    elif len(vec)==len(mat) and len(vec)!=len(mat[0]):\n",
    "        return prod_vm\n",
    "    elif len(vec)!=len(mat) and len(vec)==len(mat[0]):\n",
    "        return prod_mv"
   ]
  },
  {
   "cell_type": "markdown",
   "metadata": {},
   "source": [
    "Some test cases follow:\n",
    "    \n",
    "$\\underbrace{\\left[\\begin{array}{ccc}10 & 10 & 10\\end{array}\\right]}_{1\\times3}\\underbrace{\\left[\\begin{array}{cc}1 & 2\\\\3 & 4\\\\5 & 6\\end{array}\\right]}_{3\\times2}=\\underbrace{\\left[\\begin{array}{cc}10+30+50 & 20+40+60\\end{array}\\right]}_{1\\times2}$"
   ]
  },
  {
   "cell_type": "code",
   "execution_count": 70,
   "metadata": {
    "collapsed": false
   },
   "outputs": [
    {
     "data": {
      "text/plain": [
       "(90, 120)"
      ]
     },
     "execution_count": 70,
     "metadata": {},
     "output_type": "execute_result"
    }
   ],
   "source": [
    "mx_vect_mult_lr(((1,2),(3,4),(5,6)),(10,10,10))"
   ]
  },
  {
   "cell_type": "markdown",
   "metadata": {},
   "source": [
    "$\\underbrace{\\left[\\begin{array}{cc}\n",
    "10 & 10\\end{array}\\right]}_{1\\times2}\\underbrace{\\left[\\begin{array}{ccc}\n",
    "1 & 2 & 3\\\\\n",
    "4 & 5 & 6\n",
    "\\end{array}\\right]}_{2\\times3}=\\underbrace{\\left[\\begin{array}{ccc}\n",
    "10+40 & 20+50 & 30+60\\end{array}\\right]}_{1\\times3}$"
   ]
  },
  {
   "cell_type": "code",
   "execution_count": 71,
   "metadata": {
    "collapsed": false
   },
   "outputs": [
    {
     "data": {
      "text/plain": [
       "(50, 70, 90)"
      ]
     },
     "execution_count": 71,
     "metadata": {},
     "output_type": "execute_result"
    }
   ],
   "source": [
    "mx_vect_mult_lr(((1,2,3),(4,5,6)),(10,10))"
   ]
  },
  {
   "cell_type": "markdown",
   "metadata": {},
   "source": [
    "$\\underbrace{\\left[\\begin{array}{cc}\n",
    "1 & 2\\\\\n",
    "3 & 4\\\\\n",
    "5 & 6\n",
    "\\end{array}\\right]}_{3\\times2}\\underbrace{\\left[\\begin{array}{c}\n",
    "10\\\\\n",
    "10\n",
    "\\end{array}\\right]}_{2\\times1}=\\underbrace{\\left[\\begin{array}{c}\n",
    "10+20\\\\\n",
    "30+40\\\\\n",
    "50+60\n",
    "\\end{array}\\right]}_{3\\times1}$"
   ]
  },
  {
   "cell_type": "code",
   "execution_count": 72,
   "metadata": {
    "collapsed": false
   },
   "outputs": [
    {
     "data": {
      "text/plain": [
       "(30, 70, 110)"
      ]
     },
     "execution_count": 72,
     "metadata": {},
     "output_type": "execute_result"
    }
   ],
   "source": [
    "mx_vect_mult_lr(((1,2),(3,4),(5,6)),(10,10))"
   ]
  },
  {
   "cell_type": "markdown",
   "metadata": {},
   "source": [
    "$\\underbrace{\\left[\\begin{array}{ccc}\n",
    "1 & 2 & 3\\\\\n",
    "4 & 5 & 6\n",
    "\\end{array}\\right]}_{2\\times3}\\underbrace{\\left[\\begin{array}{c}\n",
    "10\\\\\n",
    "10\\\\\n",
    "10\n",
    "\\end{array}\\right]}_{3\\times1}=\\underbrace{\\left[\\begin{array}{c}\n",
    "10+20+30\\\\\n",
    "40+50+60\n",
    "\\end{array}\\right]}_{2\\times1}$"
   ]
  },
  {
   "cell_type": "code",
   "execution_count": 73,
   "metadata": {
    "collapsed": false
   },
   "outputs": [
    {
     "data": {
      "text/plain": [
       "(60, 150)"
      ]
     },
     "execution_count": 73,
     "metadata": {},
     "output_type": "execute_result"
    }
   ],
   "source": [
    "mx_vect_mult_lr(((1,2,3),(4,5,6)),(10,10,10))"
   ]
  },
  {
   "cell_type": "markdown",
   "metadata": {},
   "source": [
    "$\\underbrace{\\left[\\begin{array}{ccc}\n",
    "10 & 10 & 10\\end{array}\\right]}_{1\\times3}\\underbrace{\\left[\\begin{array}{ccc}\n",
    "1 & 2 & 3\\\\\n",
    "4 & 5 & 6\\\\\n",
    "7 & 8 & 9\n",
    "\\end{array}\\right]}_{3\\times3}\\neq\\underbrace{\\left[\\begin{array}{ccc}\n",
    "1 & 2 & 3\\\\\n",
    "4 & 5 & 6\\\\\n",
    "7 & 8 & 9\n",
    "\\end{array}\\right]}_{3\\times3}\\underbrace{\\left[\\begin{array}{c}\n",
    "10\\\\\n",
    "10\\\\\n",
    "10\n",
    "\\end{array}\\right]}_{3\\times1}$\n",
    "\n",
    "$\\left[\\begin{array}{ccc}\n",
    "10+40+70, & 20+50+80, & 30+60+90\\end{array}\\right]\\neq\\left[\\begin{array}{c}\n",
    "10+20+30\\\\\n",
    "40+50+60\\\\\n",
    "70+80+90\n",
    "\\end{array}\\right]$"
   ]
  },
  {
   "cell_type": "code",
   "execution_count": 74,
   "metadata": {
    "collapsed": false
   },
   "outputs": [
    {
     "data": {
      "text/plain": [
       "((120, 150, 180), (60, 150, 240))"
      ]
     },
     "execution_count": 74,
     "metadata": {},
     "output_type": "execute_result"
    }
   ],
   "source": [
    "mx_vect_mult_lr(((1,2,3),(4,5,6),(7,8,9)),(10,10,10))"
   ]
  },
  {
   "cell_type": "code",
   "execution_count": null,
   "metadata": {
    "collapsed": true
   },
   "outputs": [],
   "source": []
  }
 ],
 "metadata": {
  "kernelspec": {
   "display_name": "Python 3",
   "language": "python",
   "name": "python3"
  },
  "language_info": {
   "codemirror_mode": {
    "name": "ipython",
    "version": 3
   },
   "file_extension": ".py",
   "mimetype": "text/x-python",
   "name": "python",
   "nbconvert_exporter": "python",
   "pygments_lexer": "ipython3",
   "version": "3.6.0"
  }
 },
 "nbformat": 4,
 "nbformat_minor": 2
}
