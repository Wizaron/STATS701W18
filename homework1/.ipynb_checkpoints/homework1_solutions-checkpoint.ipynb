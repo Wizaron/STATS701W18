{
 "cells": [
  {
   "cell_type": "markdown",
   "metadata": {},
   "source": [
    "# Stats701 Homework 1, Winter 2018"
   ]
  },
  {
   "cell_type": "markdown",
   "metadata": {},
   "source": [
    "### Problem 1: Defining Simple Functions"
   ]
  },
  {
   "cell_type": "markdown",
   "metadata": {},
   "source": [
    "#### 1.1"
   ]
  },
  {
   "cell_type": "code",
   "execution_count": 1,
   "metadata": {},
   "outputs": [],
   "source": [
    "def say_hello():\n",
    "    \n",
    "    print('Hello, world!')"
   ]
  },
  {
   "cell_type": "code",
   "execution_count": 2,
   "metadata": {},
   "outputs": [
    {
     "name": "stdout",
     "output_type": "stream",
     "text": [
      "Hello, world!\n"
     ]
    }
   ],
   "source": [
    "say_hello()"
   ]
  },
  {
   "cell_type": "markdown",
   "metadata": {},
   "source": [
    "#### 1.2"
   ]
  },
  {
   "cell_type": "code",
   "execution_count": 3,
   "metadata": {},
   "outputs": [],
   "source": [
    "def goat_pad(word):\n",
    "\n",
    "    padded_word = 'goat{}goat'.format(word)\n",
    "    #padded_word = 'goat' + word + 'goat'\n",
    "    \n",
    "    print(padded_word)"
   ]
  },
  {
   "cell_type": "code",
   "execution_count": 4,
   "metadata": {},
   "outputs": [
    {
     "name": "stdout",
     "output_type": "stream",
     "text": [
      "goatbirdgoat\n"
     ]
    }
   ],
   "source": [
    "goat_pad('bird')"
   ]
  },
  {
   "cell_type": "code",
   "execution_count": 5,
   "metadata": {},
   "outputs": [
    {
     "name": "stdout",
     "output_type": "stream",
     "text": [
      "goat_goat\n"
     ]
    }
   ],
   "source": [
    "goat_pad('_')"
   ]
  },
  {
   "cell_type": "markdown",
   "metadata": {},
   "source": [
    "#### 1.3"
   ]
  },
  {
   "cell_type": "code",
   "execution_count": 6,
   "metadata": {},
   "outputs": [],
   "source": [
    "def print_n(s, n):\n",
    "    \n",
    "    print('\\n'.join([s, ] * n))\n",
    "    \n",
    "    #for i in range(n):\n",
    "    #    print(s)\n",
    "    \n",
    "    #ns = ''\n",
    "    #for i in range(n):\n",
    "    #    #ns += s + '\\n'\n",
    "    #    ns += '{}\\n'.format(s)\n",
    "    #print(ns)"
   ]
  },
  {
   "cell_type": "code",
   "execution_count": 7,
   "metadata": {},
   "outputs": [
    {
     "name": "stdout",
     "output_type": "stream",
     "text": [
      "Hello, world!\n",
      "Hello, world!\n",
      "Hello, world!\n"
     ]
    }
   ],
   "source": [
    "print_n('Hello, world!', 3)"
   ]
  },
  {
   "cell_type": "markdown",
   "metadata": {},
   "source": [
    "### Problem 2: Euclid's Algorithm\n",
    "\n",
    "Reference: https://en.wikipedia.org/wiki/Euclidean_algorithm"
   ]
  },
  {
   "cell_type": "markdown",
   "metadata": {},
   "source": [
    "#### 2.1"
   ]
  },
  {
   "cell_type": "code",
   "execution_count": 8,
   "metadata": {},
   "outputs": [],
   "source": [
    "def gcd_v1(a, b):\n",
    "    \n",
    "    a = abs(a)\n",
    "    b = abs(b)\n",
    "    \n",
    "    while b != 0:\n",
    "        t = b\n",
    "        b = a % b\n",
    "        a = t\n",
    "        \n",
    "    return a"
   ]
  },
  {
   "cell_type": "code",
   "execution_count": 9,
   "metadata": {},
   "outputs": [],
   "source": [
    "def gcd_v2(a, b):\n",
    "    \n",
    "    a = abs(a)\n",
    "    b = abs(b)\n",
    "    \n",
    "    while a != b:\n",
    "        if a > b:\n",
    "            a = a - b\n",
    "        else:\n",
    "            b = b - a\n",
    "            \n",
    "    return a"
   ]
  },
  {
   "cell_type": "code",
   "execution_count": 10,
   "metadata": {},
   "outputs": [],
   "source": [
    "def gcd_recursive(a, b):\n",
    "    \n",
    "    a = abs(a)\n",
    "    b = abs(b)\n",
    "    \n",
    "    if b == 0:\n",
    "        return a\n",
    "    else:\n",
    "        return gcd_recursive(b, a % b)"
   ]
  },
  {
   "cell_type": "code",
   "execution_count": 11,
   "metadata": {},
   "outputs": [
    {
     "name": "stdout",
     "output_type": "stream",
     "text": [
      "21\n",
      "21\n",
      "21\n"
     ]
    }
   ],
   "source": [
    "print(gcd_v1(252, 105))\n",
    "print(gcd_v2(252, 105))\n",
    "print(gcd_recursive(252, 105))"
   ]
  },
  {
   "cell_type": "markdown",
   "metadata": {},
   "source": [
    "#### 2.2\n",
    "\n",
    "1. The GCD of 20 and 10 is 10.\n",
    "\n",
    "2. The GCD of 2017 and 2018 is 1.\n",
    "\n",
    "3. The GCD of 1000 and 250 is 250.\n",
    "\n",
    "4. The GCD of 5040 and 60 is 60."
   ]
  },
  {
   "cell_type": "code",
   "execution_count": 12,
   "metadata": {},
   "outputs": [],
   "source": [
    "def print_gcds(a, b):\n",
    "    \n",
    "    print(gcd_v1(a, b))\n",
    "    print(gcd_v2(a, b))\n",
    "    print(gcd_recursive(a, b))   "
   ]
  },
  {
   "cell_type": "code",
   "execution_count": 13,
   "metadata": {},
   "outputs": [
    {
     "name": "stdout",
     "output_type": "stream",
     "text": [
      "10\n",
      "10\n",
      "10\n"
     ]
    }
   ],
   "source": [
    "print_gcds(20, 10)"
   ]
  },
  {
   "cell_type": "code",
   "execution_count": 14,
   "metadata": {},
   "outputs": [
    {
     "name": "stdout",
     "output_type": "stream",
     "text": [
      "1\n",
      "1\n",
      "1\n"
     ]
    }
   ],
   "source": [
    "print_gcds(2017, 2018)"
   ]
  },
  {
   "cell_type": "code",
   "execution_count": 15,
   "metadata": {},
   "outputs": [
    {
     "name": "stdout",
     "output_type": "stream",
     "text": [
      "250\n",
      "250\n",
      "250\n"
     ]
    }
   ],
   "source": [
    "print_gcds(1000, 250)"
   ]
  },
  {
   "cell_type": "code",
   "execution_count": 16,
   "metadata": {},
   "outputs": [
    {
     "name": "stdout",
     "output_type": "stream",
     "text": [
      "60\n",
      "60\n",
      "60\n"
     ]
    }
   ],
   "source": [
    "print_gcds(5040, 60)"
   ]
  },
  {
   "cell_type": "markdown",
   "metadata": {},
   "source": [
    "#### 2.3\n",
    "\n",
    "We implement some test cases to check what the function outputs. In the revised code, we get all positive values for GCD for positive and negative numbers which makes sense and follows the definition of GCD."
   ]
  },
  {
   "cell_type": "code",
   "execution_count": 17,
   "metadata": {},
   "outputs": [
    {
     "name": "stdout",
     "output_type": "stream",
     "text": [
      "21\n",
      "21\n",
      "21\n"
     ]
    }
   ],
   "source": [
    "print_gcds(252, 105)"
   ]
  },
  {
   "cell_type": "code",
   "execution_count": 18,
   "metadata": {},
   "outputs": [
    {
     "name": "stdout",
     "output_type": "stream",
     "text": [
      "21\n",
      "21\n",
      "21\n"
     ]
    }
   ],
   "source": [
    "print_gcds(-252, 105)"
   ]
  },
  {
   "cell_type": "code",
   "execution_count": 19,
   "metadata": {},
   "outputs": [
    {
     "name": "stdout",
     "output_type": "stream",
     "text": [
      "21\n",
      "21\n",
      "21\n"
     ]
    }
   ],
   "source": [
    "print_gcds(252, -105)"
   ]
  },
  {
   "cell_type": "code",
   "execution_count": 20,
   "metadata": {},
   "outputs": [
    {
     "name": "stdout",
     "output_type": "stream",
     "text": [
      "21\n",
      "21\n",
      "21\n"
     ]
    }
   ],
   "source": [
    "print_gcds(-252, -105)"
   ]
  },
  {
   "cell_type": "markdown",
   "metadata": {},
   "source": [
    "### Problem 3: Approximating Euler’s number $e$"
   ]
  },
  {
   "cell_type": "code",
   "execution_count": 21,
   "metadata": {},
   "outputs": [
    {
     "name": "stdout",
     "output_type": "stream",
     "text": [
      "e = 2.71828182846\n"
     ]
    }
   ],
   "source": [
    "import math\n",
    "\n",
    "print('e = ' + str(math.exp(1)))"
   ]
  },
  {
   "cell_type": "markdown",
   "metadata": {},
   "source": [
    "#### 3.1"
   ]
  },
  {
   "cell_type": "code",
   "execution_count": 22,
   "metadata": {},
   "outputs": [],
   "source": [
    "def euler_limit(x):\n",
    "    \n",
    "    return (1.0 + (1.0 / x)) ** x"
   ]
  },
  {
   "cell_type": "code",
   "execution_count": 23,
   "metadata": {},
   "outputs": [
    {
     "name": "stdout",
     "output_type": "stream",
     "text": [
      "e = 2.0\n",
      "e = 2.5937424601\n",
      "e = 2.70481382942\n",
      "e = 2.71692393224\n",
      "e = 2.71814592682\n",
      "e = 2.71826823719\n",
      "e = 2.7182804691\n",
      "e = 2.71828169413\n",
      "e = 2.71828179835\n"
     ]
    }
   ],
   "source": [
    "for i in range(9):\n",
    "    print('e = ' + str(euler_limit(pow(10, i))))"
   ]
  },
  {
   "cell_type": "markdown",
   "metadata": {},
   "source": [
    "#### 3.2"
   ]
  },
  {
   "cell_type": "code",
   "execution_count": 24,
   "metadata": {},
   "outputs": [],
   "source": [
    "import math\n",
    "\n",
    "def euler_infinite_sum(n):\n",
    "\n",
    "    return sum([1.0 / math.factorial(i) for i in range(n)])"
   ]
  },
  {
   "cell_type": "code",
   "execution_count": 25,
   "metadata": {},
   "outputs": [],
   "source": [
    "def euler_infinite_sum_loop(n):\n",
    "    \n",
    "    if n == 0:\n",
    "        return 0\n",
    "        # Had difficulty using just loop including 0 so used special if statement above to rule that out.\n",
    "    else: \n",
    "        terms = 0 # Initialize summation value\n",
    "        for k in range(0, n): # loop through sum index k from 0 to 1\n",
    "            f = 1 # Initialize k!, the denominator for 1/k!. f stands for factorial\n",
    "            for l in range(2, k + 1): \n",
    "                # Need to use k+1 since loop in python, the upper bound of range is exclusive. \n",
    "                # Start from 2 instead of 1 since 1*1 is 1 and is a wasteful computation\n",
    "                \n",
    "                f = f * l # Calculate the product first.\n",
    "            terms = terms + (1.0 / f)\n",
    "            # Take the reciprocal of the product we found and add it to the previously summed terms\n",
    "        return terms"
   ]
  },
  {
   "cell_type": "code",
   "execution_count": 26,
   "metadata": {},
   "outputs": [
    {
     "name": "stdout",
     "output_type": "stream",
     "text": [
      "0\n",
      "0\n"
     ]
    }
   ],
   "source": [
    "print(euler_infinite_sum(0))\n",
    "print(euler_infinite_sum_loop(0))"
   ]
  },
  {
   "cell_type": "code",
   "execution_count": 27,
   "metadata": {},
   "outputs": [
    {
     "name": "stdout",
     "output_type": "stream",
     "text": [
      "1.0\n",
      "1.0\n"
     ]
    }
   ],
   "source": [
    "print(euler_infinite_sum(1))\n",
    "print(euler_infinite_sum_loop(1))"
   ]
  },
  {
   "cell_type": "code",
   "execution_count": 28,
   "metadata": {},
   "outputs": [
    {
     "name": "stdout",
     "output_type": "stream",
     "text": [
      "2.0\n",
      "2.0\n"
     ]
    }
   ],
   "source": [
    "print(euler_infinite_sum(2))\n",
    "print(euler_infinite_sum_loop(2))"
   ]
  },
  {
   "cell_type": "code",
   "execution_count": 29,
   "metadata": {},
   "outputs": [
    {
     "name": "stdout",
     "output_type": "stream",
     "text": [
      "2.66666666667\n",
      "2.66666666667\n"
     ]
    }
   ],
   "source": [
    "print(euler_infinite_sum(4))\n",
    "print(euler_infinite_sum_loop(4))"
   ]
  },
  {
   "cell_type": "code",
   "execution_count": 30,
   "metadata": {},
   "outputs": [
    {
     "name": "stdout",
     "output_type": "stream",
     "text": [
      "2.71828152557\n",
      "2.71828152557\n"
     ]
    }
   ],
   "source": [
    "print(euler_infinite_sum(10))\n",
    "print(euler_infinite_sum_loop(10))"
   ]
  },
  {
   "cell_type": "code",
   "execution_count": 31,
   "metadata": {},
   "outputs": [
    {
     "name": "stdout",
     "output_type": "stream",
     "text": [
      "2.71828182846\n",
      "2.71828182846\n"
     ]
    }
   ],
   "source": [
    "print(euler_infinite_sum(100))\n",
    "print(euler_infinite_sum_loop(100))"
   ]
  },
  {
   "cell_type": "markdown",
   "metadata": {},
   "source": [
    "#### 3.3"
   ]
  },
  {
   "cell_type": "code",
   "execution_count": 32,
   "metadata": {},
   "outputs": [
    {
     "data": {
      "text/plain": [
       "True"
      ]
     },
     "execution_count": 32,
     "metadata": {},
     "output_type": "execute_result"
    }
   ],
   "source": [
    "float('inf') > 10"
   ]
  },
  {
   "cell_type": "code",
   "execution_count": 33,
   "metadata": {},
   "outputs": [],
   "source": [
    "import math\n",
    "\n",
    "def euler_approx(epsilon):\n",
    "    \n",
    "    get_term = lambda order : 1.0 / math.factorial(order)\n",
    "    get_error = lambda approx : abs(math.exp(1) - approx)\n",
    "    \n",
    "    approx = 0\n",
    "    error = get_error(approx)\n",
    "    \n",
    "    order = 0\n",
    "    while error >= epsilon:\n",
    "        approx += get_term(order)\n",
    "        error = get_error(approx)\n",
    "        \n",
    "        order += 1\n",
    "\n",
    "        \n",
    "    print('Epsilon = {:10} - Approx = {:15} - Error : {:20} - Order = {:3}'.format(*map(str,\n",
    "                                                                                [epsilon, approx, error, order])))"
   ]
  },
  {
   "cell_type": "code",
   "execution_count": 34,
   "metadata": {},
   "outputs": [
    {
     "name": "stdout",
     "output_type": "stream",
     "text": [
      "Epsilon = 1          - Approx = 2.0             - Error : 0.718281828459       - Order = 2  \n",
      "Epsilon = 0.1        - Approx = 2.66666666667   - Error : 0.0516151617924      - Order = 4  \n",
      "Epsilon = 0.01       - Approx = 2.70833333333   - Error : 0.00994849512571     - Order = 5  \n",
      "Epsilon = 0.001      - Approx = 2.71805555556   - Error : 0.00022627290349     - Order = 7  \n",
      "Epsilon = 0.0001     - Approx = 2.71825396825   - Error : 2.78602050767e-05    - Order = 8  \n",
      "Epsilon = 1e-05      - Approx = 2.71827876984   - Error : 3.05861777505e-06    - Order = 9  \n",
      "Epsilon = 1e-06      - Approx = 2.71828152557   - Error : 3.02885852843e-07    - Order = 10 \n",
      "Epsilon = 1e-07      - Approx = 2.71828180115   - Error : 2.73126605776e-08    - Order = 11 \n",
      "Epsilon = 1e-08      - Approx = 2.7182818262    - Error : 2.26055218988e-09    - Order = 12 \n",
      "Epsilon = 1e-09      - Approx = 2.71828182829   - Error : 1.72876379878e-10    - Order = 13 \n",
      "Epsilon = 1e-10      - Approx = 2.71828182845   - Error : 1.22857279905e-11    - Order = 14 \n",
      "Epsilon = 1e-11      - Approx = 2.71828182846   - Error : 8.14903700075e-13    - Order = 15 \n"
     ]
    }
   ],
   "source": [
    "for i in range(11 + 1):\n",
    "    euler_approx(pow(10, -i))"
   ]
  },
  {
   "cell_type": "markdown",
   "metadata": {},
   "source": [
    "#### 3.4"
   ]
  },
  {
   "cell_type": "code",
   "execution_count": 35,
   "metadata": {},
   "outputs": [],
   "source": [
    "def print_euler_sum_table(n):\n",
    "    \n",
    "    for k in range(1, n + 1):\n",
    "        print(euler_infinite_sum(k))"
   ]
  },
  {
   "cell_type": "code",
   "execution_count": 36,
   "metadata": {},
   "outputs": [
    {
     "name": "stdout",
     "output_type": "stream",
     "text": [
      "1.0\n"
     ]
    }
   ],
   "source": [
    "print_euler_sum_table(1)"
   ]
  },
  {
   "cell_type": "code",
   "execution_count": 37,
   "metadata": {},
   "outputs": [
    {
     "name": "stdout",
     "output_type": "stream",
     "text": [
      "1.0\n",
      "2.0\n",
      "2.5\n",
      "2.66666666667\n",
      "2.70833333333\n",
      "2.71666666667\n",
      "2.71805555556\n",
      "2.71825396825\n",
      "2.71827876984\n",
      "2.71828152557\n"
     ]
    }
   ],
   "source": [
    "print_euler_sum_table(10)"
   ]
  },
  {
   "cell_type": "code",
   "execution_count": 38,
   "metadata": {},
   "outputs": [
    {
     "name": "stdout",
     "output_type": "stream",
     "text": [
      "1.0\n",
      "2.0\n",
      "2.5\n",
      "2.66666666667\n",
      "2.70833333333\n",
      "2.71666666667\n",
      "2.71805555556\n",
      "2.71825396825\n",
      "2.71827876984\n",
      "2.71828152557\n",
      "2.71828180115\n",
      "2.7182818262\n",
      "2.71828182829\n",
      "2.71828182845\n",
      "2.71828182846\n",
      "2.71828182846\n",
      "2.71828182846\n",
      "2.71828182846\n",
      "2.71828182846\n",
      "2.71828182846\n"
     ]
    }
   ],
   "source": [
    "print_euler_sum_table(20)"
   ]
  },
  {
   "cell_type": "code",
   "execution_count": null,
   "metadata": {},
   "outputs": [],
   "source": []
  }
 ],
 "metadata": {
  "kernelspec": {
   "display_name": "Python 3",
   "language": "python",
   "name": "python3"
  },
  "language_info": {
   "codemirror_mode": {
    "name": "ipython",
    "version": 2
   },
   "file_extension": ".py",
   "mimetype": "text/x-python",
   "name": "python",
   "nbconvert_exporter": "python",
   "pygments_lexer": "ipython2",
   "version": "2.7.14"
  }
 },
 "nbformat": 4,
 "nbformat_minor": 2
}
