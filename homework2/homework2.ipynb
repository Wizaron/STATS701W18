{
 "cells": [
  {
   "cell_type": "markdown",
   "metadata": {
    "collapsed": true
   },
   "source": [
    "# Stats701 Homework 2, Winter 2018"
   ]
  },
  {
   "cell_type": "markdown",
   "metadata": {},
   "source": [
    "### Problem 1: Fun with Strings"
   ]
  },
  {
   "cell_type": "code",
   "execution_count": 1,
   "metadata": {},
   "outputs": [],
   "source": [
    "normalize = lambda s : s.decode('utf-8').replace(' ', '').lower().encode('utf-8')"
   ]
  },
  {
   "cell_type": "code",
   "execution_count": 2,
   "metadata": {},
   "outputs": [
    {
     "data": {
      "text/plain": [
       "'youonlyliveonce'"
      ]
     },
     "execution_count": 2,
     "metadata": {},
     "output_type": "execute_result"
    }
   ],
   "source": [
    "normalize('    YOU     onlY livE onCE')"
   ]
  },
  {
   "cell_type": "markdown",
   "metadata": {},
   "source": [
    "#### 1.1"
   ]
  },
  {
   "cell_type": "code",
   "execution_count": 3,
   "metadata": {},
   "outputs": [],
   "source": [
    "def is_palindrome(phrase):\n",
    "    \n",
    "    phrase = normalize(phrase)\n",
    "    \n",
    "    return phrase == phrase[::-1]"
   ]
  },
  {
   "cell_type": "code",
   "execution_count": 4,
   "metadata": {},
   "outputs": [],
   "source": [
    "def is_palindrome_loop(phrase):\n",
    "    \n",
    "    phrase = normalize(phrase)\n",
    "\n",
    "    # Traverse both indices from beginning (left) and end (right)\n",
    "    left = 0\n",
    "    right = len(phrase) - 1\n",
    "    \n",
    "    '''Traverse the string.\n",
    "    For odd length strings, the middle will be same value for left and right.\n",
    "    For even length strings, the middle value will be 2 values.\n",
    "    Ex: cat index 1 will be the middle\n",
    "        cart has indices 1 and 2 as the \"middle\".\n",
    "    We use left<right (< satisfies both cases)\n",
    "    '''\n",
    "    \n",
    "    while left < right: \n",
    "        if phrase[left] != phrase[right]:\n",
    "            return False\n",
    "        left += 1\n",
    "        right -= 1\n",
    "    \n",
    "    return True"
   ]
  },
  {
   "cell_type": "code",
   "execution_count": 5,
   "metadata": {},
   "outputs": [
    {
     "name": "stdout",
     "output_type": "stream",
     "text": [
      "True\n",
      "True\n"
     ]
    }
   ],
   "source": [
    "print(is_palindrome('     Was it a car or a cat I saw       '))\n",
    "print(is_palindrome_loop('     Was it a car or a cat I saw       '))"
   ]
  },
  {
   "cell_type": "code",
   "execution_count": 6,
   "metadata": {},
   "outputs": [
    {
     "name": "stdout",
     "output_type": "stream",
     "text": [
      "True\n",
      "True\n",
      "False\n"
     ]
    }
   ],
   "source": [
    "print(is_palindrome('Was it a car or a cat I saw'))\n",
    "print(is_palindrome('     Was it a car or a cat I saw       '))\n",
    "print(is_palindrome('Was it a car oAr a cat I saw'))"
   ]
  },
  {
   "cell_type": "code",
   "execution_count": 7,
   "metadata": {},
   "outputs": [
    {
     "name": "stdout",
     "output_type": "stream",
     "text": [
      "True\n",
      "False\n"
     ]
    }
   ],
   "source": [
    "print(is_palindrome('level'))\n",
    "print(is_palindrome('  LEW VVel'))"
   ]
  },
  {
   "cell_type": "code",
   "execution_count": 8,
   "metadata": {},
   "outputs": [
    {
     "name": "stdout",
     "output_type": "stream",
     "text": [
      "False\n",
      "True\n"
     ]
    }
   ],
   "source": [
    "print(is_palindrome('7779311'))\n",
    "print(is_palindrome('7779311 1139777'))"
   ]
  },
  {
   "cell_type": "markdown",
   "metadata": {},
   "source": [
    "#### 1.2"
   ]
  },
  {
   "cell_type": "code",
   "execution_count": 9,
   "metadata": {},
   "outputs": [],
   "source": [
    "def is_abecedarian(phrase):\n",
    "    \n",
    "    phrase = normalize(phrase)\n",
    "    \n",
    "    for i in range(1, len(phrase)):\n",
    "        if phrase[i - 1] > phrase[i]:\n",
    "            return False\n",
    "        \n",
    "    return True"
   ]
  },
  {
   "cell_type": "code",
   "execution_count": 10,
   "metadata": {},
   "outputs": [
    {
     "name": "stdout",
     "output_type": "stream",
     "text": [
      "True\n",
      "False\n"
     ]
    }
   ],
   "source": [
    "print(is_abecedarian('beet'))\n",
    "print(is_abecedarian('cat'))"
   ]
  },
  {
   "cell_type": "code",
   "execution_count": 11,
   "metadata": {},
   "outputs": [
    {
     "name": "stdout",
     "output_type": "stream",
     "text": [
      "True\n",
      "False\n"
     ]
    }
   ],
   "source": [
    "print(is_abecedarian('be  et'))\n",
    "print(is_abecedarian(' ca t'))"
   ]
  },
  {
   "cell_type": "markdown",
   "metadata": {},
   "source": [
    "#### 1.3"
   ]
  },
  {
   "cell_type": "code",
   "execution_count": 12,
   "metadata": {},
   "outputs": [],
   "source": [
    "def count_vowels(phrase):\n",
    "    \n",
    "    vowels = ['a', 'e', 'i', 'o', 'u']\n",
    "    \n",
    "    is_in = lambda vowel : vowel in phrase\n",
    "    \n",
    "    return sum(map(is_in, vowels))"
   ]
  },
  {
   "cell_type": "code",
   "execution_count": 13,
   "metadata": {},
   "outputs": [],
   "source": [
    "def count_vowels_loop(phrase):\n",
    "    \n",
    "    vowels = 'aeiou'\n",
    "\n",
    "    num = 0\n",
    "    for i in range(len(phrase)):\n",
    "        if phrase[i] in vowels:\n",
    "            num += 1\n",
    "                        \n",
    "    return num"
   ]
  },
  {
   "cell_type": "code",
   "execution_count": 14,
   "metadata": {},
   "outputs": [
    {
     "name": "stdout",
     "output_type": "stream",
     "text": [
      "2\n",
      "2\n"
     ]
    }
   ],
   "source": [
    "print(count_vowels('hello'))\n",
    "print(count_vowels_loop('hello'))"
   ]
  },
  {
   "cell_type": "code",
   "execution_count": 15,
   "metadata": {},
   "outputs": [
    {
     "name": "stdout",
     "output_type": "stream",
     "text": [
      "3\n",
      "0\n"
     ]
    }
   ],
   "source": [
    "print(count_vowels('manufacturer'))\n",
    "print(count_vowels('xyyy'))"
   ]
  },
  {
   "cell_type": "markdown",
   "metadata": {},
   "source": [
    "### Problem 2: Fun with Lists\n",
    "\n",
    "#### 2.1"
   ]
  },
  {
   "cell_type": "code",
   "execution_count": 16,
   "metadata": {},
   "outputs": [],
   "source": [
    "list_reverse = lambda l : l[::-1]"
   ]
  },
  {
   "cell_type": "code",
   "execution_count": 17,
   "metadata": {},
   "outputs": [],
   "source": [
    "def list_reverse_loop(l):\n",
    "    rev=[] # Initialize empty list\n",
    "    \n",
    "    # Build up the empty list rev until it is the length of the original list inputted\n",
    "    while(len(rev)<len(l)):\n",
    "        '''take the last element from the substring of l. Since we keep adding to rev, \n",
    "        l[0:len(l)-len(rev)] acts as the new \"chopped off\" string\n",
    "        '''\n",
    "        rev.append(l[0:len(l)-len(rev)].pop()) \n",
    "    return rev"
   ]
  },
  {
   "cell_type": "code",
   "execution_count": 18,
   "metadata": {},
   "outputs": [
    {
     "name": "stdout",
     "output_type": "stream",
     "text": [
      "['yolo', 1, []]\n",
      "['yolo', 1, []]\n"
     ]
    }
   ],
   "source": [
    "print(list_reverse([[],1,'yolo']))\n",
    "print(list_reverse_loop([[],1,'yolo']))"
   ]
  },
  {
   "cell_type": "code",
   "execution_count": 19,
   "metadata": {},
   "outputs": [
    {
     "data": {
      "text/plain": [
       "'ih'"
      ]
     },
     "execution_count": 19,
     "metadata": {},
     "output_type": "execute_result"
    }
   ],
   "source": [
    "list_reverse('hi')"
   ]
  },
  {
   "cell_type": "code",
   "execution_count": 20,
   "metadata": {},
   "outputs": [
    {
     "data": {
      "text/plain": [
       "(2, 3)"
      ]
     },
     "execution_count": 20,
     "metadata": {},
     "output_type": "execute_result"
    }
   ],
   "source": [
    "list_reverse((3,2))"
   ]
  },
  {
   "cell_type": "markdown",
   "metadata": {},
   "source": [
    "### 2.2"
   ]
  },
  {
   "cell_type": "code",
   "execution_count": 21,
   "metadata": {},
   "outputs": [],
   "source": [
    "def binary_search(t, elmt):\n",
    "    \n",
    "    # Check if elmt is an integer\n",
    "    if type(elmt) != int:\n",
    "        raise TypeError('elmt must be an integer')\n",
    "        \n",
    "    # We assume t is a sorted list of integers, so no need to check\n",
    "    \n",
    "    if len(t) == 0:\n",
    "        return False\n",
    "    \n",
    "    while len(t) > 0:\n",
    "        ind = int(len(t) / 2)\n",
    "        \n",
    "        if t[ind] == elmt:\n",
    "            return True\n",
    "        elif t[ind] > elmt:\n",
    "            t = t[:ind]\n",
    "        else:\n",
    "            t = t[ind + 1:]\n",
    "            \n",
    "    return False"
   ]
  },
  {
   "cell_type": "code",
   "execution_count": 22,
   "metadata": {},
   "outputs": [
    {
     "data": {
      "text/plain": [
       "False"
      ]
     },
     "execution_count": 22,
     "metadata": {},
     "output_type": "execute_result"
    }
   ],
   "source": [
    "binary_search([], 3)"
   ]
  },
  {
   "cell_type": "code",
   "execution_count": 23,
   "metadata": {},
   "outputs": [
    {
     "name": "stdout",
     "output_type": "stream",
     "text": [
      "True\n",
      "True\n",
      "True\n",
      "False\n"
     ]
    }
   ],
   "source": [
    "print(binary_search([-3, -2, -1, 0, 1, 2, 3, 4, 5, 6], 6))\n",
    "print(binary_search([-5, -4, -3, -2, -1, 0, 1, 2, 3, 4, 5, 6, 100], -3))\n",
    "print(binary_search([-5, -4, -3, -2, -1, 0, 1, 2, 3, 4, 5, 6, 100], 1))\n",
    "print(binary_search([-5, -4, -3, -2, -1, 0, 1, 2, 3, 4, 5, 6, 100], 9))"
   ]
  },
  {
   "cell_type": "markdown",
   "metadata": {},
   "source": [
    "### Problem 3: More Fun with Strings\n",
    "\n",
    "#### 3.1"
   ]
  },
  {
   "cell_type": "code",
   "execution_count": 24,
   "metadata": {},
   "outputs": [],
   "source": [
    "def char_hist(string):\n",
    "    \n",
    "    string = string.lower().decode('utf-8')\n",
    "    \n",
    "    d = dict()\n",
    "    for c in string:\n",
    "        if c not in d:\n",
    "            d[c] = 0\n",
    "        d[c] += 1\n",
    "            \n",
    "    return d"
   ]
  },
  {
   "cell_type": "code",
   "execution_count": 25,
   "metadata": {},
   "outputs": [
    {
     "data": {
      "text/plain": [
       "{u'\\t': 1, u' ': 1, u'e': 2, u'h': 2, u'l': 4, u'o': 2}"
      ]
     },
     "execution_count": 25,
     "metadata": {},
     "output_type": "execute_result"
    }
   ],
   "source": [
    "char_hist('HELLO \\thello')"
   ]
  },
  {
   "cell_type": "code",
   "execution_count": 26,
   "metadata": {},
   "outputs": [
    {
     "data": {
      "text/plain": [
       "{u'\\t': 1,\n",
       " u'\\n': 1,\n",
       " u' ': 7,\n",
       " u'!': 1,\n",
       " u'0': 2,\n",
       " u'1': 1,\n",
       " u'2': 1,\n",
       " u'e': 3,\n",
       " u'h': 2,\n",
       " u'l': 6,\n",
       " u'o': 4,\n",
       " u't': 3,\n",
       " u'w': 1,\n",
       " u'y': 1,\n",
       " u'\\xdf': 1}"
      ]
     },
     "execution_count": 26,
     "metadata": {},
     "output_type": "execute_result"
    }
   ],
   "source": [
    "char_hist('ß Yellow ! Othelllo O\\tthel 10 20 T\\n')"
   ]
  },
  {
   "cell_type": "code",
   "execution_count": 27,
   "metadata": {},
   "outputs": [],
   "source": [
    "def bigram_hist(string):\n",
    "    \n",
    "    string = string.lower()\n",
    "    \n",
    "    d = dict()\n",
    "    \n",
    "    for i in range(len(string) - 1):\n",
    "        bigram = tuple(string[i : i + 2])\n",
    "        \n",
    "        if bigram not in d:\n",
    "            d[bigram] = 0\n",
    "            \n",
    "        d[bigram] += 1\n",
    "   \n",
    "    return d"
   ]
  },
  {
   "cell_type": "code",
   "execution_count": 28,
   "metadata": {},
   "outputs": [
    {
     "data": {
      "text/plain": [
       "{('\\n', 'c'): 1,\n",
       " (' ', ' '): 1,\n",
       " (' ', 'c'): 1,\n",
       " (' ', 'd'): 2,\n",
       " (',', ' '): 2,\n",
       " ('a', 't'): 2,\n",
       " ('c', 'a'): 2,\n",
       " ('c', 't'): 1,\n",
       " ('d', 'o'): 2,\n",
       " ('g', '\\n'): 1,\n",
       " ('g', ' '): 1,\n",
       " ('o', 'g'): 2,\n",
       " ('t', ','): 2}"
      ]
     },
     "execution_count": 28,
     "metadata": {},
     "output_type": "execute_result"
    }
   ],
   "source": [
    "bigram_hist('cat, dog\\nCaT, dog  ct')"
   ]
  },
  {
   "cell_type": "code",
   "execution_count": 29,
   "metadata": {},
   "outputs": [
    {
     "data": {
      "text/plain": [
       "{('i', 'p'): 1,\n",
       " ('i', 's'): 2,\n",
       " ('m', 'i'): 1,\n",
       " ('p', 'i'): 1,\n",
       " ('p', 'p'): 1,\n",
       " ('s', 'i'): 2,\n",
       " ('s', 's'): 2}"
      ]
     },
     "execution_count": 29,
     "metadata": {},
     "output_type": "execute_result"
    }
   ],
   "source": [
    "bigram_hist('mississippi')"
   ]
  },
  {
   "cell_type": "markdown",
   "metadata": {},
   "source": [
    "### Problem 4: Tuples as Vectors"
   ]
  },
  {
   "cell_type": "code",
   "execution_count": 30,
   "metadata": {},
   "outputs": [],
   "source": [
    "def is_float_int(c):\n",
    "    \n",
    "    if (type(c) == float) or (type(c) == int):\n",
    "        return True\n",
    "    \n",
    "    return False        "
   ]
  },
  {
   "cell_type": "code",
   "execution_count": 31,
   "metadata": {},
   "outputs": [],
   "source": [
    "is_num_tuple = lambda t : all(map(is_float_int, t))\n",
    "\n",
    "# def is_num_tuple(t):\n",
    "#    \n",
    "#     for i in range(len(t)):\n",
    "#         if not is_float_int(t[i]):\n",
    "#             return False\n",
    "#         \n",
    "#     return True    "
   ]
  },
  {
   "cell_type": "code",
   "execution_count": 32,
   "metadata": {},
   "outputs": [
    {
     "name": "stdout",
     "output_type": "stream",
     "text": [
      "True\n",
      "True\n",
      "False\n",
      "False\n"
     ]
    }
   ],
   "source": [
    "print(is_float_int(3))\n",
    "print(is_float_int(3.1))\n",
    "print(is_float_int('3'))\n",
    "print(is_float_int('yo'))"
   ]
  },
  {
   "cell_type": "code",
   "execution_count": 33,
   "metadata": {},
   "outputs": [
    {
     "name": "stdout",
     "output_type": "stream",
     "text": [
      "True\n",
      "False\n"
     ]
    }
   ],
   "source": [
    "print(is_num_tuple((3, 4.0)))\n",
    "print(is_num_tuple((3, '3', .0)))"
   ]
  },
  {
   "cell_type": "markdown",
   "metadata": {},
   "source": [
    "### 4.1"
   ]
  },
  {
   "cell_type": "code",
   "execution_count": 34,
   "metadata": {},
   "outputs": [],
   "source": [
    "prod = lambda x, y : x * y\n",
    "\n",
    "def vec_scalar_mult(t, s):\n",
    "\n",
    "    if not is_num_tuple(t):\n",
    "        raise TypeError('Input tuple t contains entries of types other than float or int')\n",
    "\n",
    "    if not is_float_int(s):\n",
    "        raise TypeError('Input s needs to be a float or int')\n",
    "    \n",
    "    prod = lambda x : x * s \n",
    "    \n",
    "    return tuple(map(prod, t))"
   ]
  },
  {
   "cell_type": "code",
   "execution_count": 35,
   "metadata": {},
   "outputs": [
    {
     "ename": "TypeError",
     "evalue": "Input tuple t contains entries of types other than float or int",
     "output_type": "error",
     "traceback": [
      "\u001b[0;31m---------------------------------------------------------------------------\u001b[0m",
      "\u001b[0;31mTypeError\u001b[0m                                 Traceback (most recent call last)",
      "\u001b[0;32m<ipython-input-35-b6bfa4185a48>\u001b[0m in \u001b[0;36m<module>\u001b[0;34m()\u001b[0m\n\u001b[0;32m----> 1\u001b[0;31m \u001b[0mvec_scalar_mult\u001b[0m\u001b[0;34m(\u001b[0m\u001b[0;34m(\u001b[0m\u001b[0;34m'3'\u001b[0m\u001b[0;34m,\u001b[0m \u001b[0;36m4\u001b[0m\u001b[0;34m)\u001b[0m\u001b[0;34m,\u001b[0m \u001b[0;36m3\u001b[0m\u001b[0;34m)\u001b[0m\u001b[0;34m\u001b[0m\u001b[0m\n\u001b[0m",
      "\u001b[0;32m<ipython-input-34-f9e6679e8876>\u001b[0m in \u001b[0;36mvec_scalar_mult\u001b[0;34m(t, s)\u001b[0m\n\u001b[1;32m      4\u001b[0m \u001b[0;34m\u001b[0m\u001b[0m\n\u001b[1;32m      5\u001b[0m     \u001b[0;32mif\u001b[0m \u001b[0;32mnot\u001b[0m \u001b[0mis_num_tuple\u001b[0m\u001b[0;34m(\u001b[0m\u001b[0mt\u001b[0m\u001b[0;34m)\u001b[0m\u001b[0;34m:\u001b[0m\u001b[0;34m\u001b[0m\u001b[0m\n\u001b[0;32m----> 6\u001b[0;31m         \u001b[0;32mraise\u001b[0m \u001b[0mTypeError\u001b[0m\u001b[0;34m(\u001b[0m\u001b[0;34m'Input tuple t contains entries of types other than float or int'\u001b[0m\u001b[0;34m)\u001b[0m\u001b[0;34m\u001b[0m\u001b[0m\n\u001b[0m\u001b[1;32m      7\u001b[0m \u001b[0;34m\u001b[0m\u001b[0m\n\u001b[1;32m      8\u001b[0m     \u001b[0;32mif\u001b[0m \u001b[0;32mnot\u001b[0m \u001b[0mis_float_int\u001b[0m\u001b[0;34m(\u001b[0m\u001b[0ms\u001b[0m\u001b[0;34m)\u001b[0m\u001b[0;34m:\u001b[0m\u001b[0;34m\u001b[0m\u001b[0m\n",
      "\u001b[0;31mTypeError\u001b[0m: Input tuple t contains entries of types other than float or int"
     ]
    }
   ],
   "source": [
    "vec_scalar_mult(('3', 4), 3)"
   ]
  },
  {
   "cell_type": "code",
   "execution_count": 36,
   "metadata": {},
   "outputs": [
    {
     "data": {
      "text/plain": [
       "(15, 25, 35)"
      ]
     },
     "execution_count": 36,
     "metadata": {},
     "output_type": "execute_result"
    }
   ],
   "source": [
    "vec_scalar_mult((3, 5, 7), 5)"
   ]
  },
  {
   "cell_type": "markdown",
   "metadata": {},
   "source": [
    "### 4.2\n",
    "\n"
   ]
  },
  {
   "cell_type": "code",
   "execution_count": 37,
   "metadata": {},
   "outputs": [],
   "source": [
    "def vec_inner_product(t1, t2):\n",
    "    \n",
    "    if (type(t1) != tuple) or (type(t2) != tuple):\n",
    "        raise TypeError('Input t1 and t2 must both be tuples')\n",
    "        \n",
    "    if (not is_num_tuple(t1)) or (not is_num_tuple(t2)):\n",
    "        raise TypeError('Input tuple t1 and t2 must contain entries of either float or int')\n",
    "        \n",
    "    if len(t1) != len(t2):\n",
    "        raise ValueError('Tuples t1 and t2 must be the same length')\n",
    "        \n",
    "    sum_index = lambda i : t1[i] * t2[i]\n",
    "    \n",
    "    return sum(map(sum_index, range(len(t1))))"
   ]
  },
  {
   "cell_type": "markdown",
   "metadata": {},
   "source": [
    "Some test cases follow:"
   ]
  },
  {
   "cell_type": "code",
   "execution_count": 38,
   "metadata": {},
   "outputs": [
    {
     "data": {
      "text/plain": [
       "67.19999999999999"
      ]
     },
     "execution_count": 38,
     "metadata": {},
     "output_type": "execute_result"
    }
   ],
   "source": [
    "vec_inner_product((3, 5.8), (5, 9))"
   ]
  },
  {
   "cell_type": "code",
   "execution_count": 39,
   "metadata": {},
   "outputs": [
    {
     "ename": "ValueError",
     "evalue": "Tuples t1 and t2 must be the same length",
     "output_type": "error",
     "traceback": [
      "\u001b[0;31m---------------------------------------------------------------------------\u001b[0m",
      "\u001b[0;31mValueError\u001b[0m                                Traceback (most recent call last)",
      "\u001b[0;32m<ipython-input-39-69c2ebb524df>\u001b[0m in \u001b[0;36m<module>\u001b[0;34m()\u001b[0m\n\u001b[0;32m----> 1\u001b[0;31m \u001b[0mvec_inner_product\u001b[0m\u001b[0;34m(\u001b[0m\u001b[0;34m(\u001b[0m\u001b[0;36m3\u001b[0m\u001b[0;34m,\u001b[0m \u001b[0;36m5.8\u001b[0m\u001b[0;34m)\u001b[0m\u001b[0;34m,\u001b[0m \u001b[0;34m(\u001b[0m\u001b[0;36m5\u001b[0m\u001b[0;34m,\u001b[0m \u001b[0;36m9\u001b[0m\u001b[0;34m,\u001b[0m \u001b[0;36m3\u001b[0m\u001b[0;34m)\u001b[0m\u001b[0;34m)\u001b[0m\u001b[0;34m\u001b[0m\u001b[0m\n\u001b[0m",
      "\u001b[0;32m<ipython-input-37-b755007685f6>\u001b[0m in \u001b[0;36mvec_inner_product\u001b[0;34m(t1, t2)\u001b[0m\n\u001b[1;32m      8\u001b[0m \u001b[0;34m\u001b[0m\u001b[0m\n\u001b[1;32m      9\u001b[0m     \u001b[0;32mif\u001b[0m \u001b[0mlen\u001b[0m\u001b[0;34m(\u001b[0m\u001b[0mt1\u001b[0m\u001b[0;34m)\u001b[0m \u001b[0;34m!=\u001b[0m \u001b[0mlen\u001b[0m\u001b[0;34m(\u001b[0m\u001b[0mt2\u001b[0m\u001b[0;34m)\u001b[0m\u001b[0;34m:\u001b[0m\u001b[0;34m\u001b[0m\u001b[0m\n\u001b[0;32m---> 10\u001b[0;31m         \u001b[0;32mraise\u001b[0m \u001b[0mValueError\u001b[0m\u001b[0;34m(\u001b[0m\u001b[0;34m'Tuples t1 and t2 must be the same length'\u001b[0m\u001b[0;34m)\u001b[0m\u001b[0;34m\u001b[0m\u001b[0m\n\u001b[0m\u001b[1;32m     11\u001b[0m \u001b[0;34m\u001b[0m\u001b[0m\n\u001b[1;32m     12\u001b[0m     \u001b[0msum_index\u001b[0m \u001b[0;34m=\u001b[0m \u001b[0;32mlambda\u001b[0m \u001b[0mi\u001b[0m \u001b[0;34m:\u001b[0m \u001b[0mt1\u001b[0m\u001b[0;34m[\u001b[0m\u001b[0mi\u001b[0m\u001b[0;34m]\u001b[0m \u001b[0;34m*\u001b[0m \u001b[0mt2\u001b[0m\u001b[0;34m[\u001b[0m\u001b[0mi\u001b[0m\u001b[0;34m]\u001b[0m\u001b[0;34m\u001b[0m\u001b[0m\n",
      "\u001b[0;31mValueError\u001b[0m: Tuples t1 and t2 must be the same length"
     ]
    }
   ],
   "source": [
    "vec_inner_product((3, 5.8), (5, 9, 3))"
   ]
  },
  {
   "cell_type": "code",
   "execution_count": 40,
   "metadata": {},
   "outputs": [
    {
     "ename": "TypeError",
     "evalue": "Input tuple t1 and t2 must contain entries of either float or int",
     "output_type": "error",
     "traceback": [
      "\u001b[0;31m---------------------------------------------------------------------------\u001b[0m",
      "\u001b[0;31mTypeError\u001b[0m                                 Traceback (most recent call last)",
      "\u001b[0;32m<ipython-input-40-8430d109e905>\u001b[0m in \u001b[0;36m<module>\u001b[0;34m()\u001b[0m\n\u001b[0;32m----> 1\u001b[0;31m \u001b[0mvec_inner_product\u001b[0m\u001b[0;34m(\u001b[0m\u001b[0;34m(\u001b[0m\u001b[0;36m3\u001b[0m\u001b[0;34m,\u001b[0m \u001b[0;34m'a'\u001b[0m\u001b[0;34m)\u001b[0m\u001b[0;34m,\u001b[0m \u001b[0;34m(\u001b[0m\u001b[0;36m5\u001b[0m\u001b[0;34m,\u001b[0m \u001b[0;36m9\u001b[0m\u001b[0;34m)\u001b[0m\u001b[0;34m)\u001b[0m\u001b[0;34m\u001b[0m\u001b[0m\n\u001b[0m",
      "\u001b[0;32m<ipython-input-37-b755007685f6>\u001b[0m in \u001b[0;36mvec_inner_product\u001b[0;34m(t1, t2)\u001b[0m\n\u001b[1;32m      5\u001b[0m \u001b[0;34m\u001b[0m\u001b[0m\n\u001b[1;32m      6\u001b[0m     \u001b[0;32mif\u001b[0m \u001b[0;34m(\u001b[0m\u001b[0;32mnot\u001b[0m \u001b[0mis_num_tuple\u001b[0m\u001b[0;34m(\u001b[0m\u001b[0mt1\u001b[0m\u001b[0;34m)\u001b[0m\u001b[0;34m)\u001b[0m \u001b[0;32mor\u001b[0m \u001b[0;34m(\u001b[0m\u001b[0;32mnot\u001b[0m \u001b[0mis_num_tuple\u001b[0m\u001b[0;34m(\u001b[0m\u001b[0mt2\u001b[0m\u001b[0;34m)\u001b[0m\u001b[0;34m)\u001b[0m\u001b[0;34m:\u001b[0m\u001b[0;34m\u001b[0m\u001b[0m\n\u001b[0;32m----> 7\u001b[0;31m         \u001b[0;32mraise\u001b[0m \u001b[0mTypeError\u001b[0m\u001b[0;34m(\u001b[0m\u001b[0;34m'Input tuple t1 and t2 must contain entries of either float or int'\u001b[0m\u001b[0;34m)\u001b[0m\u001b[0;34m\u001b[0m\u001b[0m\n\u001b[0m\u001b[1;32m      8\u001b[0m \u001b[0;34m\u001b[0m\u001b[0m\n\u001b[1;32m      9\u001b[0m     \u001b[0;32mif\u001b[0m \u001b[0mlen\u001b[0m\u001b[0;34m(\u001b[0m\u001b[0mt1\u001b[0m\u001b[0;34m)\u001b[0m \u001b[0;34m!=\u001b[0m \u001b[0mlen\u001b[0m\u001b[0;34m(\u001b[0m\u001b[0mt2\u001b[0m\u001b[0;34m)\u001b[0m\u001b[0;34m:\u001b[0m\u001b[0;34m\u001b[0m\u001b[0m\n",
      "\u001b[0;31mTypeError\u001b[0m: Input tuple t1 and t2 must contain entries of either float or int"
     ]
    }
   ],
   "source": [
    "vec_inner_product((3, 'a'), (5, 9))"
   ]
  },
  {
   "cell_type": "code",
   "execution_count": 41,
   "metadata": {},
   "outputs": [
    {
     "ename": "TypeError",
     "evalue": "Input t1 and t2 must both be tuples",
     "output_type": "error",
     "traceback": [
      "\u001b[0;31m---------------------------------------------------------------------------\u001b[0m",
      "\u001b[0;31mTypeError\u001b[0m                                 Traceback (most recent call last)",
      "\u001b[0;32m<ipython-input-41-bd6770270237>\u001b[0m in \u001b[0;36m<module>\u001b[0;34m()\u001b[0m\n\u001b[0;32m----> 1\u001b[0;31m \u001b[0mvec_inner_product\u001b[0m\u001b[0;34m(\u001b[0m\u001b[0;34m')'\u001b[0m\u001b[0;34m,\u001b[0m \u001b[0;34m(\u001b[0m\u001b[0;36m5\u001b[0m\u001b[0;34m,\u001b[0m \u001b[0;36m9\u001b[0m\u001b[0;34m)\u001b[0m\u001b[0;34m)\u001b[0m\u001b[0;34m\u001b[0m\u001b[0m\n\u001b[0m",
      "\u001b[0;32m<ipython-input-37-b755007685f6>\u001b[0m in \u001b[0;36mvec_inner_product\u001b[0;34m(t1, t2)\u001b[0m\n\u001b[1;32m      2\u001b[0m \u001b[0;34m\u001b[0m\u001b[0m\n\u001b[1;32m      3\u001b[0m     \u001b[0;32mif\u001b[0m \u001b[0;34m(\u001b[0m\u001b[0mtype\u001b[0m\u001b[0;34m(\u001b[0m\u001b[0mt1\u001b[0m\u001b[0;34m)\u001b[0m \u001b[0;34m!=\u001b[0m \u001b[0mtuple\u001b[0m\u001b[0;34m)\u001b[0m \u001b[0;32mor\u001b[0m \u001b[0;34m(\u001b[0m\u001b[0mtype\u001b[0m\u001b[0;34m(\u001b[0m\u001b[0mt2\u001b[0m\u001b[0;34m)\u001b[0m \u001b[0;34m!=\u001b[0m \u001b[0mtuple\u001b[0m\u001b[0;34m)\u001b[0m\u001b[0;34m:\u001b[0m\u001b[0;34m\u001b[0m\u001b[0m\n\u001b[0;32m----> 4\u001b[0;31m         \u001b[0;32mraise\u001b[0m \u001b[0mTypeError\u001b[0m\u001b[0;34m(\u001b[0m\u001b[0;34m'Input t1 and t2 must both be tuples'\u001b[0m\u001b[0;34m)\u001b[0m\u001b[0;34m\u001b[0m\u001b[0m\n\u001b[0m\u001b[1;32m      5\u001b[0m \u001b[0;34m\u001b[0m\u001b[0m\n\u001b[1;32m      6\u001b[0m     \u001b[0;32mif\u001b[0m \u001b[0;34m(\u001b[0m\u001b[0;32mnot\u001b[0m \u001b[0mis_num_tuple\u001b[0m\u001b[0;34m(\u001b[0m\u001b[0mt1\u001b[0m\u001b[0;34m)\u001b[0m\u001b[0;34m)\u001b[0m \u001b[0;32mor\u001b[0m \u001b[0;34m(\u001b[0m\u001b[0;32mnot\u001b[0m \u001b[0mis_num_tuple\u001b[0m\u001b[0;34m(\u001b[0m\u001b[0mt2\u001b[0m\u001b[0;34m)\u001b[0m\u001b[0;34m)\u001b[0m\u001b[0;34m:\u001b[0m\u001b[0;34m\u001b[0m\u001b[0m\n",
      "\u001b[0;31mTypeError\u001b[0m: Input t1 and t2 must both be tuples"
     ]
    }
   ],
   "source": [
    "vec_inner_product(')', (5, 9))"
   ]
  },
  {
   "cell_type": "markdown",
   "metadata": {},
   "source": [
    "### 4.3"
   ]
  },
  {
   "cell_type": "code",
   "execution_count": 42,
   "metadata": {},
   "outputs": [],
   "source": [
    "def check_valid_mx(mat):\n",
    "    \n",
    "    if type(mat) != tuple:\n",
    "        raise TypeError('Input must be a tuple')\n",
    "        \n",
    "    for i in range(len(mat)):\n",
    "        if (type(mat[i]) != tuple) or (len(mat[i]) != len(mat[i - 1])) or (not is_num_tuple(mat[i])):\n",
    "            return False\n",
    "        \n",
    "    return True"
   ]
  },
  {
   "cell_type": "code",
   "execution_count": 43,
   "metadata": {},
   "outputs": [
    {
     "name": "stdout",
     "output_type": "stream",
     "text": [
      "False\n",
      "False\n"
     ]
    }
   ],
   "source": [
    "print(check_valid_mx(((1, 2, 3), (4, 5, 6), 'a')))\n",
    "print(check_valid_mx(((1, 2), (4, 5, 6), (7, 8, 9.0))))"
   ]
  },
  {
   "cell_type": "code",
   "execution_count": 44,
   "metadata": {},
   "outputs": [
    {
     "name": "stdout",
     "output_type": "stream",
     "text": [
      "True\n",
      "True\n"
     ]
    }
   ],
   "source": [
    "print(check_valid_mx(((1, 2, 3), (4, 5, 6), (7, 8, 9))))\n",
    "print(check_valid_mx(((1, 2, 3), (4, 5, 6), (7, 8, 9.0))))"
   ]
  },
  {
   "cell_type": "markdown",
   "metadata": {},
   "source": [
    "### 4.4\n",
    "\n",
    "When we consider row vectors and column vectors, we would need to account for left and right multiplication. However, for this problem, we only consider column vectors. The appendix includes a function that applies to column and row vectors. We need to see if the length of the column vector has dimensions equal the number of columns of the matrix.\n",
    "\n",
    "##### Example cases\n",
    "\n",
    "$\\underbrace{\\left[\\begin{array}{cc}a & b\\\\c & d\\\\e & f\\end{array}\\right]}_{3\\times2}\\underbrace{\\left[\\begin{array}{c}x\\\\y\\end{array}\\right]}_{2\\times1}=\\underbrace{\\left[\\begin{array}{c}ax+by\\\\cx+dy\\\\ex+fy\\end{array}\\right]}_{3\\times1}$\n",
    "\n",
    "$\\underbrace{\\left[\\begin{array}{ccc}\n",
    "a & b & c\\\\\n",
    "d & e & f\\\\\n",
    "g & h & i\n",
    "\\end{array}\\right]}_{3\\times3}\\underbrace{\\left[\\begin{array}{c}\n",
    "x\\\\\n",
    "y\\\\\n",
    "z\n",
    "\\end{array}\\right]}_{3\\times1}=\\underbrace{\\left[\\begin{array}{c}\n",
    "ax+by+cz\\\\\n",
    "dx+ey+fz\\\\\n",
    "gx+hy+iz\n",
    "\\end{array}\\right]}_{3\\times1}$"
   ]
  },
  {
   "cell_type": "code",
   "execution_count": 45,
   "metadata": {},
   "outputs": [],
   "source": [
    "def mx_vect_mult(mat, vec):\n",
    "    \n",
    "    if not check_valid_mx(mat):\n",
    "        raise ValueError('Input mat is not a valid matrix')\n",
    "        \n",
    "    if not is_num_tuple(vec):\n",
    "        raise ValueError('Input is neither a tuple nor a tuple containing elements of type float or int')\n",
    "        \n",
    "    if len(vec) != len(mat[0]):\n",
    "        raise ValueError('Length of vector must equal to column length of matrix')\n",
    "        \n",
    "    prod=()\n",
    "    \n",
    "    prod = lambda v1 : vec_inner_product(v1, vec)\n",
    "    \n",
    "    return map(prod, mat)"
   ]
  },
  {
   "cell_type": "markdown",
   "metadata": {},
   "source": [
    "$\\underbrace{\\left[\\begin{array}{cc}\n",
    "1 & 2\\\\\n",
    "3 & 4\\\\\n",
    "5 & 6\n",
    "\\end{array}\\right]}_{3\\times2}\\underbrace{\\left[\\begin{array}{c}\n",
    "10\\\\\n",
    "10\n",
    "\\end{array}\\right]}_{2\\times1}=\\underbrace{\\left[\\begin{array}{c}\n",
    "10+20\\\\\n",
    "30+40\\\\\n",
    "50+60\n",
    "\\end{array}\\right]}_{3\\times1}$"
   ]
  },
  {
   "cell_type": "code",
   "execution_count": 46,
   "metadata": {},
   "outputs": [
    {
     "data": {
      "text/plain": [
       "[30, 70, 110]"
      ]
     },
     "execution_count": 46,
     "metadata": {},
     "output_type": "execute_result"
    }
   ],
   "source": [
    "mx_vect_mult(((1, 2), (3, 4), (5, 6)), (10, 10))"
   ]
  },
  {
   "cell_type": "markdown",
   "metadata": {},
   "source": [
    "$\\underbrace{\\left[\\begin{array}{ccc}\n",
    "1 & 2 & 3\\\\\n",
    "4 & 5 & 6\n",
    "\\end{array}\\right]}_{2\\times3}\\underbrace{\\left[\\begin{array}{c}\n",
    "10\\\\\n",
    "10\\\\\n",
    "10\n",
    "\\end{array}\\right]}_{3\\times1}=\\underbrace{\\left[\\begin{array}{c}\n",
    "10+20+30\\\\\n",
    "40+50+60\n",
    "\\end{array}\\right]}_{2\\times1}$"
   ]
  },
  {
   "cell_type": "code",
   "execution_count": 47,
   "metadata": {},
   "outputs": [
    {
     "data": {
      "text/plain": [
       "[60, 150]"
      ]
     },
     "execution_count": 47,
     "metadata": {},
     "output_type": "execute_result"
    }
   ],
   "source": [
    "mx_vect_mult(((1, 2, 3), (4, 5, 6)), (10, 10, 10))"
   ]
  },
  {
   "cell_type": "markdown",
   "metadata": {},
   "source": [
    "$\\underbrace{\\left[\\begin{array}{ccc}\n",
    "10 & 10 & 10\\end{array}\\right]}_{1\\times3}\\underbrace{\\left[\\begin{array}{ccc}\n",
    "1 & 2 & 3\\\\\n",
    "4 & 5 & 6\\\\\n",
    "7 & 8 & 9\n",
    "\\end{array}\\right]}_{3\\times3}\\neq\\underbrace{\\left[\\begin{array}{ccc}\n",
    "1 & 2 & 3\\\\\n",
    "4 & 5 & 6\\\\\n",
    "7 & 8 & 9\n",
    "\\end{array}\\right]}_{3\\times3}\\underbrace{\\left[\\begin{array}{c}\n",
    "10\\\\\n",
    "10\\\\\n",
    "10\n",
    "\\end{array}\\right]}_{3\\times1}$\n",
    "\n",
    "$\\left[\\begin{array}{ccc}\n",
    "10+40+70, & 20+50+80, & 30+60+90\\end{array}\\right]\\neq\\left[\\begin{array}{c}\n",
    "10+20+30\\\\\n",
    "40+50+60\\\\\n",
    "70+80+90\n",
    "\\end{array}\\right]$"
   ]
  },
  {
   "cell_type": "code",
   "execution_count": 48,
   "metadata": {},
   "outputs": [
    {
     "data": {
      "text/plain": [
       "[60, 150, 240]"
      ]
     },
     "execution_count": 48,
     "metadata": {},
     "output_type": "execute_result"
    }
   ],
   "source": [
    "mx_vect_mult(((1, 2, 3), (4, 5, 6), (7, 8, 9)), (10, 10, 10))"
   ]
  },
  {
   "cell_type": "code",
   "execution_count": 49,
   "metadata": {
    "scrolled": false
   },
   "outputs": [
    {
     "ename": "ValueError",
     "evalue": "Length of vector must equal to column length of matrix",
     "output_type": "error",
     "traceback": [
      "\u001b[0;31m---------------------------------------------------------------------------\u001b[0m",
      "\u001b[0;31mValueError\u001b[0m                                Traceback (most recent call last)",
      "\u001b[0;32m<ipython-input-49-80e8e7939a8b>\u001b[0m in \u001b[0;36m<module>\u001b[0;34m()\u001b[0m\n\u001b[0;32m----> 1\u001b[0;31m \u001b[0mmx_vect_mult\u001b[0m\u001b[0;34m(\u001b[0m\u001b[0;34m(\u001b[0m\u001b[0;34m(\u001b[0m\u001b[0;36m1\u001b[0m\u001b[0;34m,\u001b[0m \u001b[0;36m2\u001b[0m\u001b[0;34m)\u001b[0m\u001b[0;34m,\u001b[0m \u001b[0;34m(\u001b[0m\u001b[0;36m3\u001b[0m\u001b[0;34m,\u001b[0m \u001b[0;36m4\u001b[0m\u001b[0;34m)\u001b[0m\u001b[0;34m,\u001b[0m \u001b[0;34m(\u001b[0m\u001b[0;36m5\u001b[0m\u001b[0;34m,\u001b[0m \u001b[0;36m6\u001b[0m\u001b[0;34m)\u001b[0m\u001b[0;34m)\u001b[0m\u001b[0;34m,\u001b[0m \u001b[0;34m(\u001b[0m\u001b[0;36m10\u001b[0m\u001b[0;34m,\u001b[0m \u001b[0;36m10\u001b[0m\u001b[0;34m,\u001b[0m \u001b[0;36m10\u001b[0m\u001b[0;34m)\u001b[0m\u001b[0;34m)\u001b[0m\u001b[0;34m\u001b[0m\u001b[0m\n\u001b[0m",
      "\u001b[0;32m<ipython-input-45-a6e4959718eb>\u001b[0m in \u001b[0;36mmx_vect_mult\u001b[0;34m(mat, vec)\u001b[0m\n\u001b[1;32m      8\u001b[0m \u001b[0;34m\u001b[0m\u001b[0m\n\u001b[1;32m      9\u001b[0m     \u001b[0;32mif\u001b[0m \u001b[0mlen\u001b[0m\u001b[0;34m(\u001b[0m\u001b[0mvec\u001b[0m\u001b[0;34m)\u001b[0m \u001b[0;34m!=\u001b[0m \u001b[0mlen\u001b[0m\u001b[0;34m(\u001b[0m\u001b[0mmat\u001b[0m\u001b[0;34m[\u001b[0m\u001b[0;36m0\u001b[0m\u001b[0;34m]\u001b[0m\u001b[0;34m)\u001b[0m\u001b[0;34m:\u001b[0m\u001b[0;34m\u001b[0m\u001b[0m\n\u001b[0;32m---> 10\u001b[0;31m         \u001b[0;32mraise\u001b[0m \u001b[0mValueError\u001b[0m\u001b[0;34m(\u001b[0m\u001b[0;34m'Length of vector must equal to column length of matrix'\u001b[0m\u001b[0;34m)\u001b[0m\u001b[0;34m\u001b[0m\u001b[0m\n\u001b[0m\u001b[1;32m     11\u001b[0m \u001b[0;34m\u001b[0m\u001b[0m\n\u001b[1;32m     12\u001b[0m     \u001b[0mprod\u001b[0m\u001b[0;34m=\u001b[0m\u001b[0;34m(\u001b[0m\u001b[0;34m)\u001b[0m\u001b[0;34m\u001b[0m\u001b[0m\n",
      "\u001b[0;31mValueError\u001b[0m: Length of vector must equal to column length of matrix"
     ]
    }
   ],
   "source": [
    "mx_vect_mult(((1, 2), (3, 4), (5, 6)), (10, 10, 10))"
   ]
  },
  {
   "cell_type": "code",
   "execution_count": 50,
   "metadata": {},
   "outputs": [
    {
     "ename": "ValueError",
     "evalue": "Length of vector must equal to column length of matrix",
     "output_type": "error",
     "traceback": [
      "\u001b[0;31m---------------------------------------------------------------------------\u001b[0m",
      "\u001b[0;31mValueError\u001b[0m                                Traceback (most recent call last)",
      "\u001b[0;32m<ipython-input-50-f758a2929142>\u001b[0m in \u001b[0;36m<module>\u001b[0;34m()\u001b[0m\n\u001b[0;32m----> 1\u001b[0;31m \u001b[0mmx_vect_mult\u001b[0m\u001b[0;34m(\u001b[0m\u001b[0;34m(\u001b[0m\u001b[0;34m(\u001b[0m\u001b[0;36m1\u001b[0m\u001b[0;34m,\u001b[0m \u001b[0;36m2\u001b[0m\u001b[0;34m,\u001b[0m \u001b[0;36m3\u001b[0m\u001b[0;34m)\u001b[0m\u001b[0;34m,\u001b[0m \u001b[0;34m(\u001b[0m\u001b[0;36m4\u001b[0m\u001b[0;34m,\u001b[0m \u001b[0;36m5\u001b[0m\u001b[0;34m,\u001b[0m \u001b[0;36m6\u001b[0m\u001b[0;34m)\u001b[0m\u001b[0;34m)\u001b[0m\u001b[0;34m,\u001b[0m \u001b[0;34m(\u001b[0m\u001b[0;36m10\u001b[0m\u001b[0;34m,\u001b[0m \u001b[0;36m10\u001b[0m\u001b[0;34m)\u001b[0m\u001b[0;34m)\u001b[0m\u001b[0;34m\u001b[0m\u001b[0m\n\u001b[0m",
      "\u001b[0;32m<ipython-input-45-a6e4959718eb>\u001b[0m in \u001b[0;36mmx_vect_mult\u001b[0;34m(mat, vec)\u001b[0m\n\u001b[1;32m      8\u001b[0m \u001b[0;34m\u001b[0m\u001b[0m\n\u001b[1;32m      9\u001b[0m     \u001b[0;32mif\u001b[0m \u001b[0mlen\u001b[0m\u001b[0;34m(\u001b[0m\u001b[0mvec\u001b[0m\u001b[0;34m)\u001b[0m \u001b[0;34m!=\u001b[0m \u001b[0mlen\u001b[0m\u001b[0;34m(\u001b[0m\u001b[0mmat\u001b[0m\u001b[0;34m[\u001b[0m\u001b[0;36m0\u001b[0m\u001b[0;34m]\u001b[0m\u001b[0;34m)\u001b[0m\u001b[0;34m:\u001b[0m\u001b[0;34m\u001b[0m\u001b[0m\n\u001b[0;32m---> 10\u001b[0;31m         \u001b[0;32mraise\u001b[0m \u001b[0mValueError\u001b[0m\u001b[0;34m(\u001b[0m\u001b[0;34m'Length of vector must equal to column length of matrix'\u001b[0m\u001b[0;34m)\u001b[0m\u001b[0;34m\u001b[0m\u001b[0m\n\u001b[0m\u001b[1;32m     11\u001b[0m \u001b[0;34m\u001b[0m\u001b[0m\n\u001b[1;32m     12\u001b[0m     \u001b[0mprod\u001b[0m\u001b[0;34m=\u001b[0m\u001b[0;34m(\u001b[0m\u001b[0;34m)\u001b[0m\u001b[0;34m\u001b[0m\u001b[0m\n",
      "\u001b[0;31mValueError\u001b[0m: Length of vector must equal to column length of matrix"
     ]
    }
   ],
   "source": [
    "mx_vect_mult(((1, 2, 3), (4, 5, 6)), (10, 10))"
   ]
  },
  {
   "cell_type": "code",
   "execution_count": null,
   "metadata": {},
   "outputs": [],
   "source": []
  }
 ],
 "metadata": {
  "kernelspec": {
   "display_name": "Python 3",
   "language": "python",
   "name": "python3"
  },
  "language_info": {
   "codemirror_mode": {
    "name": "ipython",
    "version": 2
   },
   "file_extension": ".py",
   "mimetype": "text/x-python",
   "name": "python",
   "nbconvert_exporter": "python",
   "pygments_lexer": "ipython2",
   "version": "2.7.14"
  }
 },
 "nbformat": 4,
 "nbformat_minor": 2
}
