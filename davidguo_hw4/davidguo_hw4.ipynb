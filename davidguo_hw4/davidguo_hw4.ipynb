{
 "cells": [
  {
   "cell_type": "markdown",
   "metadata": {},
   "source": [
    "# Stats701 Homework 4, Winter 2018\n",
    "### David Guo\n",
    "#### davidguo@umich.edu\n",
    "\n",
    "Discussion: For problem 3, I discussed with Jeanhee Pak.\n",
    "\n",
    "Overall ~  \n",
    "Time to do each homework problem (add write-up about 30 min to 1 hour)\n",
    "\n",
    "- Problem 1 took about 3 hours\n",
    "\n",
    "    -1.1: about 15 minutes\n",
    "    \n",
    "    -1.2: about 1 hour\n",
    "    \n",
    "    -1.3: about 1.25 hour\n",
    "\n",
    "- Problem 2 took about 3 hours.\n",
    "\n",
    "    -2.1: about 2 hours\n",
    "    \n",
    "    -2.2: about 30 minutes\n",
    "    \n",
    "- Problem 3 took about 3.5 hours.\n",
    "    \n",
    "    -3.1: 1 hour 20 min\n",
    "    \n",
    "    -3.2: 15 min\n",
    "    \n",
    "    -3.3: 10 min\n",
    "    \n",
    "    -3.4: 15 min\n",
    "    \n",
    "    -3.5: 40 min"
   ]
  },
  {
   "cell_type": "markdown",
   "metadata": {},
   "source": [
    "### 1\n",
    "\n",
    "All coding parts are included in one code block."
   ]
  },
  {
   "cell_type": "code",
   "execution_count": 99,
   "metadata": {
    "collapsed": false
   },
   "outputs": [],
   "source": [
    "class Vector:\n",
    "    '''Construct a vector'''\n",
    "\n",
    "    def __init__(self, dim = 1, vals = tuple([0])):\n",
    "        self.dim = dim\n",
    "        self.vals = vals\n",
    "        \n",
    "        \n",
    "        # Ensure inputs are valid\n",
    "        if type(self.dim) != int and type(self.vals) != tuple:\n",
    "            raise TypeError(\"dim must be an int, and vals must be a tuple\")\n",
    "        elif self.dim < 0:\n",
    "            raise ValueError(\"dim must be non-negative integer\")\n",
    "        elif len(self.vals) != self.dim:\n",
    "            raise ValueError(\"length of tuple must be same number as dim\")\n",
    "        elif type(self.vals) == tuple:\n",
    "            for i in range(len(self.vals)):\n",
    "                if type(self.vals[i]) != int and type(self.vals[i]) != float:\n",
    "                    raise TypeError('Entries in tuple vals must be of type int or float')\n",
    "                    \n",
    "    '''Part 4'''\n",
    "    def dot(self, other):\n",
    "        if isinstance(other, Vector):\n",
    "            if other.dim == self.dim:\n",
    "                new = 0\n",
    "                for i in range(0,self.dim):\n",
    "                    new += self.vals[i]*other.vals[i]\n",
    "                return new\n",
    "            else:\n",
    "                raise ValueError('Vector input must be of same dimension')\n",
    "        else:\n",
    "            raise TypeError('Object must be a vector')\n",
    "            \n",
    "    '''Part 5'''\n",
    "    def __mul__(self,other):\n",
    "        # Two vectors, do element-wise multiplication\n",
    "        if isinstance(other, Vector):\n",
    "            if other.dim == self.dim:\n",
    "                p = tuple()\n",
    "                for i in range(self.dim):\n",
    "                    p += (self.vals[i] * other.vals[i],)\n",
    "                return p\n",
    "            else:\n",
    "                raise ValueError('Vector input must be of same dimension')\n",
    "        # If we have vector and scalar multiplication\n",
    "        elif isinstance(other, int) or isinstance (other, float):\n",
    "            p = tuple()\n",
    "            for i in range(self.dim):\n",
    "                p += (other * self.vals[i],)\n",
    "            return p\n",
    "        else:\n",
    "            raise TypeError('Input must be 2 Vectors or 1 Vector and 1 scalar')\n",
    "    \n",
    "    # Ensure commutativity\n",
    "    \n",
    "    def __rmul__(self, other):\n",
    "        return self.__mul__(other)\n",
    "    \n",
    "    \n",
    "    '''Part 6'''\n",
    "    \n",
    "    def norm(self, p = 2):\n",
    "        if isinstance(p, int) or isinstance(p, float):\n",
    "            if p < 0:\n",
    "                raise ValueError('p must be non-negative')\n",
    "            elif p == 0:\n",
    "                return 1\n",
    "            elif p == float('+infinity'):\n",
    "                m = self.dim * [0]\n",
    "                for i in range(self.dim):\n",
    "                    m[i] = abs(self.vals[i])\n",
    "                return max(m)\n",
    "            else:\n",
    "                s = 0\n",
    "                for i in range(self.dim):\n",
    "                    s += abs(self.vals[i])**p\n",
    "                return s**(1/p)\n",
    "        else:\n",
    "            raise TypeError('p must be an int or float')"
   ]
  },
  {
   "cell_type": "markdown",
   "metadata": {
    "collapsed": true
   },
   "source": [
    "### 1.2\n",
    "\n",
    "I chose to use tuples because we want to make sure we do not accidentally increase or chop off dimensions. If this problem involved things like projection, it may be better to use a list.\n",
    "\n",
    "### 1.3\n",
    "\n",
    "The dimension and entries are instance attributes since these are properties of vectors that are not universally the same. It is the right design choice since we do not include a superfluous step of initializing the dimension and entries and then changing them if either might be different."
   ]
  },
  {
   "cell_type": "code",
   "execution_count": 80,
   "metadata": {
    "collapsed": false
   },
   "outputs": [],
   "source": [
    "v1 = Vector(dim = 2, vals = (2,-3))\n",
    "v2 = Vector(dim = 2, vals = (-2,9))"
   ]
  },
  {
   "cell_type": "code",
   "execution_count": 81,
   "metadata": {
    "collapsed": false
   },
   "outputs": [
    {
     "data": {
      "text/plain": [
       "-31"
      ]
     },
     "execution_count": 81,
     "metadata": {},
     "output_type": "execute_result"
    }
   ],
   "source": [
    "v1.dot(v2)"
   ]
  },
  {
   "cell_type": "code",
   "execution_count": 82,
   "metadata": {
    "collapsed": false
   },
   "outputs": [
    {
     "data": {
      "text/plain": [
       "(-4, -27)"
      ]
     },
     "execution_count": 82,
     "metadata": {},
     "output_type": "execute_result"
    }
   ],
   "source": [
    "v2 * v1"
   ]
  },
  {
   "cell_type": "code",
   "execution_count": 83,
   "metadata": {
    "collapsed": false
   },
   "outputs": [
    {
     "data": {
      "text/plain": [
       "3.605551275463989"
      ]
     },
     "execution_count": 83,
     "metadata": {},
     "output_type": "execute_result"
    }
   ],
   "source": [
    "v1.norm()"
   ]
  },
  {
   "cell_type": "code",
   "execution_count": 103,
   "metadata": {
    "collapsed": false
   },
   "outputs": [
    {
     "data": {
      "text/plain": [
       "3.506902770590465"
      ]
     },
     "execution_count": 103,
     "metadata": {},
     "output_type": "execute_result"
    }
   ],
   "source": [
    "v1.norm(2.2)"
   ]
  },
  {
   "cell_type": "code",
   "execution_count": 96,
   "metadata": {
    "collapsed": false
   },
   "outputs": [
    {
     "data": {
      "text/plain": [
       "3"
      ]
     },
     "execution_count": 96,
     "metadata": {},
     "output_type": "execute_result"
    }
   ],
   "source": [
    "v1.norm(float('Inf'))"
   ]
  },
  {
   "cell_type": "code",
   "execution_count": 97,
   "metadata": {
    "collapsed": false
   },
   "outputs": [
    {
     "data": {
      "text/plain": [
       "(4, -6)"
      ]
     },
     "execution_count": 97,
     "metadata": {},
     "output_type": "execute_result"
    }
   ],
   "source": [
    "2 * v1"
   ]
  },
  {
   "cell_type": "code",
   "execution_count": 98,
   "metadata": {
    "collapsed": false
   },
   "outputs": [
    {
     "data": {
      "text/plain": [
       "(4, -6)"
      ]
     },
     "execution_count": 98,
     "metadata": {},
     "output_type": "execute_result"
    }
   ],
   "source": [
    "v1 * 2"
   ]
  },
  {
   "cell_type": "markdown",
   "metadata": {},
   "source": [
    "### 2"
   ]
  },
  {
   "cell_type": "code",
   "execution_count": 131,
   "metadata": {
    "collapsed": false,
    "scrolled": true
   },
   "outputs": [],
   "source": [
    "class Point:\n",
    "    '''Represents a point in 2-D Euclidean Space'''\n",
    "    \n",
    "    '''Part 1'''\n",
    "    # Default initializes the origin\n",
    "    \n",
    "    def __init__(self, x = 0, y = 0):\n",
    "        self.x = x\n",
    "        self.y = y\n",
    "        \n",
    "    '''Part 2'''\n",
    "    # We define the equals, not equals, >, >=, <, and <= comparisions\n",
    "    def __eq__(self, other):\n",
    "        return ((self.x == other.x) and (self.y == other.y))\n",
    "    \n",
    "    def __ne__(self, other):\n",
    "        return ((self.x != other.x) or (self.y != other.y))\n",
    "    \n",
    "    # These operations check the equality of x because we compare that first\n",
    "    \n",
    "    def __lt__(self, other):\n",
    "        if self.x == other.x:\n",
    "            return self.y < other.y\n",
    "        else:\n",
    "            return self.x < other.x\n",
    "    \n",
    "    def __gt__(self, other):\n",
    "        if self.x == other.x:\n",
    "            return self.y > other.y\n",
    "        else:\n",
    "            return self.x > other.x\n",
    "        \n",
    "    def __le__(self, other):\n",
    "        if self.x == other.x:\n",
    "            return self.y <= other.y\n",
    "        else:\n",
    "            return self.x <= other.x\n",
    "    \n",
    "    def __ge__(self, other):\n",
    "        if self.x == other.x:\n",
    "            return self.y >= other.y\n",
    "        else:\n",
    "            return self.x >= other.x\n",
    "        \n",
    "        \n",
    "    '''Part 3'''\n",
    "    def __add__(self, other):\n",
    "        if isinstance(other, Point):\n",
    "            p_add = Point()\n",
    "            p_add.x = self.x + other.x\n",
    "            p_add.y = self.y + other.y\n",
    "            return p_add\n",
    "        else:\n",
    "            raise TypeError('Inputs need to be Point Objects')\n",
    "            \n",
    "    def __radd__(self, other):\n",
    "        return self.__add__(other)\n",
    "    \n",
    "    # For checking\n",
    "    def __str__(self):\n",
    "        return (\"(%f, %f)\" % (self.x, self.y))"
   ]
  },
  {
   "cell_type": "code",
   "execution_count": null,
   "metadata": {
    "collapsed": false
   },
   "outputs": [],
   "source": []
  },
  {
   "cell_type": "code",
   "execution_count": 132,
   "metadata": {
    "collapsed": false
   },
   "outputs": [],
   "source": [
    "p1 = Point(2,-5.5)\n",
    "p2 = Point(2,-3.5)"
   ]
  },
  {
   "cell_type": "code",
   "execution_count": 133,
   "metadata": {
    "collapsed": false
   },
   "outputs": [
    {
     "data": {
      "text/plain": [
       "False"
      ]
     },
     "execution_count": 133,
     "metadata": {},
     "output_type": "execute_result"
    }
   ],
   "source": [
    "p1 == p2"
   ]
  },
  {
   "cell_type": "code",
   "execution_count": 134,
   "metadata": {
    "collapsed": false
   },
   "outputs": [
    {
     "name": "stdout",
     "output_type": "stream",
     "text": [
      "(4.000000, -9.000000)\n"
     ]
    }
   ],
   "source": [
    "print(p1 + p2)"
   ]
  },
  {
   "cell_type": "code",
   "execution_count": 135,
   "metadata": {
    "collapsed": false
   },
   "outputs": [
    {
     "name": "stdout",
     "output_type": "stream",
     "text": [
      "(4.000000, -9.000000)\n"
     ]
    }
   ],
   "source": [
    "print(p2 + p1)"
   ]
  },
  {
   "cell_type": "code",
   "execution_count": 136,
   "metadata": {
    "collapsed": false
   },
   "outputs": [],
   "source": [
    "class Line:\n",
    "    '''Represents a line in the 2-D Euclidean Plane'''\n",
    "    '''Part 4'''\n",
    "    def __init__(self, slope = 0, yint = 0):\n",
    "        self.slope = slope\n",
    "        self.yint = yint\n",
    "    \n",
    "    def __str__(self):\n",
    "        return(\"y = %fx + %f\" % (self.slope, self.yint))\n",
    "    \n",
    "    '''Part 5\n",
    "    \n",
    "       First center line on origin and shifting point down by same y amount.\n",
    "       Add the intercept value afterwards.'''\n",
    "        \n",
    "    def project(self, point):\n",
    "        if isinstance(point, Point):\n",
    "            # shift point by intercept\n",
    "            point.y -= self.yint\n",
    "            \n",
    "            '''Take the unit vector for the line. \n",
    "            If it has slope greater than 1, the unit vector will have y component of slope.\n",
    "            Otherwise, the x component will be the slope.\n",
    "            '''\n",
    "            \n",
    "            if self.slope >= 1:\n",
    "                unit_line = Point(1, self.slope)\n",
    "            else:\n",
    "                unit_line = Point(self.slope, 1)\n",
    "                \n",
    "                \n",
    "            '''We could use Vector class from part 1, which may be useful\n",
    "            for larger dimensional projection, but for the purposes of this question,\n",
    "            I opted to input the dot product and norm manually.\n",
    "            \n",
    "            We use the projection formula from https://en.wikipedia.org/wiki/Vector_projection\n",
    "            '''\n",
    "            \n",
    "            orth_comp = point.x * unit_line.x + point.y * unit_line.y\n",
    "            par_comp = unit_line.x * unit_line.x + unit_line.y * unit_line.y\n",
    "            scale = orth_comp / par_comp\n",
    "            \n",
    "            proj = Point(scale * unit_line.x, scale * unit_line.y)\n",
    "            # Shift back to original y-intercept of line\n",
    "            proj.y += self.yint\n",
    "            \n",
    "            return proj\n",
    "            \n",
    "        else:\n",
    "            raise TypeError(\"Point Object must be entered\")"
   ]
  },
  {
   "cell_type": "code",
   "execution_count": 140,
   "metadata": {
    "collapsed": false
   },
   "outputs": [
    {
     "name": "stdout",
     "output_type": "stream",
     "text": [
      "(0.591182, 3.856311)\n"
     ]
    }
   ],
   "source": [
    "print(Line(3.14,2).project(Point(-3,5)))"
   ]
  },
  {
   "cell_type": "markdown",
   "metadata": {},
   "source": [
    "### 3"
   ]
  },
  {
   "cell_type": "code",
   "execution_count": 141,
   "metadata": {
    "collapsed": false
   },
   "outputs": [],
   "source": [
    "class Author:\n",
    "    '''Identify an author'''\n",
    "    '''Part 1'''\n",
    "    next_id = 0\n",
    "    authors = dict() #  Keeps track of all authors previously entered. Dict used in case author list grows large\n",
    "    \n",
    "    def __init__(self, given_name = None, family_name = None):\n",
    "        if type(given_name) == str and type(family_name) == str: \n",
    "            self.given_name = given_name\n",
    "            self.family_name = family_name\n",
    "            \n",
    "            # Check if author name exists in dictionary\n",
    "            k = (self.given_name, self.family_name)\n",
    "            if k not in self.authors:\n",
    "                self.authors[k] = 0\n",
    "            else:\n",
    "                self.authors[k] += 1\n",
    "                self.next_id = self.authors[k] # Increment the next_id\n",
    "            self.author_id = self.next_id\n",
    "            \n",
    "        else:\n",
    "            raise TypeError('Author names must be strings')\n",
    "    \n",
    "    \n",
    "    '''Part 2'''\n",
    "    def __str__(self):\n",
    "        return(\"%s, %s.\" % (self.family_name, self.given_name[0]))"
   ]
  },
  {
   "cell_type": "code",
   "execution_count": 145,
   "metadata": {
    "collapsed": false
   },
   "outputs": [
    {
     "name": "stdout",
     "output_type": "stream",
     "text": [
      "Smith-Hyphenated, J.\n"
     ]
    }
   ],
   "source": [
    "print(Author(\"John\", \"Smith-Hyphenated\"))"
   ]
  },
  {
   "cell_type": "code",
   "execution_count": 146,
   "metadata": {
    "collapsed": false
   },
   "outputs": [],
   "source": [
    "class Document:\n",
    "    '''Generate bibliography of a document'''\n",
    "    '''Part 3'''\n",
    "    def __init__(self, author = [], title = None, year = None):\n",
    "        if type(author) == list and type(title) == str and type(year) == int:\n",
    "            for i in range(len(author)):\n",
    "                if not isinstance(author[i], Author):\n",
    "                    raise TypeError(\"Entries in author list must be strings\")\n",
    "            self.author = author\n",
    "            self.title = title\n",
    "            self.year = year\n",
    "        else:\n",
    "            raise TypeError('Authors must be entered in as a list, title must be a string, and year must be an integer')\n",
    "    \n",
    "    '''Part 4'''\n",
    "    def __str__(self):\n",
    "        if self.author != None and self.title != None and self.year != None:\n",
    "            authors = \"\"\n",
    "            for i in range(len(self.author)):\n",
    "                if self.author[i] == None or not isinstance(self.author[i], Author):\n",
    "                    raise ValueError(\"Entries in author list must be specified\")\n",
    "                else:\n",
    "                    # Use the Author output method\n",
    "                    if i < len(self.author)-1: # All authors except last one\n",
    "                        authors += self.author[i].__str__() + \" and \"\n",
    "                    else: # Last author, don't print \"and\" after\n",
    "                        authors += self.author[i].__str__()\n",
    "                    \n",
    "            return(\"%s (%s). %s.\" % (authors, self.year, self.title))\n",
    "        else:\n",
    "            raise ValueError('Author, title, and year must be specified')"
   ]
  },
  {
   "cell_type": "code",
   "execution_count": 147,
   "metadata": {
    "collapsed": false
   },
   "outputs": [
    {
     "name": "stdout",
     "output_type": "stream",
     "text": [
      "Whitehead, A. and Russell, B. (1910). Principa Mathematica.\n"
     ]
    }
   ],
   "source": [
    "print(Document([Author(\"Alfred\",\"Whitehead\"), Author(\"Bertrand\",\"Russell\")],\"Principa Mathematica\",1910))"
   ]
  },
  {
   "cell_type": "code",
   "execution_count": 148,
   "metadata": {
    "collapsed": false
   },
   "outputs": [],
   "source": [
    "class Book(Document):\n",
    "    '''Includes document and publisher'''\n",
    "    \n",
    "    def __init__(self, author = [], title = None, year = None, publisher = ''):\n",
    "        if type(publisher) == str:\n",
    "            # Use Document initializer method\n",
    "            Document.__init__(self, author, title, year)\n",
    "            self.publisher = publisher\n",
    "        else:\n",
    "            raise TypeError(\"Publisher must be entered as string\")\n",
    "    \n",
    "    def __str__(self):\n",
    "        return(Document.__str__(self) + \" %s.\" % self.publisher)"
   ]
  },
  {
   "cell_type": "code",
   "execution_count": 149,
   "metadata": {
    "collapsed": false
   },
   "outputs": [
    {
     "name": "stdout",
     "output_type": "stream",
     "text": [
      "Whitehead, A. and Russell, B. (1910). Principa Mathematica. Cambridge.\n"
     ]
    }
   ],
   "source": [
    "print(Book([Author(\"Alfred\",\"Whitehead\"), Author(\"Bertrand\",\"Russell\")],\"Principa Mathematica\",1910,\"Cambridge\"))"
   ]
  },
  {
   "cell_type": "code",
   "execution_count": null,
   "metadata": {
    "collapsed": true
   },
   "outputs": [],
   "source": []
  },
  {
   "cell_type": "code",
   "execution_count": null,
   "metadata": {
    "collapsed": true
   },
   "outputs": [],
   "source": []
  }
 ],
 "metadata": {
  "kernelspec": {
   "display_name": "Python 3",
   "language": "python",
   "name": "python3"
  },
  "language_info": {
   "codemirror_mode": {
    "name": "ipython",
    "version": 3
   },
   "file_extension": ".py",
   "mimetype": "text/x-python",
   "name": "python",
   "nbconvert_exporter": "python",
   "pygments_lexer": "ipython3",
   "version": "3.6.0"
  }
 },
 "nbformat": 4,
 "nbformat_minor": 2
}
