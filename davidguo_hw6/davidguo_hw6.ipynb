{
 "cells": [
  {
   "cell_type": "markdown",
   "metadata": {},
   "source": [
    "# Stats701 Homework 6, Winter 2018\n",
    "### David Guo\n",
    "#### davidguo@umich.edu\n",
    "\n",
    "Discussion: Discussed 2 with Jeanhee Pak. \n",
    "\n",
    "Time to do each homework problem:\n",
    "\n",
    "- Problem 1 took about 5 hours\n",
    "\n",
    "- Problem 2 took about 1.5 hours\n",
    "    \n",
    "- Problem 3 took about 4 hours\n",
    "\n",
    "- Write-up took about 2 hours"
   ]
  },
  {
   "cell_type": "code",
   "execution_count": 2,
   "metadata": {
    "collapsed": true
   },
   "outputs": [],
   "source": [
    "import numpy as np\n",
    "import scipy.stats\n",
    "\n",
    "import matplotlib as mp\n",
    "import matplotlib.pyplot as plt\n",
    "%matplotlib inline\n",
    "\n",
    "import math"
   ]
  },
  {
   "cell_type": "markdown",
   "metadata": {},
   "source": [
    "### 1\n",
    "\n",
    "#### 1.1\n",
    "\n",
    "1) I use a Gamma distribution with a shape $a=4$. I normalize it with location at -2 and scale it with 1/2. (https://docs.scipy.org/doc/scipy/reference/generated/scipy.stats.gamma.html#scipy.stats.gamma)\n",
    "\n",
    "\n",
    "2) I use the Poisson(1) - 1 mentioned in the HW setup.\n",
    "\n",
    "3) I modify the Uniform distribution mentioned, using the location as $-\\sqrt{3}$ so that the mean is $(\\sqrt{12}-2\\cdot\\sqrt{3})=0$ and scale as $\\sqrt{12}$. Thus the variance would be $(\\sqrt{12}-\\sqrt{3}-(-\\sqrt{3}))^2/12 = 1$. So the distribution is\n",
    "\n",
    "$\\frac{\\text{Unif}\\left(-\\sqrt{3},\\sqrt{12}-\\sqrt{3}\\right)-\\sqrt{3}}{\\sqrt{12}}$\n",
    "\n",
    "\n",
    "(https://docs.scipy.org/doc/scipy/reference/generated/scipy.stats.uniform.html#scipy.stats.uniform)\n",
    "\n",
    "4) The final distribution I use is the exponential $e^{-x}-1$. The location -1 to center the mean at 0."
   ]
  },
  {
   "cell_type": "code",
   "execution_count": 237,
   "metadata": {
    "collapsed": false
   },
   "outputs": [],
   "source": [
    "# Gamma\n",
    "a = 4\n",
    "d1 = scipy.stats.gamma(a = a, loc = -2, scale = 1/2)\n",
    "\n",
    "# Poisson(1) - 1\n",
    "mu = 1\n",
    "d2 = scipy.stats.poisson(mu = mu, loc = -1)\n",
    "\n",
    "# sqrt(12)^-0.5(Uniform(-sqrt(3), -sqrt(3)+sqrt(12)) -sqrt(3))\n",
    "d3 = scipy.stats.uniform(loc = -3**0.5, scale = 12**0.5)\n",
    "\n",
    "# Exp\n",
    "d4 = scipy.stats.expon(loc = -1, scale = 1)"
   ]
  },
  {
   "cell_type": "code",
   "execution_count": 238,
   "metadata": {
    "collapsed": false
   },
   "outputs": [
    {
     "name": "stdout",
     "output_type": "stream",
     "text": [
      "(array(0.), array(1.))\n",
      "(array(0.), array(1.))\n",
      "(array(0.), array(1.))\n",
      "(array(0.), array(1.))\n"
     ]
    }
   ],
   "source": [
    "# Check mean and variance\n",
    "print(d1.stats(moments = 'mv'))\n",
    "print(d2.stats(moments = 'mv'))\n",
    "print(d3.stats(moments = 'mv'))\n",
    "print(d4.stats(moments = 'mv'))"
   ]
  },
  {
   "cell_type": "code",
   "execution_count": 240,
   "metadata": {
    "collapsed": false
   },
   "outputs": [],
   "source": [
    "n = 20\n",
    "m = 1000"
   ]
  },
  {
   "cell_type": "markdown",
   "metadata": {},
   "source": [
    "Since we have to draw from the distribution multiple times, I write a function to do this so code is readable later on. I write functions also for plotting."
   ]
  },
  {
   "cell_type": "code",
   "execution_count": 243,
   "metadata": {
    "collapsed": true
   },
   "outputs": [],
   "source": [
    "def get_indep_draw(X, n):\n",
    "    emp = np.zeros(m)\n",
    "    for i in range(m):\n",
    "        X_samp = np.random.choice(X, size = n)\n",
    "        emp[i] = (n**.5)*np.mean(X_samp)\n",
    "    return emp\n",
    "\n",
    "def set_y_axis(ymax): # to ensure same y-axis values\n",
    "    plt.ylim(0, ymax)\n",
    "    plt.yticks(np.arange(0,ymax + 0.1,0.1))\n",
    "\n",
    "def make_hist(emp):\n",
    "    (n, bins, patches) = plt.hist(emp, 50, normed = 1, range = xrange)"
   ]
  },
  {
   "cell_type": "code",
   "execution_count": 244,
   "metadata": {
    "collapsed": false
   },
   "outputs": [],
   "source": [
    "np.random.seed(293837)\n",
    "emp1 = get_indep_draw(d1.rvs(size = m), n = 20)\n",
    "emp2 = get_indep_draw(d2.rvs(size = m), n = 20)\n",
    "emp3 = get_indep_draw(d3.rvs(size = m), n = 20)\n",
    "emp4 = get_indep_draw(d4.rvs(size = m), n = 20)"
   ]
  },
  {
   "cell_type": "code",
   "execution_count": 245,
   "metadata": {
    "collapsed": false
   },
   "outputs": [
    {
     "data": {
      "image/png": "[encoded data removed]",
      "text/plain": [
       "<matplotlib.figure.Figure at 0x11dc30f28>"
      ]
     },
     "metadata": {},
     "output_type": "display_data"
    }
   ],
   "source": [
    "xrange = (-4.5,4.5)\n",
    "plt.subplot(221)\n",
    "set_y_axis(0.65)\n",
    "make_hist(emp1)\n",
    "plt.subplot(222)\n",
    "set_y_axis(0.65)\n",
    "make_hist(emp2)\n",
    "plt.subplot(223)\n",
    "set_y_axis(0.65)\n",
    "make_hist(emp3)\n",
    "plt.subplot(224)\n",
    "set_y_axis(0.65)\n",
    "make_hist(emp4)"
   ]
  },
  {
   "cell_type": "markdown",
   "metadata": {},
   "source": [
    "#### 1.2\n",
    "\n",
    "These are the labeled plots, with the implied \"Sample Mean (n = 20) from distribution:\" is added in title, but was not specified in the instructions."
   ]
  },
  {
   "cell_type": "code",
   "execution_count": 248,
   "metadata": {
    "collapsed": false
   },
   "outputs": [
    {
     "data": {
      "image/png": "[encoded data removed]",
      "text/plain": [
       "<matplotlib.figure.Figure at 0x11ef82400>"
      ]
     },
     "metadata": {},
     "output_type": "display_data"
    }
   ],
   "source": [
    "xrange = (-4.5,4.5)\n",
    "plt.subplot(221)\n",
    "set_y_axis(0.65)\n",
    "plt.title('$2\\cdot$($\\Gamma$(4,1)-1/2)')\n",
    "make_hist(emp1)\n",
    "\n",
    "plt.subplot(222)\n",
    "set_y_axis(0.65)\n",
    "plt.title('Poisson(1) - 1')\n",
    "make_hist(emp2)\n",
    "\n",
    "plt.subplot(223)\n",
    "set_y_axis(0.65)\n",
    "plt.title('(Unif($-\\sqrt{3}$, $-\\sqrt{3}+\\sqrt{12}$)-$\\sqrt{3}$)/$\\sqrt{12}$')\n",
    "make_hist(emp3)\n",
    "\n",
    "plt.subplot(224)\n",
    "set_y_axis(0.65)\n",
    "plt.title('Exp(1) - 1')\n",
    "make_hist(emp4)\n",
    "\n",
    "plt.tight_layout() # so title in 2nd row doesn't overlap, https://matplotlib.org/users/tight_layout_guide.html"
   ]
  },
  {
   "cell_type": "markdown",
   "metadata": {},
   "source": [
    "#### 1.3\n",
    "\n",
    "We add the standard normal as a solid line using the documentation linked in the homework."
   ]
  },
  {
   "cell_type": "code",
   "execution_count": 249,
   "metadata": {
    "collapsed": false
   },
   "outputs": [
    {
     "data": {
      "image/png": "[encoded data removed]",
      "text/plain": [
       "<matplotlib.figure.Figure at 0x11e3aec88>"
      ]
     },
     "metadata": {},
     "output_type": "display_data"
    }
   ],
   "source": [
    "from scipy.stats import norm\n",
    "\n",
    "xrange = (-4.5,4.5)\n",
    "x = np.linspace(norm.ppf(0.001), norm.ppf(0.999), 100) # for normal dist\n",
    "\n",
    "plt.subplot(221)\n",
    "set_y_axis(0.65)\n",
    "plt.title('$2\\cdot$($\\Gamma$(4,1)-1/2)')\n",
    "make_hist(emp1)\n",
    "plt.plot(x, norm.pdf(x), 'r-', lw=3, alpha=0.8, label='norm pdf')\n",
    "\n",
    "\n",
    "plt.subplot(222)\n",
    "set_y_axis(0.65)\n",
    "plt.title('Poisson(1) - 1')\n",
    "make_hist(emp2)\n",
    "plt.plot(x, norm.pdf(x), 'r-', lw=3, alpha=0.8, label='norm pdf')\n",
    "\n",
    "\n",
    "plt.subplot(223)\n",
    "set_y_axis(0.65)\n",
    "plt.title('(Unif($-\\sqrt{3}$, $-\\sqrt{3}+\\sqrt{12}$)-$\\sqrt{3}$)/$\\sqrt{12}$')\n",
    "make_hist(emp3)\n",
    "plt.plot(x, norm.pdf(x), 'r-', lw=3, alpha=0.8, label='norm pdf')\n",
    "\n",
    "plt.subplot(224)\n",
    "set_y_axis(0.65)\n",
    "plt.title('Exp(1) - 1')\n",
    "make_hist(emp4)\n",
    "plt.plot(x, norm.pdf(x), 'r-', lw=3, alpha=0.8, label='norm pdf')\n",
    "\n",
    "plt.tight_layout()"
   ]
  },
  {
   "cell_type": "markdown",
   "metadata": {
    "collapsed": false
   },
   "source": [
    "#### 1.4\n",
    "\n",
    "The plots do not look equally normal. The normalized sample mean of the uniform and gamma distributions are closest to being normal. The normalized sample mean of the exponential distribution is approximately normal. The Poisson distribution, being a discrete distribution, has some sparseness in its normalized sample mean distribution. Increasing the sample size n to 100 for both sample sizes makes the normalized sample mean distributions approach a normal distribution (the maximal y value for the Poisson now does not exceed 0.5)"
   ]
  },
  {
   "cell_type": "code",
   "execution_count": 221,
   "metadata": {
    "collapsed": false
   },
   "outputs": [
    {
     "data": {
      "text/plain": [
       "[<matplotlib.lines.Line2D at 0x11ea17b70>]"
      ]
     },
     "execution_count": 221,
     "metadata": {},
     "output_type": "execute_result"
    },
    {
     "data": {
      "image/png": "[encoded data removed]",
      "text/plain": [
       "<matplotlib.figure.Figure at 0x11e05c080>"
      ]
     },
     "metadata": {},
     "output_type": "display_data"
    }
   ],
   "source": [
    "np.random.seed(293837)\n",
    "exp_100 = get_indep_draw(d4.rvs(size = m), n = 100)\n",
    "pois_100 = get_indep_draw(d2.rvs(size = m), n = 100)\n",
    "\n",
    "xrange = (-4.5,4.5)\n",
    "x = np.linspace(norm.ppf(0.001), norm.ppf(0.999), 100) # for normal dist\n",
    "\n",
    "plt.subplot(121)\n",
    "set_y_axis(0.5)\n",
    "plt.title('Poisson(1) - 1, n = 100')\n",
    "make_hist(pois_100)\n",
    "plt.plot(x, norm.pdf(x), 'r-', lw=3, alpha=0.8, label='norm pdf')\n",
    "plt.subplot(122)\n",
    "set_y_axis(0.5)\n",
    "plt.title('Exp(1) - 1, n = 100')\n",
    "make_hist(pois_300)\n",
    "plt.plot(x, norm.pdf(x), 'r-', lw=3, alpha=0.8, label='norm pdf')"
   ]
  },
  {
   "cell_type": "markdown",
   "metadata": {},
   "source": [
    "### 2\n",
    "\n",
    "#### 2.1"
   ]
  },
  {
   "cell_type": "code",
   "execution_count": 4,
   "metadata": {
    "collapsed": false
   },
   "outputs": [],
   "source": [
    "points = np.loadtxt(\"points.dlm\")\n",
    "labels = np.load(\"labels.npy\")"
   ]
  },
  {
   "cell_type": "code",
   "execution_count": 5,
   "metadata": {
    "collapsed": false
   },
   "outputs": [
    {
     "data": {
      "text/plain": [
       "array([[0.4579593 , 0.54352873],\n",
       "       [0.08891206, 0.76618616],\n",
       "       [0.1464601 , 0.78467006],\n",
       "       [0.64990065, 0.19183258],\n",
       "       [0.57086316, 0.40393525],\n",
       "       [0.29572486, 0.58500418],\n",
       "       [0.15027556, 0.80593204],\n",
       "       [0.25960085, 0.67009997],\n",
       "       [0.47471736, 0.34099282],\n",
       "       [0.43924813, 0.48635789],\n",
       "       [0.49324641, 0.2586415 ],\n",
       "       [0.57028107, 0.50604562],\n",
       "       [0.35078376, 0.47766205],\n",
       "       [0.70058495, 0.28676208],\n",
       "       [0.58608077, 0.43146247],\n",
       "       [0.31866683, 0.53642412],\n",
       "       [0.31731621, 0.68709491],\n",
       "       [0.24563737, 0.58151459],\n",
       "       [0.5904017 , 0.3461213 ],\n",
       "       [0.58237811, 0.33313413],\n",
       "       [0.19892317, 0.67976276],\n",
       "       [0.57546381, 0.35036447],\n",
       "       [0.46371709, 0.5295031 ],\n",
       "       [0.32796263, 0.45138817],\n",
       "       [0.6607364 , 0.44828526],\n",
       "       [0.46272305, 0.39791724],\n",
       "       [0.49184597, 0.54705932],\n",
       "       [0.50921879, 0.4074183 ],\n",
       "       [0.61658102, 0.30684193],\n",
       "       [0.23957465, 0.78174214],\n",
       "       [0.98788763, 0.25612301],\n",
       "       [0.43935002, 0.58660702],\n",
       "       [0.66482333, 0.29891202],\n",
       "       [0.60263426, 0.37866228],\n",
       "       [0.56837198, 0.26416983],\n",
       "       [0.69657665, 0.35872523],\n",
       "       [0.42043429, 0.65431878],\n",
       "       [0.29179239, 0.66577307],\n",
       "       [0.24397187, 0.81748828],\n",
       "       [0.61875561, 0.23386808],\n",
       "       [0.62094666, 0.17672824],\n",
       "       [0.33846404, 0.67861843],\n",
       "       [0.22457187, 0.67582344],\n",
       "       [0.60730626, 0.27691737],\n",
       "       [0.29762253, 0.51340779],\n",
       "       [0.70057987, 0.19008793],\n",
       "       [0.52992117, 0.33167716],\n",
       "       [0.65451439, 0.4775688 ],\n",
       "       [0.48439029, 0.38565647],\n",
       "       [0.59316262, 0.21180614],\n",
       "       [0.62393076, 0.23566385],\n",
       "       [0.28701875, 0.65450685],\n",
       "       [0.5669089 , 0.36629169],\n",
       "       [0.66209265, 0.39948423],\n",
       "       [0.61307133, 0.44560697],\n",
       "       [0.53671542, 0.33630767],\n",
       "       [0.6895264 , 0.20467836],\n",
       "       [0.35133969, 0.54352624],\n",
       "       [0.44997511, 0.40756086],\n",
       "       [0.5394386 , 0.39438351],\n",
       "       [0.22968233, 0.4922065 ],\n",
       "       [0.11498777, 0.69995111],\n",
       "       [0.2455789 , 0.76928349],\n",
       "       [0.66046001, 0.21102321],\n",
       "       [0.7630166 , 0.16275265],\n",
       "       [0.64328726, 0.34861576],\n",
       "       [0.25315303, 0.78425461],\n",
       "       [0.60620086, 0.29583114],\n",
       "       [0.25670522, 0.75940509],\n",
       "       [0.16971348, 0.80836049],\n",
       "       [0.29513861, 0.48452504],\n",
       "       [0.77097648, 0.32736109],\n",
       "       [0.60973289, 0.37173878],\n",
       "       [0.5525419 , 0.19627671],\n",
       "       [0.27241611, 0.55856344],\n",
       "       [0.56669602, 0.45601269],\n",
       "       [0.66040294, 0.2731265 ],\n",
       "       [0.11578343, 0.61802287],\n",
       "       [0.53721761, 0.45819348],\n",
       "       [0.45411318, 0.5536157 ],\n",
       "       [0.27548522, 0.84426202],\n",
       "       [0.61511743, 0.36931854],\n",
       "       [0.68000348, 0.33467903],\n",
       "       [0.1635509 , 0.82284148],\n",
       "       [0.15682285, 0.49600447],\n",
       "       [0.56000414, 0.3592668 ],\n",
       "       [0.71925923, 0.33271059],\n",
       "       [0.75186326, 0.27595095],\n",
       "       [0.66612169, 0.30767922],\n",
       "       [0.56438619, 0.37365054],\n",
       "       [0.59741833, 0.13264062],\n",
       "       [0.72124444, 0.34970168],\n",
       "       [0.71800262, 0.29086091],\n",
       "       [0.41813707, 0.48368386],\n",
       "       [0.23825821, 0.53769212],\n",
       "       [0.28194818, 0.78410381],\n",
       "       [0.15770714, 0.5562691 ],\n",
       "       [0.67051462, 0.35218482],\n",
       "       [0.52862474, 0.55765036],\n",
       "       [0.67658719, 0.34950561]])"
      ]
     },
     "execution_count": 5,
     "metadata": {},
     "output_type": "execute_result"
    }
   ],
   "source": [
    "points[:,:]"
   ]
  },
  {
   "cell_type": "code",
   "execution_count": 6,
   "metadata": {
    "collapsed": false
   },
   "outputs": [
    {
     "data": {
      "text/plain": [
       "array([0.4579593 , 0.08891206, 0.1464601 , 0.64990065, 0.57086316,\n",
       "       0.29572486, 0.15027556, 0.25960085, 0.47471736, 0.43924813,\n",
       "       0.49324641, 0.57028107, 0.35078376, 0.70058495, 0.58608077,\n",
       "       0.31866683, 0.31731621, 0.24563737, 0.5904017 , 0.58237811,\n",
       "       0.19892317, 0.57546381, 0.46371709, 0.32796263, 0.6607364 ,\n",
       "       0.46272305, 0.49184597, 0.50921879, 0.61658102, 0.23957465,\n",
       "       0.98788763, 0.43935002, 0.66482333, 0.60263426, 0.56837198,\n",
       "       0.69657665, 0.42043429, 0.29179239, 0.24397187, 0.61875561,\n",
       "       0.62094666, 0.33846404, 0.22457187, 0.60730626, 0.29762253,\n",
       "       0.70057987, 0.52992117, 0.65451439, 0.48439029, 0.59316262,\n",
       "       0.62393076, 0.28701875, 0.5669089 , 0.66209265, 0.61307133,\n",
       "       0.53671542, 0.6895264 , 0.35133969, 0.44997511, 0.5394386 ,\n",
       "       0.22968233, 0.11498777, 0.2455789 , 0.66046001, 0.7630166 ,\n",
       "       0.64328726, 0.25315303, 0.60620086, 0.25670522, 0.16971348,\n",
       "       0.29513861, 0.77097648, 0.60973289, 0.5525419 , 0.27241611,\n",
       "       0.56669602, 0.66040294, 0.11578343, 0.53721761, 0.45411318,\n",
       "       0.27548522, 0.61511743, 0.68000348, 0.1635509 , 0.15682285,\n",
       "       0.56000414, 0.71925923, 0.75186326, 0.66612169, 0.56438619,\n",
       "       0.59741833, 0.72124444, 0.71800262, 0.41813707, 0.23825821,\n",
       "       0.28194818, 0.15770714, 0.67051462, 0.52862474, 0.67658719])"
      ]
     },
     "execution_count": 6,
     "metadata": {},
     "output_type": "execute_result"
    }
   ],
   "source": [
    "points[:,0]"
   ]
  },
  {
   "cell_type": "code",
   "execution_count": 7,
   "metadata": {
    "collapsed": false
   },
   "outputs": [
    {
     "data": {
      "text/plain": [
       "array([0., 0., 0., 0., 1., 0., 0., 0., 1., 0., 1., 1., 0., 1., 1., 0., 0.,\n",
       "       0., 1., 1., 0., 1., 1., 1., 1., 1., 1., 1., 1., 0., 1., 1., 1., 1.,\n",
       "       1., 1., 0., 0., 0., 1., 1., 0., 0., 1., 0., 1., 0., 1., 1., 1., 1.,\n",
       "       0., 1., 1., 1., 1., 1., 0., 0., 1., 0., 0., 0., 1., 1., 1., 0., 1.,\n",
       "       0., 0., 0., 1., 1., 1., 0., 1., 1., 0., 1., 1., 0., 1., 1., 0., 0.,\n",
       "       0., 1., 1., 1., 1., 1., 1., 1., 0., 0., 0., 0., 1., 1., 1.])"
      ]
     },
     "execution_count": 7,
     "metadata": {},
     "output_type": "execute_result"
    }
   ],
   "source": [
    "labels"
   ]
  },
  {
   "cell_type": "markdown",
   "metadata": {},
   "source": [
    "#### 2.2\n",
    "\n",
    "We subset the points array using two arguments. We use a boolean to check if the index of a point is for label 0 or label 1. Then the 2nd argument, is the index for each element (each element is a length 2 array, so 0 indicates the first element x, and 1 indicates the 2nd element y)."
   ]
  },
  {
   "cell_type": "code",
   "execution_count": 8,
   "metadata": {
    "collapsed": false
   },
   "outputs": [
    {
     "data": {
      "text/plain": [
       "(0, 1)"
      ]
     },
     "execution_count": 8,
     "metadata": {},
     "output_type": "execute_result"
    },
    {
     "data": {
      "image/png": "[encoded data removed]",
      "text/plain": [
       "<matplotlib.figure.Figure at 0x11cf4a470>"
      ]
     },
     "metadata": {},
     "output_type": "display_data"
    }
   ],
   "source": [
    "_ = plt.plot(points[labels == 0,0], points[labels == 0,1], 'xb',\\\n",
    "            points[labels == 1,0], points[labels == 1,1], 'xr', \\\n",
    "            markersize = 10)\n",
    "plt.xlim([0,1])\n",
    "plt.ylim([0,1])"
   ]
  },
  {
   "cell_type": "markdown",
   "metadata": {
    "collapsed": true
   },
   "source": [
    "#### 2.3\n",
    "\n",
    "I followed the slides to construct the contour.\n",
    "\n",
    "Using the fact that the cdf of the $\\chi_{2}^{2}\\left(p\\right)$ is $1-e^{-\\frac{p}{2}}$, then we can get the \"height\" (the level) for the boundary of the ellipse by plugging this value into the pdf."
   ]
  },
  {
   "cell_type": "code",
   "execution_count": 47,
   "metadata": {
    "collapsed": false
   },
   "outputs": [
    {
     "data": {
      "text/plain": [
       "(0, 1)"
      ]
     },
     "execution_count": 47,
     "metadata": {},
     "output_type": "execute_result"
    },
    {
     "data": {
      "image/png": "[encoded data removed]",
      "text/plain": [
       "<matplotlib.figure.Figure at 0x11da326a0>"
      ]
     },
     "metadata": {},
     "output_type": "display_data"
    }
   ],
   "source": [
    "mu1 = np.array([0.2, 0.7])\n",
    "Sigma1 = np.array([[0.015, -0.011],[-0.011, 0.018]])\n",
    "\n",
    "mu2 = np.array([0.65, 0.3])\n",
    "Sigma2 = np.array([[0.016, -0.011],[-0.011, 0.016]])\n",
    "\n",
    "mvn1 = scipy.stats.multivariate_normal(mu1, Sigma1)\n",
    "mvn2 = scipy.stats.multivariate_normal(mu2, Sigma2)\n",
    "\n",
    "x, y = np.mgrid[0:1:0.01, 0:1:0.01]\n",
    "pos = np.empty(x.shape + (2,))\n",
    "pos[:, :, 0] = x\n",
    "pos[:, :, 1] = y\n",
    "\n",
    "plt.contour(x,y,mvn1.pdf(pos), levels = [mvn1.pdf(1-math.exp(-0.68/2)), mvn1.pdf(1-math.exp(-0.95/2))], colors = 'b')\n",
    "plt.contour(x,y,mvn2.pdf(pos), levels = [mvn2.pdf(1-math.exp(-0.68/2)), mvn2.pdf(1-math.exp(-0.95/2))], colors = 'r')\n",
    "\n",
    "# Previous part\n",
    "_ = plt.plot(points[labels == 0,0], points[labels == 0,1], 'xb',\\\n",
    "            points[labels == 1,0], points[labels == 1,1], 'xr', \\\n",
    "            markersize = 10)\n",
    "\n",
    "plt.xlim([0,1])\n",
    "plt.ylim([0,1])"
   ]
  },
  {
   "cell_type": "markdown",
   "metadata": {
    "collapsed": false
   },
   "source": [
    "#### 2.4\n",
    "\n",
    "I deemed any point outside the 95% region for each normal distribution as an outlier. The red cluster appears normal. The blue cluster does not appear normal (due to the sparseness in the top-left region), and with 1 outlier."
   ]
  },
  {
   "cell_type": "code",
   "execution_count": 48,
   "metadata": {
    "collapsed": false
   },
   "outputs": [],
   "source": [
    "#points[points[:,0] > 0.9][0]"
   ]
  },
  {
   "cell_type": "code",
   "execution_count": 49,
   "metadata": {
    "collapsed": false
   },
   "outputs": [
    {
     "data": {
      "text/plain": [
       "<matplotlib.text.Annotation at 0x11d02fb70>"
      ]
     },
     "execution_count": 49,
     "metadata": {},
     "output_type": "execute_result"
    },
    {
     "data": {
      "image/png": "[encoded data removed]",
      "text/plain": [
       "<matplotlib.figure.Figure at 0x11d0c70f0>"
      ]
     },
     "metadata": {},
     "output_type": "display_data"
    }
   ],
   "source": [
    "plt.contour(x,y,mvn1.pdf(pos), levels = [mvn1.pdf(1-math.exp(-0.68/2)), mvn1.pdf(1-math.exp(-0.95/2))], colors = 'b')\n",
    "plt.contour(x,y,mvn2.pdf(pos), levels = [mvn2.pdf(1-math.exp(-0.68/2)), mvn2.pdf(1-math.exp(-0.95/2))], colors = 'r')\n",
    "\n",
    "# Previous part\n",
    "_ = plt.plot(points[labels == 0,0], points[labels == 0,1], 'xb',\\\n",
    "            points[labels == 1,0], points[labels == 1,1], 'xr', \\\n",
    "            markersize = 10)\n",
    "\n",
    "plt.xlim([0,1])\n",
    "plt.ylim([0,1])\n",
    "\n",
    "# blue outliers, point with x > 0.6\n",
    "outliers_blue = points[labels == 0][points[labels == 0,0] > 0.6]\n",
    "\n",
    "plt.annotate(\"outlier\", xy = (outliers_blue[0][0], outliers_blue[0][1]), xytext = (0.6, 0.9),\n",
    "             fontsize = 14,\n",
    "             arrowprops = dict(facecolor = 'b', shrink = 0.02))"
   ]
  },
  {
   "cell_type": "code",
   "execution_count": null,
   "metadata": {
    "collapsed": false
   },
   "outputs": [],
   "source": []
  },
  {
   "cell_type": "markdown",
   "metadata": {
    "collapsed": false
   },
   "source": [
    "### 3\n"
   ]
  },
  {
   "cell_type": "markdown",
   "metadata": {},
   "source": [
    "#### 3.1\n",
    "\n",
    "We check if the array is length 2, that is, we only have 2 dimensions. Then we check if each element is 0 or 1. If all of these entries are, then we return true, a valid board. If at least 1 element is not 0 or 1, the function returns false."
   ]
  },
  {
   "cell_type": "code",
   "execution_count": 50,
   "metadata": {
    "collapsed": false
   },
   "outputs": [],
   "source": [
    "def is_valid_board(a):\n",
    "    if isinstance(a,np.ndarray):\n",
    "        if len(a.shape) == 2:\n",
    "            if np.all(np.logical_or(a == 0, a == 1)):\n",
    "                return True\n",
    "        return False\n",
    "    else:\n",
    "        return False"
   ]
  },
  {
   "cell_type": "code",
   "execution_count": 51,
   "metadata": {
    "collapsed": false
   },
   "outputs": [
    {
     "data": {
      "text/plain": [
       "True"
      ]
     },
     "execution_count": 51,
     "metadata": {},
     "output_type": "execute_result"
    }
   ],
   "source": [
    "a = np.array([[0,0,1,0],[1,1,1,0],[1,1,0,1]])\n",
    "is_valid_board(a)"
   ]
  },
  {
   "cell_type": "markdown",
   "metadata": {},
   "source": [
    "#### 3.2"
   ]
  },
  {
   "cell_type": "code",
   "execution_count": 52,
   "metadata": {
    "collapsed": false
   },
   "outputs": [],
   "source": [
    "def gol_step(a):\n",
    "    if is_valid_board(a):\n",
    "        # Get neighbor values\n",
    "        new_board = np.zeros((a.shape[0], a.shape[1]))\n",
    "        for r in range(a.shape[0]):\n",
    "            for c in range(a.shape[1]):\n",
    "                '''Get elements in previous, current and next row, and previous, current, and next column\n",
    "                Since we count the same coordinate (r,c) we are on, which has index 4, we remove that from\n",
    "                the neighbor array\n",
    "                https://docs.scipy.org/doc/numpy/reference/arrays.indexing.html#arrays-indexing'''\n",
    "                \n",
    "                # cannot access index that is greater than range, so need to add the mod when checking to the right\n",
    "                neighbors = np.delete(a[np.ix_([r-1, r, (r+1) % a.shape[0]],[c-1, c, (c+1) % a.shape[1]])].flatten(),4)\n",
    "                \n",
    "                if a[r,c] == 1: # if current cell live\n",
    "                    if sum(neighbors) < 2 or sum(neighbors) > 3: # First 2 conditions to be dead\n",
    "                        new_board[r,c] = 0\n",
    "                    elif sum(neighbors) == 2 or sum(neighbors) == 3: # Conditions to be live\n",
    "                        new_board[r,c] = 1\n",
    "                elif a[r,c] == 0: # if current cell dead\n",
    "                    if sum(neighbors) == 3:\n",
    "                        new_board[r,c] = 1\n",
    "        return new_board\n",
    "    else:\n",
    "        raise ValueError('valid board must be entered')"
   ]
  },
  {
   "cell_type": "code",
   "execution_count": 53,
   "metadata": {
    "collapsed": false
   },
   "outputs": [],
   "source": [
    "#Testing\n",
    "#a = np.array([[1, 0, 1,0], [1, 0, 0,1],[0, 1, 1,0]])\n",
    "#neighbors = np.array([])\n",
    "#np.append(neighbors, [a[(-1, 0, 1),-1], a[(-1, 0, 1), 1], a[(-1, 1), 0]])"
   ]
  },
  {
   "cell_type": "markdown",
   "metadata": {
    "collapsed": false
   },
   "source": [
    "#### 3.3"
   ]
  },
  {
   "cell_type": "code",
   "execution_count": 54,
   "metadata": {
    "collapsed": false
   },
   "outputs": [],
   "source": [
    "def draw_gol_board(a):\n",
    "    if isinstance(a, np.ndarray):\n",
    "        if is_valid_board(a):\n",
    "            # Create a new variable to avoid overwriting original board\n",
    "            a_disp = (a + 1) % 2 # color map gray displays black for 0. Need this to invert color.\n",
    "            plt.imshow(a_disp, 'gray')\n",
    "            # https://matplotlib.org/api/_as_gen/matplotlib.pyplot.xticks.html#matplotlib.pyplot.xticks\n",
    "            # Examples show nonzero list of labels, so using list with 0 entries removes ticks\n",
    "            plt.xticks(np.arange(0))\n",
    "            plt.yticks(np.arange(0))\n",
    "            return plt.show()\n",
    "        else:\n",
    "            raise ValueError('Must input valid board')\n",
    "    else:\n",
    "        raise TypeError('Not a board type')"
   ]
  },
  {
   "cell_type": "code",
   "execution_count": 55,
   "metadata": {
    "collapsed": false
   },
   "outputs": [],
   "source": [
    "#a = np.array([[1, 0, 1,0], [1, 0, 0,1],[0, 1, 1,0]])\n",
    "\n",
    "#draw_gol_board(a)"
   ]
  },
  {
   "cell_type": "markdown",
   "metadata": {},
   "source": [
    "#### 3.4"
   ]
  },
  {
   "cell_type": "code",
   "execution_count": 56,
   "metadata": {
    "collapsed": false
   },
   "outputs": [
    {
     "data": {
      "text/plain": [
       "array([[0., 0., 0., 0., 0.],\n",
       "       [0., 0., 1., 0., 0.],\n",
       "       [0., 0., 0., 1., 0.],\n",
       "       [0., 1., 1., 1., 0.],\n",
       "       [0., 0., 0., 0., 0.]])"
      ]
     },
     "execution_count": 56,
     "metadata": {},
     "output_type": "execute_result"
    }
   ],
   "source": [
    "glider = np.zeros((100,100))\n",
    "\n",
    "glider[(1,2),(2,3)] = 1\n",
    "glider[3, 1:4] = 1\n",
    "glider[0:5, 0:5]"
   ]
  },
  {
   "cell_type": "code",
   "execution_count": 57,
   "metadata": {
    "collapsed": false
   },
   "outputs": [
    {
     "data": {
      "image/png": "[encoded data removed]",
      "text/plain": [
       "<matplotlib.figure.Figure at 0x11cfffb38>"
      ]
     },
     "metadata": {},
     "output_type": "display_data"
    }
   ],
   "source": [
    "draw_gol_board(glider)"
   ]
  },
  {
   "cell_type": "markdown",
   "metadata": {},
   "source": [
    "#### 3.5"
   ]
  },
  {
   "cell_type": "code",
   "execution_count": 58,
   "metadata": {
    "collapsed": false
   },
   "outputs": [
    {
     "data": {
      "image/png": "[encoded data removed]",
      "text/plain": [
       "<matplotlib.figure.Figure at 0x11d53f630>"
      ]
     },
     "metadata": {},
     "output_type": "display_data"
    },
    {
     "data": {
      "image/png": "[encoded data removed]",
      "text/plain": [
       "<matplotlib.figure.Figure at 0x11d827f98>"
      ]
     },
     "metadata": {},
     "output_type": "display_data"
    },
    {
     "data": {
      "image/png": "[encoded data removed]",
      "text/plain": [
       "<matplotlib.figure.Figure at 0x11d0cd630>"
      ]
     },
     "metadata": {},
     "output_type": "display_data"
    },
    {
     "data": {
      "image/png": "[encoded data removed]",
      "text/plain": [
       "<matplotlib.figure.Figure at 0x1196451d0>"
      ]
     },
     "metadata": {},
     "output_type": "display_data"
    },
    {
     "data": {
      "image/png": "[encoded data removed]",
      "text/plain": [
       "<matplotlib.figure.Figure at 0x11d7ea8d0>"
      ]
     },
     "metadata": {},
     "output_type": "display_data"
    }
   ],
   "source": [
    "board_step = glider[0:5, 0:5]\n",
    "for i in range(511, 516):\n",
    "    plt.subplot(i)\n",
    "    draw_gol_board(board_step)\n",
    "    board_step = gol_step(board_step)"
   ]
  },
  {
   "cell_type": "code",
   "execution_count": null,
   "metadata": {
    "collapsed": true
   },
   "outputs": [],
   "source": []
  }
 ],
 "metadata": {
  "kernelspec": {
   "display_name": "Python 3",
   "language": "python",
   "name": "python3"
  },
  "language_info": {
   "codemirror_mode": {
    "name": "ipython",
    "version": 3
   },
   "file_extension": ".py",
   "mimetype": "text/x-python",
   "name": "python",
   "nbconvert_exporter": "python",
   "pygments_lexer": "ipython3",
   "version": "3.6.0"
  }
 },
 "nbformat": 4,
 "nbformat_minor": 2
}
