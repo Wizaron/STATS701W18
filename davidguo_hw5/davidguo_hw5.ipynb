{
 "cells": [
  {
   "cell_type": "markdown",
   "metadata": {},
   "source": [
    "# Stats701 Homework 5, Winter 2018\n",
    "### David Guo\n",
    "#### davidguo@umich.edu\n",
    "\n",
    "Discussion: For problem 3, I discussed with Jeanhee Pak.\n",
    "\n",
    "Time to do each homework problem:\n",
    "\n",
    "- Problem 1 took about 2 hours (most in 1.1 and 1.3)\n",
    "\n",
    "- Problem 2 took about 1 hour\n",
    "    \n",
    "- Problem 3 took about 4 hours (mostly in 3.4)\n",
    "\n",
    "- Problem 4 took about 3 hours\n",
    "\n",
    "- Write-up took about 2.5 hours"
   ]
  },
  {
   "cell_type": "markdown",
   "metadata": {},
   "source": [
    "### 1\n",
    "\n",
    "#### 1.1\n",
    "\n",
    "To make sure the 0th element was printed, I started with 0 and None and added a base case part in \\_\\_next\\_\\_ for the first element."
   ]
  },
  {
   "cell_type": "code",
   "execution_count": 5,
   "metadata": {
    "collapsed": false
   },
   "outputs": [],
   "source": [
    "class Fibo:\n",
    "    '''Iterators of Fibonacci numbers'''\n",
    "    \n",
    "    def __init__(self):\n",
    "        self.f, self.prev = 0, None\n",
    "        \n",
    "    def __next__(self):\n",
    "        if self.prev == None:\n",
    "            self.f, self.prev = 1, 0\n",
    "            return 0\n",
    "        else:\n",
    "            (self.f, self.prev) = self.f + self.prev, self.f\n",
    "            return(self.prev)\n",
    "        \n",
    "    def __iter__(self):\n",
    "        return self"
   ]
  },
  {
   "cell_type": "code",
   "execution_count": 8,
   "metadata": {
    "collapsed": false
   },
   "outputs": [
    {
     "data": {
      "text/plain": [
       "[0, 1, 1, 2, 3, 5, 8, 13, 21, 34, 55, 89, 144, 233, 377]"
      ]
     },
     "execution_count": 8,
     "metadata": {},
     "output_type": "execute_result"
    }
   ],
   "source": [
    "f = Fibo()\n",
    "list(next(f) for _ in range(15)) # Test the first 15 Fibonnaci numbers"
   ]
  },
  {
   "cell_type": "markdown",
   "metadata": {},
   "source": [
    "#### 1.2\n",
    "\n",
    "Since we need to start at 0, I initialize at -1."
   ]
  },
  {
   "cell_type": "code",
   "execution_count": 9,
   "metadata": {
    "collapsed": true
   },
   "outputs": [],
   "source": [
    "def integers():\n",
    "    n = -1\n",
    "    while True:\n",
    "        n += 1\n",
    "        yield n"
   ]
  },
  {
   "cell_type": "code",
   "execution_count": 11,
   "metadata": {
    "collapsed": false
   },
   "outputs": [
    {
     "data": {
      "text/plain": [
       "[0, 1, 2, 3, 4, 5, 6, 7, 8, 9]"
      ]
     },
     "execution_count": 11,
     "metadata": {},
     "output_type": "execute_result"
    }
   ],
   "source": [
    "h = integers()\n",
    "list(next(h) for _ in range(10)) # Test first 10 non-negative integers"
   ]
  },
  {
   "cell_type": "markdown",
   "metadata": {
    "collapsed": false
   },
   "source": [
    "#### 1.3\n",
    "\n",
    "Since we are looking at values greater than, and not including, 1, I set the range of values we are interested in as 2 and up to the penultimate value $n-1$. I do not include 1 or the value of interest $n$ since the remainder for $n/1$ and $n/n$ will be 0; I am looking for any terms that evenly divide the value and would then rule out that value as prime.\n",
    "\n",
    "I map the remainder value being 0 to a boolean (True if remainder is 0). If any of these values between 2 and $n-1$ yields a remainder 0, that means $n$ is divisible by another number besides 1 and $n$. Using the $\\texttt{any}$ function, as long as at least 1 of the values between 2 and $n-1$ has a remainder 0, we get it is $\\texttt{True}$ that there is an additional divisor for $n$, i.e. the number is not prime.\n",
    "\n",
    "So in the generator expression, we check if the $\\texttt{any}$ expression is $\\texttt{False}$, that is, no other values are remainders. This means the number is prime and we yield that value.\n",
    "\n",
    "In the base case 2, we get an empty list and since it does not contain the value True, it gives False for the $\\texttt{any}$ expression and works well with all other cases."
   ]
  },
  {
   "cell_type": "code",
   "execution_count": 27,
   "metadata": {
    "collapsed": false
   },
   "outputs": [
    {
     "name": "stdout",
     "output_type": "stream",
     "text": [
      "[]\n",
      "False\n"
     ]
    }
   ],
   "source": [
    "print(list(map(lambda x: divmod(2,x)[1] == 0, range(2, 2))))\n",
    "print(any(list(map(lambda x: divmod(2,x)[1] == 0, range(2, 2)))))"
   ]
  },
  {
   "cell_type": "code",
   "execution_count": 28,
   "metadata": {
    "collapsed": false
   },
   "outputs": [
    {
     "name": "stdout",
     "output_type": "stream",
     "text": [
      "[False, False, False]\n",
      "False\n"
     ]
    }
   ],
   "source": [
    "print(list(map(lambda x: divmod(5,x)[1] == 0, range(2, 5))))\n",
    "print(any(list(map(lambda x: divmod(5,x)[1] == 0, range(2, 5)))))"
   ]
  },
  {
   "cell_type": "code",
   "execution_count": 29,
   "metadata": {
    "collapsed": false
   },
   "outputs": [
    {
     "name": "stdout",
     "output_type": "stream",
     "text": [
      "[True, True, False, False]\n",
      "True\n"
     ]
    }
   ],
   "source": [
    "print(list(map(lambda x: divmod(6,x)[1] == 0, range(2, 6))))\n",
    "print(any(list(map(lambda x: divmod(6,x)[1] == 0, range(2, 6)))))"
   ]
  },
  {
   "cell_type": "code",
   "execution_count": 31,
   "metadata": {
    "collapsed": false
   },
   "outputs": [],
   "source": [
    "def primes():\n",
    "    p = 1\n",
    "    while True:\n",
    "        p += 1\n",
    "        if any(list(map(lambda x: divmod(p,x)[1] == 0, range(2, p)))) == False:\n",
    "            yield p"
   ]
  },
  {
   "cell_type": "code",
   "execution_count": 32,
   "metadata": {
    "collapsed": false
   },
   "outputs": [
    {
     "data": {
      "text/plain": [
       "[2, 3, 5, 7, 11, 13, 17, 19, 23, 29]"
      ]
     },
     "execution_count": 32,
     "metadata": {},
     "output_type": "execute_result"
    }
   ],
   "source": [
    "p = primes()\n",
    "list(next(p) for _ in range(10))  # Test first 10 primes"
   ]
  },
  {
   "cell_type": "markdown",
   "metadata": {},
   "source": [
    "### 2\n",
    "\n",
    "#### 2.1\n",
    "\n",
    "We follow the [expression iterable conditional] for list comprehension."
   ]
  },
  {
   "cell_type": "code",
   "execution_count": 390,
   "metadata": {
    "collapsed": false
   },
   "outputs": [
    {
     "data": {
      "text/plain": [
       "[1, 9, 25, 49, 81, 121, 169, 225, 289, 361]"
      ]
     },
     "execution_count": 390,
     "metadata": {},
     "output_type": "execute_result"
    }
   ],
   "source": [
    "[x**2 for x in range(1,21) if x % 2 == 1]"
   ]
  },
  {
   "cell_type": "markdown",
   "metadata": {},
   "source": [
    "#### 2.2\n",
    "\n",
    "Since $\\texttt{integers()}$ started from 0, we need to add the conditional $x > 0$ to exclude it so we can start from 1."
   ]
  },
  {
   "cell_type": "code",
   "execution_count": 38,
   "metadata": {
    "collapsed": false
   },
   "outputs": [
    {
     "data": {
      "text/plain": [
       "[1, 8, 27, 64, 125, 216, 343, 512, 729, 1000]"
      ]
     },
     "execution_count": 38,
     "metadata": {},
     "output_type": "execute_result"
    }
   ],
   "source": [
    "c = (x**3 for x in integers() if x > 0)\n",
    "list(next(c) for _ in range(10)) # confirm the first 10 perfect cubes "
   ]
  },
  {
   "cell_type": "markdown",
   "metadata": {
    "collapsed": true
   },
   "source": [
    "#### 2.3\n",
    "\n",
    "We can simplify\n",
    "\n",
    "$\\left(\\begin{array}{c}\n",
    "n+2\\\\\n",
    "3\n",
    "\\end{array}\\right)\t\\\\\n",
    "=\\frac{\\left(n+2\\right)!}{3!\\left(n+2-3\\right)!}\\\\\n",
    "\t=\\frac{\\left(n+2\\right)\\left(n+1\\right)n\\left(n-1\\right)!}{3\\cdot2\\cdot1\\cdot\\left(n-1\\right)!}\\\\\n",
    "\t=\\frac{\\left(n+2\\right)\\left(n+1\\right)n}{6}$\n",
    "\n",
    "Again, we need the conditional $n > 0$ since $\\texttt{integers()}$ starts from 0."
   ]
  },
  {
   "cell_type": "code",
   "execution_count": 39,
   "metadata": {
    "collapsed": false
   },
   "outputs": [
    {
     "data": {
      "text/plain": [
       "[1, 4, 10, 20, 35, 56, 84, 120, 165, 220]"
      ]
     },
     "execution_count": 39,
     "metadata": {},
     "output_type": "execute_result"
    }
   ],
   "source": [
    "t = (int(n * (n + 1) * (n + 2) / 6) for n in integers() if n > 0)\n",
    "list(next(t) for _ in range(10)) # confirm the first 10 tetrahedral numbers"
   ]
  },
  {
   "cell_type": "markdown",
   "metadata": {
    "collapsed": false
   },
   "source": [
    "### 3\n",
    "\n",
    "We import $\\texttt{functools}$ and $\\texttt{itertools}$ at the beginning to ensure we have one-line code for each part. We show the full one-line code, and then explain each part following it. When we explain, we need to add list to print out the iterator values."
   ]
  },
  {
   "cell_type": "code",
   "execution_count": 46,
   "metadata": {
    "collapsed": true
   },
   "outputs": [],
   "source": [
    "import functools\n",
    "import itertools"
   ]
  },
  {
   "cell_type": "markdown",
   "metadata": {},
   "source": [
    "#### 3.1"
   ]
  },
  {
   "cell_type": "code",
   "execution_count": 47,
   "metadata": {
    "collapsed": false
   },
   "outputs": [
    {
     "data": {
      "text/plain": [
       "165"
      ]
     },
     "execution_count": 47,
     "metadata": {},
     "output_type": "execute_result"
    }
   ],
   "source": [
    "# then use map to generate the squares from this range\n",
    "# Instead of using sum, we use functools.reduce\n",
    "\n",
    "\n",
    "functools.reduce(lambda x, y: x + y, map(lambda x: x ** 2, filter(lambda x: x % 2 == 1, range(1,10))))"
   ]
  },
  {
   "cell_type": "markdown",
   "metadata": {},
   "source": [
    "The filter part defines our range of odd numbers"
   ]
  },
  {
   "cell_type": "code",
   "execution_count": 48,
   "metadata": {
    "collapsed": false
   },
   "outputs": [
    {
     "data": {
      "text/plain": [
       "[1, 3, 5, 7, 9]"
      ]
     },
     "execution_count": 48,
     "metadata": {},
     "output_type": "execute_result"
    }
   ],
   "source": [
    "list(filter(lambda x: x % 2 == 1, range(1,10)))"
   ]
  },
  {
   "cell_type": "markdown",
   "metadata": {},
   "source": [
    "then we map the filtered iterator to the squares"
   ]
  },
  {
   "cell_type": "code",
   "execution_count": 49,
   "metadata": {
    "collapsed": false
   },
   "outputs": [
    {
     "data": {
      "text/plain": [
       "[1, 9, 25, 49, 81]"
      ]
     },
     "execution_count": 49,
     "metadata": {},
     "output_type": "execute_result"
    }
   ],
   "source": [
    "list(map(lambda x: x ** 2, filter(lambda x: x % 2 == 1, range(1,10))))"
   ]
  },
  {
   "cell_type": "markdown",
   "metadata": {},
   "source": [
    "then we take the sum by using reduce on the above iterator, which gives us the complete expression."
   ]
  },
  {
   "cell_type": "markdown",
   "metadata": {
    "collapsed": false
   },
   "source": [
    "#### 3.2"
   ]
  },
  {
   "cell_type": "code",
   "execution_count": 498,
   "metadata": {
    "collapsed": false
   },
   "outputs": [
    {
     "data": {
      "text/plain": [
       "1922760350154212639070"
      ]
     },
     "execution_count": 498,
     "metadata": {},
     "output_type": "execute_result"
    }
   ],
   "source": [
    "functools.reduce(lambda x, y: x * y, map(lambda t: t[1], zip(range(1,18),primes())))"
   ]
  },
  {
   "cell_type": "markdown",
   "metadata": {},
   "source": [
    "To ensure that we do not define the generator $\\texttt{primes()}$ in an additional line, we zip $\\texttt{primes()}$ together with the values 1 to 17 to indicate the 1st 17 primes in tuples."
   ]
  },
  {
   "cell_type": "code",
   "execution_count": 50,
   "metadata": {
    "collapsed": false
   },
   "outputs": [
    {
     "data": {
      "text/plain": [
       "[(1, 2),\n",
       " (2, 3),\n",
       " (3, 5),\n",
       " (4, 7),\n",
       " (5, 11),\n",
       " (6, 13),\n",
       " (7, 17),\n",
       " (8, 19),\n",
       " (9, 23),\n",
       " (10, 29),\n",
       " (11, 31),\n",
       " (12, 37),\n",
       " (13, 41),\n",
       " (14, 43),\n",
       " (15, 47),\n",
       " (16, 53),\n",
       " (17, 59)]"
      ]
     },
     "execution_count": 50,
     "metadata": {},
     "output_type": "execute_result"
    }
   ],
   "source": [
    "list(zip(range(1,18),primes()))"
   ]
  },
  {
   "cell_type": "markdown",
   "metadata": {},
   "source": [
    "Then we map the 2nd value of the tuple to get the first 17 prime numbers"
   ]
  },
  {
   "cell_type": "code",
   "execution_count": 53,
   "metadata": {
    "collapsed": false
   },
   "outputs": [
    {
     "data": {
      "text/plain": [
       "[2, 3, 5, 7, 11, 13, 17, 19, 23, 29, 31, 37, 41, 43, 47, 53, 59]"
      ]
     },
     "execution_count": 53,
     "metadata": {},
     "output_type": "execute_result"
    }
   ],
   "source": [
    "list(map(lambda t: t[1], zip(range(1,18),primes())))"
   ]
  },
  {
   "cell_type": "markdown",
   "metadata": {},
   "source": [
    "Then we use multiplication for all terms using reduce to get the expression at the beginning.\n",
    "\n",
    "#### 3.3"
   ]
  },
  {
   "cell_type": "code",
   "execution_count": 58,
   "metadata": {
    "collapsed": false
   },
   "outputs": [
    {
     "data": {
      "text/plain": [
       "[1.0,\n",
       " 1.5,\n",
       " 1.8333333333333333,\n",
       " 2.083333333333333,\n",
       " 2.283333333333333,\n",
       " 2.4499999999999997,\n",
       " 2.5928571428571425,\n",
       " 2.7178571428571425,\n",
       " 2.8289682539682537,\n",
       " 2.9289682539682538]"
      ]
     },
     "execution_count": 58,
     "metadata": {},
     "output_type": "execute_result"
    }
   ],
   "source": [
    "list(itertools.accumulate(map(lambda k: 1/k, range(1,11))))"
   ]
  },
  {
   "cell_type": "markdown",
   "metadata": {},
   "source": [
    "We map the integers 1 to 10 into their reciprocals:"
   ]
  },
  {
   "cell_type": "code",
   "execution_count": 59,
   "metadata": {
    "collapsed": false
   },
   "outputs": [
    {
     "data": {
      "text/plain": [
       "[1.0,\n",
       " 0.5,\n",
       " 0.3333333333333333,\n",
       " 0.25,\n",
       " 0.2,\n",
       " 0.16666666666666666,\n",
       " 0.14285714285714285,\n",
       " 0.125,\n",
       " 0.1111111111111111,\n",
       " 0.1]"
      ]
     },
     "execution_count": 59,
     "metadata": {},
     "output_type": "execute_result"
    }
   ],
   "source": [
    "list(map(lambda k: 1/k, range(1,11)))"
   ]
  },
  {
   "cell_type": "markdown",
   "metadata": {},
   "source": [
    "Then we use $\\texttt{itertools.accumulate()}$ to add and save the partial sums.\n",
    "\n",
    "#### 3.4\n",
    "\n",
    "The linebreaks are for readability, but the code is one line.\n",
    "\n",
    "The use of [-1] is to ensure generalizability if we wanted to get the geometric mean for a different number of terms. We would only need to change the range inside the zip."
   ]
  },
  {
   "cell_type": "code",
   "execution_count": 90,
   "metadata": {
    "collapsed": false
   },
   "outputs": [
    {
     "data": {
      "text/plain": [
       "29.91378180628326"
      ]
     },
     "execution_count": 90,
     "metadata": {},
     "output_type": "execute_result"
    }
   ],
   "source": [
    "list(map(lambda x, n: x ** (1/n),\n",
    "             itertools.accumulate(\n",
    "                 map(lambda t: t[1], zip(range(1,11), (int(n * (n + 1) * (n + 2) / 6) for n in integers() if n > 0))),\n",
    "                 lambda x, y: (x * y)), \n",
    "             range(1,11)\n",
    "        )\n",
    "    )[-1]"
   ]
  },
  {
   "cell_type": "markdown",
   "metadata": {},
   "source": [
    "Like in 3.2, we zip the range we are interested in with the tetrahedral generator to avoid a new line starting the generator, then take the 2nd element of the tuple, the tetrahedral number, and map that into an iterator."
   ]
  },
  {
   "cell_type": "code",
   "execution_count": 91,
   "metadata": {
    "collapsed": false
   },
   "outputs": [
    {
     "data": {
      "text/plain": [
       "[(1, 1),\n",
       " (2, 4),\n",
       " (3, 10),\n",
       " (4, 20),\n",
       " (5, 35),\n",
       " (6, 56),\n",
       " (7, 84),\n",
       " (8, 120),\n",
       " (9, 165),\n",
       " (10, 220)]"
      ]
     },
     "execution_count": 91,
     "metadata": {},
     "output_type": "execute_result"
    }
   ],
   "source": [
    "list(zip(range(1,11), (int(n * (n + 1) * (n + 2) / 6) for n in integers() if n > 0)))"
   ]
  },
  {
   "cell_type": "code",
   "execution_count": 92,
   "metadata": {
    "collapsed": false
   },
   "outputs": [
    {
     "data": {
      "text/plain": [
       "[1, 4, 10, 20, 35, 56, 84, 120, 165, 220]"
      ]
     },
     "execution_count": 92,
     "metadata": {},
     "output_type": "execute_result"
    }
   ],
   "source": [
    "list(\n",
    "     map(lambda t: t[1], zip(range(1,11), (int(n * (n + 1) * (n + 2) / 6) for n in integers() if n > 0)))\n",
    "    )"
   ]
  },
  {
   "cell_type": "markdown",
   "metadata": {},
   "source": [
    "Then we take the partial products using $\\texttt{itertools.accumulate()}$."
   ]
  },
  {
   "cell_type": "code",
   "execution_count": 93,
   "metadata": {
    "collapsed": false
   },
   "outputs": [
    {
     "data": {
      "text/plain": [
       "[1,\n",
       " 4,\n",
       " 40,\n",
       " 800,\n",
       " 28000,\n",
       " 1568000,\n",
       " 131712000,\n",
       " 15805440000,\n",
       " 2607897600000,\n",
       " 573737472000000]"
      ]
     },
     "execution_count": 93,
     "metadata": {},
     "output_type": "execute_result"
    }
   ],
   "source": [
    "list(\n",
    "    itertools.accumulate(\n",
    "            map(lambda t: t[1], zip(range(1,11), (int(n * (n + 1) * (n + 2) / 6) for n in integers() if n > 0))), \n",
    "            lambda x, y: (x * y) \n",
    "    )\n",
    ")"
   ]
  },
  {
   "cell_type": "markdown",
   "metadata": {
    "collapsed": false
   },
   "source": [
    "We use the map lambda expression taking 2 iterators, where the first one is the partial products defined above, and the second is which term we are on. We raise the partial product to $1/n$.\n",
    "\n",
    "$\\texttt{lambda x, n: x ** (1/n), partial_products, range(1,11)}$\n",
    "\n",
    "We then list to get all partial geometric means up to 10."
   ]
  },
  {
   "cell_type": "code",
   "execution_count": 89,
   "metadata": {
    "collapsed": false
   },
   "outputs": [
    {
     "data": {
      "text/plain": [
       "[1.0,\n",
       " 2.0,\n",
       " 3.4199518933533937,\n",
       " 5.3182958969449885,\n",
       " 7.752318483841891,\n",
       " 10.77848387628214,\n",
       " 14.45261646473134,\n",
       " 18.830021843201887,\n",
       " 23.96557410686221,\n",
       " 29.91378180628326]"
      ]
     },
     "execution_count": 89,
     "metadata": {},
     "output_type": "execute_result"
    }
   ],
   "source": [
    "list(map(lambda x, n: x ** (1/n),\n",
    "             itertools.accumulate(\n",
    "                 map(lambda t: t[1], zip(range(1,11), (int(n * (n + 1) * (n + 2) / 6) for n in integers() if n > 0))),\n",
    "                 lambda x, y: (x * y)), \n",
    "             range(1,11)\n",
    "        )\n",
    "    )"
   ]
  },
  {
   "cell_type": "markdown",
   "metadata": {},
   "source": [
    "### 4\n",
    "\n",
    "#### 4.1"
   ]
  },
  {
   "cell_type": "code",
   "execution_count": 115,
   "metadata": {
    "collapsed": true
   },
   "outputs": [],
   "source": [
    "def eval_poly(x, coeffs):\n",
    "    return(functools.reduce(lambda u, v: u + v, map(lambda n, a: a * (x ** n), range(len(coeffs)), coeffs)))"
   ]
  },
  {
   "cell_type": "markdown",
   "metadata": {},
   "source": [
    "We define the lambda expression \n",
    "\n",
    "$\\texttt{lambda n, a: a * (x ** n)}$ \n",
    "\n",
    "where n is the power and a are the coefficients. Specifically, n will be the powers 0 to n, taken from the length of the coeffs list, and then the coefficients themselves are taken from the list coeffs. We use an example x and coeffs below to demonstrate"
   ]
  },
  {
   "cell_type": "code",
   "execution_count": 116,
   "metadata": {
    "collapsed": false
   },
   "outputs": [],
   "source": [
    "x = -3\n",
    "coeffs = [1, 1, -2, -2]"
   ]
  },
  {
   "cell_type": "code",
   "execution_count": 117,
   "metadata": {
    "collapsed": false
   },
   "outputs": [
    {
     "data": {
      "text/plain": [
       "[1, -3, -18, 54]"
      ]
     },
     "execution_count": 117,
     "metadata": {},
     "output_type": "execute_result"
    }
   ],
   "source": [
    "list(map(lambda n, a: a * (x ** n), range(len(coeffs)), coeffs))"
   ]
  },
  {
   "cell_type": "markdown",
   "metadata": {},
   "source": [
    "We then use reduce to add up all the terms, which gives us the value of the polynomial at x."
   ]
  },
  {
   "cell_type": "code",
   "execution_count": 118,
   "metadata": {
    "collapsed": false
   },
   "outputs": [
    {
     "data": {
      "text/plain": [
       "34"
      ]
     },
     "execution_count": 118,
     "metadata": {},
     "output_type": "execute_result"
    }
   ],
   "source": [
    "eval_poly(x, coeffs)"
   ]
  },
  {
   "cell_type": "markdown",
   "metadata": {},
   "source": [
    "#### 4.2"
   ]
  },
  {
   "cell_type": "code",
   "execution_count": 120,
   "metadata": {
    "collapsed": false
   },
   "outputs": [],
   "source": [
    "def make_poly(coeffs):\n",
    "    return lambda x: coeffs[0] + functools.reduce(lambda s, i: (s  + coeffs[i]) * x, range(len(coeffs)-1,0,-1), 0)"
   ]
  },
  {
   "cell_type": "code",
   "execution_count": 121,
   "metadata": {
    "collapsed": false
   },
   "outputs": [
    {
     "data": {
      "text/plain": [
       "34"
      ]
     },
     "execution_count": 121,
     "metadata": {},
     "output_type": "execute_result"
    }
   ],
   "source": [
    "make_poly([1,2,3])(3)"
   ]
  },
  {
   "cell_type": "markdown",
   "metadata": {},
   "source": [
    "It helped to look at a simpler case, such as a 4th degree polynomial. We ignore the 0th coefficient at the moment.\n",
    "We can re-write this to have more of a semblance to a recursive formula. 0 is the initial value."
   ]
  },
  {
   "cell_type": "markdown",
   "metadata": {
    "collapsed": false
   },
   "source": [
    "$a_{1}x+a_{2}x^{2}+a_{3}x^{3}+a_{4}x^{4}\\\\\n",
    "    =x\\cdot\\left(a_{1}+a_{2}x+a_{3}x^{2}+a_{4}x^{3}\\right) \\\\\n",
    "\t=x\\cdot\\left(a_{1}+x\\cdot\\left(a_{2}+a_{3}x+a_{4}x^{2}\\right)\\right) \\\\\n",
    "\t=x\\cdot\\left(a_{1}+x\\cdot\\left(a_{2}+x\\cdot\\left(a_{3}+a_{4}x\\right)\\right)\\right) \\\\\n",
    "\t=x\\cdot\\left(a_{1}+x\\cdot\\left(a_{2}+x\\cdot\\left(a_{3}+x\\cdot\\left(0+a_{4}\\right)\\right)\\right)\\right)$"
   ]
  },
  {
   "cell_type": "markdown",
   "metadata": {},
   "source": [
    "Using the example from https://docs.python.org/3/library/functools.html,\n",
    "\n",
    "\"$\\texttt{reduce(lambda x, y: x+y, [1, 2, 3, 4, 5])}$ calculates $\\texttt{((((1+2)+3)+4)+5)}$\"\n",
    "\n",
    "We can re-write our polynomial expression like\n",
    "\n",
    "$\\left(\\left(\\left(\\left(0+a_{4}\\right)\\cdot x+a_{3}\\right)\\cdot x+a_{2}\\right)\\cdot x+a_{1}\\right)\\cdot x$\n",
    "\n",
    "So our lambda expression will take two arguments, the updated accumulated sum s, and the list of coefficients a in descending order. The descending order of coefficients (excluding 0th) is:"
   ]
  },
  {
   "cell_type": "code",
   "execution_count": 124,
   "metadata": {
    "collapsed": false
   },
   "outputs": [
    {
     "data": {
      "text/plain": [
       "[3, 2, 1]"
      ]
     },
     "execution_count": 124,
     "metadata": {},
     "output_type": "execute_result"
    }
   ],
   "source": [
    "list(range(len(coeffs)-1,0,-1))"
   ]
  },
  {
   "cell_type": "markdown",
   "metadata": {},
   "source": [
    "But instead of just adding like in the example ($\\texttt{s + coeffs[i]}$), we need to multiply by x before we update the accumulator. We start our sum $\\texttt{s}$ at 0, so then our lambda expression inside the reduce function is:"
   ]
  },
  {
   "cell_type": "code",
   "execution_count": 128,
   "metadata": {
    "collapsed": false
   },
   "outputs": [
    {
     "data": {
      "text/plain": [
       "33"
      ]
     },
     "execution_count": 128,
     "metadata": {},
     "output_type": "execute_result"
    }
   ],
   "source": [
    "functools.reduce(lambda s, i: (s  + coeffs[i]) * x, range(len(coeffs)-1,0,-1), 0)"
   ]
  },
  {
   "cell_type": "markdown",
   "metadata": {},
   "source": [
    "Since we left out the 0th coefficient we just add it on to the reduce expression we had above."
   ]
  }
 ],
 "metadata": {
  "kernelspec": {
   "display_name": "Python 3",
   "language": "python",
   "name": "python3"
  },
  "language_info": {
   "codemirror_mode": {
    "name": "ipython",
    "version": 3
   },
   "file_extension": ".py",
   "mimetype": "text/x-python",
   "name": "python",
   "nbconvert_exporter": "python",
   "pygments_lexer": "ipython3",
   "version": "3.6.0"
  }
 },
 "nbformat": 4,
 "nbformat_minor": 2
}
