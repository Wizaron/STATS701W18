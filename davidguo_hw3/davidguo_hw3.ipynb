{
 "cells": [
  {
   "cell_type": "markdown",
   "metadata": {},
   "source": [
    "# Stats701 Homework 3, Winter 2018\n",
    "### David Guo\n",
    "#### davidguo@umich.edu\n",
    "\n",
    "Discussion: For problems 1.3 and 2, I discussed with Jeanhee Pak and Alex Everett. For problem 3.3, I discussed with Jeanhee Pak.\n",
    "\n",
    "Overall ~ 14.25 hrs\n",
    "Time to do each homework problem (add write-up about 30 min to 1 hour)\n",
    "\n",
    "- Problem 1 took about 2.5 hrs\n",
    "\n",
    "    -1.1: about 15 minutes\n",
    "    \n",
    "    -1.2: about 1 hour\n",
    "    \n",
    "    -1.3: about 1.25 hour\n",
    "\n",
    "- Problem 2 took about 2.5 hrs\n",
    "\n",
    "    -2.1: about 2 hours\n",
    "    \n",
    "    -2.2: about 30 minutes\n",
    "\n",
    "- Problem 3 took about 8.25 hrs\n",
    "\n",
    "    -3.1: about 3.5 hours\n",
    "    \n",
    "    -3.2: about 10 minutes\n",
    "\n",
    "    -3.3: about 4.5 hours\n",
    "    \n",
    "    -3.4: about 5 minutes\n"
   ]
  },
  {
   "cell_type": "markdown",
   "metadata": {},
   "source": [
    "### 1 More Fun with Tuples "
   ]
  },
  {
   "cell_type": "markdown",
   "metadata": {},
   "source": [
    "#### 1.1"
   ]
  },
  {
   "cell_type": "code",
   "execution_count": 1,
   "metadata": {
    "collapsed": false
   },
   "outputs": [],
   "source": [
    "def my_sum(*nums):\n",
    "    if len(nums) == 0:\n",
    "        return 0\n",
    "    else:\n",
    "        return sum(nums)"
   ]
  },
  {
   "cell_type": "markdown",
   "metadata": {},
   "source": [
    "Some test cases follow:"
   ]
  },
  {
   "cell_type": "code",
   "execution_count": 2,
   "metadata": {
    "collapsed": false
   },
   "outputs": [
    {
     "name": "stdout",
     "output_type": "stream",
     "text": [
      "4.3\n",
      "0\n",
      "16.3\n"
     ]
    }
   ],
   "source": [
    "print(my_sum(1,3.3))\n",
    "print(my_sum())\n",
    "print(my_sum(1,3.3,5,7))"
   ]
  },
  {
   "cell_type": "markdown",
   "metadata": {},
   "source": [
    "#### 1.2\n",
    "\n",
    "Because the question doesn't require error checking, we don't check the type of the input argument."
   ]
  },
  {
   "cell_type": "code",
   "execution_count": 3,
   "metadata": {
    "collapsed": false
   },
   "outputs": [],
   "source": [
    "def reverse_tuple(*tup):\n",
    "    new_t = []\n",
    "    for i in range(len(tup)):\n",
    "        new_t.append(tup[len(tup)-1-i])\n",
    "    return tuple(new_t)"
   ]
  },
  {
   "cell_type": "markdown",
   "metadata": {},
   "source": [
    "Some test cases follow:"
   ]
  },
  {
   "cell_type": "code",
   "execution_count": 4,
   "metadata": {
    "collapsed": false
   },
   "outputs": [
    {
     "data": {
      "text/plain": [
       "({'hi': 7}, [3, 4], 'a', 3, 1)"
      ]
     },
     "execution_count": 4,
     "metadata": {},
     "output_type": "execute_result"
    }
   ],
   "source": [
    "reverse_tuple(1,3,'a',[3,4],{'hi': 7})"
   ]
  },
  {
   "cell_type": "code",
   "execution_count": 5,
   "metadata": {
    "collapsed": false
   },
   "outputs": [
    {
     "data": {
      "text/plain": [
       "()"
      ]
     },
     "execution_count": 5,
     "metadata": {},
     "output_type": "execute_result"
    }
   ],
   "source": [
    "reverse_tuple()"
   ]
  },
  {
   "cell_type": "markdown",
   "metadata": {},
   "source": [
    "#### 1.3"
   ]
  },
  {
   "cell_type": "code",
   "execution_count": 6,
   "metadata": {
    "collapsed": false
   },
   "outputs": [],
   "source": [
    "def rotate_tuple(tup, n):\n",
    "    if type(tup) != tuple:\n",
    "        raise TypeError('First input must be a tuple')\n",
    "    if n == 0 or tup == tuple(): # if empty tuple or no shift entered, return original tuple\n",
    "        return tup\n",
    "    else:\n",
    "        try:\n",
    "            if type(n) == str: # if valid numeric value is entered as string\n",
    "                print('str, instead of int, was entered for n. Attempting to cast as valid numeric value.')\n",
    "                n = float(n)\n",
    "            if type(n) == float:\n",
    "                print('float, instead of int, was entered for n. Truncated float',int(n),'was used instead.')\n",
    "            n = int(n)\n",
    "        except:\n",
    "            raise TypeError('n must be an integer or type that can be cast as an integer')\n",
    "        net_n = divmod(n,len(tup))[1] # keep remainder term which is net push when n > len(tup)\n",
    "        return tup[-net_n:] + tup[:-net_n]    "
   ]
  },
  {
   "cell_type": "markdown",
   "metadata": {},
   "source": [
    "Some test cases follow:"
   ]
  },
  {
   "cell_type": "code",
   "execution_count": 7,
   "metadata": {
    "collapsed": false
   },
   "outputs": [
    {
     "name": "stdout",
     "output_type": "stream",
     "text": [
      "(3, 4, 0, 1, 2)\n",
      "(2, 3, 4, 0, 1)\n",
      "(3, 4, 0, 1, 2)\n",
      "(1, 2, 3, 4, 0)\n"
     ]
    }
   ],
   "source": [
    "print(rotate_tuple((0,1,2,3,4),2))\n",
    "print(rotate_tuple((0,1,2,3,4),-2))\n",
    "print(rotate_tuple((0,1,2,3,4),7))\n",
    "print(rotate_tuple((0,1,2,3,4),-6))"
   ]
  },
  {
   "cell_type": "code",
   "execution_count": 8,
   "metadata": {
    "collapsed": false
   },
   "outputs": [
    {
     "name": "stdout",
     "output_type": "stream",
     "text": [
      "float, instead of int, was entered for n. Truncated float 2 was used instead.\n",
      "(3, 4, 0, 1, 2)\n",
      "float, instead of int, was entered for n. Truncated float 7 was used instead.\n",
      "(3, 4, 0, 1, 2)\n"
     ]
    }
   ],
   "source": [
    "print(rotate_tuple((0,1,2,3,4),2.1))\n",
    "print(rotate_tuple((0,1,2,3,4),7.1))"
   ]
  },
  {
   "cell_type": "code",
   "execution_count": 9,
   "metadata": {
    "collapsed": false
   },
   "outputs": [
    {
     "data": {
      "text/plain": [
       "()"
      ]
     },
     "execution_count": 9,
     "metadata": {},
     "output_type": "execute_result"
    }
   ],
   "source": [
    "rotate_tuple(tuple(),1)"
   ]
  },
  {
   "cell_type": "code",
   "execution_count": 10,
   "metadata": {
    "collapsed": false
   },
   "outputs": [
    {
     "name": "stdout",
     "output_type": "stream",
     "text": [
      "str, instead of int, was entered for n. Attempting to cast as valid numeric value.\n",
      "float, instead of int, was entered for n. Truncated float -1 was used instead.\n",
      "(2, 3, 1)\n",
      "str, instead of int, was entered for n. Attempting to cast as valid numeric value.\n",
      "float, instead of int, was entered for n. Truncated float 3 was used instead.\n",
      "(1, 2, 3)\n"
     ]
    }
   ],
   "source": [
    "print(rotate_tuple((1,2,3),'-1.333'))\n",
    "print(rotate_tuple((1,2,3),'3.5'))"
   ]
  },
  {
   "cell_type": "markdown",
   "metadata": {},
   "source": [
    "### 2 More Fun with Vectors"
   ]
  },
  {
   "cell_type": "markdown",
   "metadata": {},
   "source": [
    "#### 2.1\n",
    "\n",
    "Since integers that are not entered with a decimal point would be valid entries for a sparse vector, for the 2nd condition that \"all its values are floats\", I add the condition that an integer is also allowed."
   ]
  },
  {
   "cell_type": "code",
   "execution_count": 11,
   "metadata": {
    "collapsed": true
   },
   "outputs": [],
   "source": [
    "def is_valid_sparse_vector(d):\n",
    "    if type(d) == dict:\n",
    "        for key in d: # go through every key in dictionary\n",
    "            if type(key) != int or key <= 0: # if keys are not positive integers, return False\n",
    "                return False\n",
    "            # if values for each entry are non-numeric, return False\n",
    "            if (type(d[key]) != float) and (type(d[key]) != int):  \n",
    "                return False\n",
    "        return True\n",
    "    else:\n",
    "        raise TypeError('Input type must be a dictionary with positive integer keys and values of floats')"
   ]
  },
  {
   "cell_type": "markdown",
   "metadata": {},
   "source": [
    "Some test cases follow:"
   ]
  },
  {
   "cell_type": "code",
   "execution_count": 12,
   "metadata": {
    "collapsed": false
   },
   "outputs": [
    {
     "data": {
      "text/plain": [
       "False"
      ]
     },
     "execution_count": 12,
     "metadata": {},
     "output_type": "execute_result"
    }
   ],
   "source": [
    "is_valid_sparse_vector({(3,8): 3.2, (5,5): 4, (7,7): 6})"
   ]
  },
  {
   "cell_type": "code",
   "execution_count": 13,
   "metadata": {
    "collapsed": false
   },
   "outputs": [
    {
     "data": {
      "text/plain": [
       "False"
      ]
     },
     "execution_count": 13,
     "metadata": {},
     "output_type": "execute_result"
    }
   ],
   "source": [
    "is_valid_sparse_vector({'3': 3.2, 7: 4, 5: 6})"
   ]
  },
  {
   "cell_type": "code",
   "execution_count": 14,
   "metadata": {
    "collapsed": false
   },
   "outputs": [
    {
     "data": {
      "text/plain": [
       "False"
      ]
     },
     "execution_count": 14,
     "metadata": {},
     "output_type": "execute_result"
    }
   ],
   "source": [
    "is_valid_sparse_vector({'a': 3.2, (5,5): 4, (7,7): 6})"
   ]
  },
  {
   "cell_type": "code",
   "execution_count": 15,
   "metadata": {
    "collapsed": false
   },
   "outputs": [
    {
     "data": {
      "text/plain": [
       "False"
      ]
     },
     "execution_count": 15,
     "metadata": {},
     "output_type": "execute_result"
    }
   ],
   "source": [
    "is_valid_sparse_vector({(3,3): 'a', (5,5): 4, (7,7): 6})"
   ]
  },
  {
   "cell_type": "code",
   "execution_count": 16,
   "metadata": {
    "collapsed": false
   },
   "outputs": [
    {
     "data": {
      "text/plain": [
       "False"
      ]
     },
     "execution_count": 16,
     "metadata": {},
     "output_type": "execute_result"
    }
   ],
   "source": [
    "is_valid_sparse_vector({3: (3,3), 5: (5,5)})"
   ]
  },
  {
   "cell_type": "code",
   "execution_count": 17,
   "metadata": {
    "collapsed": false
   },
   "outputs": [
    {
     "ename": "TypeError",
     "evalue": "Input type must be a dictionary with positive integer keys and values of floats",
     "output_type": "error",
     "traceback": [
      "\u001b[0;31m---------------------------------------------------------------------------\u001b[0m",
      "\u001b[0;31mTypeError\u001b[0m                                 Traceback (most recent call last)",
      "\u001b[0;32m<ipython-input-17-5d58d4e8c119>\u001b[0m in \u001b[0;36m<module>\u001b[0;34m()\u001b[0m\n\u001b[0;32m----> 1\u001b[0;31m \u001b[0mis_valid_sparse_vector\u001b[0m\u001b[0;34m(\u001b[0m\u001b[0;34m[\u001b[0m\u001b[0;34m'1'\u001b[0m\u001b[0;34m]\u001b[0m\u001b[0;34m)\u001b[0m\u001b[0;34m\u001b[0m\u001b[0m\n\u001b[0m",
      "\u001b[0;32m<ipython-input-11-4710215735fd>\u001b[0m in \u001b[0;36mis_valid_sparse_vector\u001b[0;34m(d)\u001b[0m\n\u001b[1;32m      9\u001b[0m         \u001b[0;32mreturn\u001b[0m \u001b[0;32mTrue\u001b[0m\u001b[0;34m\u001b[0m\u001b[0m\n\u001b[1;32m     10\u001b[0m     \u001b[0;32melse\u001b[0m\u001b[0;34m:\u001b[0m\u001b[0;34m\u001b[0m\u001b[0m\n\u001b[0;32m---> 11\u001b[0;31m         \u001b[0;32mraise\u001b[0m \u001b[0mTypeError\u001b[0m\u001b[0;34m(\u001b[0m\u001b[0;34m'Input type must be a dictionary with positive integer keys and values of floats'\u001b[0m\u001b[0;34m)\u001b[0m\u001b[0;34m\u001b[0m\u001b[0m\n\u001b[0m",
      "\u001b[0;31mTypeError\u001b[0m: Input type must be a dictionary with positive integer keys and values of floats"
     ]
    }
   ],
   "source": [
    "is_valid_sparse_vector(['1'])"
   ]
  },
  {
   "cell_type": "markdown",
   "metadata": {},
   "source": [
    "#### 2.2"
   ]
  },
  {
   "cell_type": "code",
   "execution_count": 18,
   "metadata": {
    "collapsed": true
   },
   "outputs": [],
   "source": [
    "def sparse_inner_product(d1,d2):\n",
    "    if (is_valid_sparse_vector(d1)) and (is_valid_sparse_vector(d2)):\n",
    "        tot = 0 # initialize the inner product value\n",
    "        for key in d1: # go through each key/index in d1\n",
    "            if key in d2.keys(): # if the key in d1 is also in d2, then we can extract that term's inner product\n",
    "                tot += d1[key] * d2[key] # add the \"dot product\" of term to total sum thus far\n",
    "        return tot\n",
    "    else:\n",
    "        raise TypeError('Inputs must be dictionaries which are valid sparse vectors')"
   ]
  },
  {
   "cell_type": "markdown",
   "metadata": {},
   "source": [
    "Some test cases follow:"
   ]
  },
  {
   "cell_type": "code",
   "execution_count": 19,
   "metadata": {
    "collapsed": false
   },
   "outputs": [
    {
     "data": {
      "text/plain": [
       "69.0"
      ]
     },
     "execution_count": 19,
     "metadata": {},
     "output_type": "execute_result"
    }
   ],
   "source": [
    "sparse_inner_product({1:3, 2:2.5, 7: 7.5}, {1:3, 2: 3, 3: 6, 4:2.5, 7: 7})"
   ]
  },
  {
   "cell_type": "code",
   "execution_count": 20,
   "metadata": {
    "collapsed": false
   },
   "outputs": [
    {
     "ename": "TypeError",
     "evalue": "Inputs must be dictionaries which are valid sparse vectors",
     "output_type": "error",
     "traceback": [
      "\u001b[0;31m---------------------------------------------------------------------------\u001b[0m",
      "\u001b[0;31mTypeError\u001b[0m                                 Traceback (most recent call last)",
      "\u001b[0;32m<ipython-input-20-74af9ea65363>\u001b[0m in \u001b[0;36m<module>\u001b[0;34m()\u001b[0m\n\u001b[0;32m----> 1\u001b[0;31m \u001b[0msparse_inner_product\u001b[0m\u001b[0;34m(\u001b[0m\u001b[0;34m{\u001b[0m\u001b[0;34m'a'\u001b[0m\u001b[0;34m:\u001b[0m\u001b[0;36m3\u001b[0m\u001b[0;34m,\u001b[0m \u001b[0;36m2\u001b[0m\u001b[0;34m:\u001b[0m\u001b[0;36m2.5\u001b[0m\u001b[0;34m,\u001b[0m \u001b[0;36m7\u001b[0m\u001b[0;34m:\u001b[0m \u001b[0;36m7.5\u001b[0m\u001b[0;34m}\u001b[0m\u001b[0;34m,\u001b[0m \u001b[0;34m{\u001b[0m\u001b[0;36m1\u001b[0m\u001b[0;34m:\u001b[0m\u001b[0;36m3\u001b[0m\u001b[0;34m,\u001b[0m \u001b[0;36m2\u001b[0m\u001b[0;34m:\u001b[0m \u001b[0;36m3\u001b[0m\u001b[0;34m,\u001b[0m \u001b[0;36m3\u001b[0m\u001b[0;34m:\u001b[0m \u001b[0;36m6\u001b[0m\u001b[0;34m,\u001b[0m \u001b[0;36m4\u001b[0m\u001b[0;34m:\u001b[0m\u001b[0;36m2.5\u001b[0m\u001b[0;34m,\u001b[0m \u001b[0;36m7\u001b[0m\u001b[0;34m:\u001b[0m \u001b[0;36m7\u001b[0m\u001b[0;34m}\u001b[0m\u001b[0;34m)\u001b[0m\u001b[0;34m\u001b[0m\u001b[0m\n\u001b[0m",
      "\u001b[0;32m<ipython-input-18-ee390280129a>\u001b[0m in \u001b[0;36msparse_inner_product\u001b[0;34m(d1, d2)\u001b[0m\n\u001b[1;32m      7\u001b[0m         \u001b[0;32mreturn\u001b[0m \u001b[0mtot\u001b[0m\u001b[0;34m\u001b[0m\u001b[0m\n\u001b[1;32m      8\u001b[0m     \u001b[0;32melse\u001b[0m\u001b[0;34m:\u001b[0m\u001b[0;34m\u001b[0m\u001b[0m\n\u001b[0;32m----> 9\u001b[0;31m         \u001b[0;32mraise\u001b[0m \u001b[0mTypeError\u001b[0m\u001b[0;34m(\u001b[0m\u001b[0;34m'Inputs must be dictionaries which are valid sparse vectors'\u001b[0m\u001b[0;34m)\u001b[0m\u001b[0;34m\u001b[0m\u001b[0m\n\u001b[0m",
      "\u001b[0;31mTypeError\u001b[0m: Inputs must be dictionaries which are valid sparse vectors"
     ]
    }
   ],
   "source": [
    "sparse_inner_product({'a':3, 2:2.5, 7: 7.5}, {1:3, 2: 3, 3: 6, 4:2.5, 7: 7})"
   ]
  },
  {
   "cell_type": "markdown",
   "metadata": {},
   "source": [
    "### 3 Counting Word Bigrams"
   ]
  },
  {
   "cell_type": "raw",
   "metadata": {},
   "source": [
    "We assume that all punctuation are from English and not other languages (like the upside question mark). We disregard the edge case where punctuation replaces a character in a word, which is present in many spam messages. (Example: \"bet  be|t belt\" would have ambiguous bigrams depending on whether we remove the punctuation | or replace it)\n",
    "\n",
    "Since both parts require similar text cleaning, we define a new function $\\texttt{clean_text}$"
   ]
  },
  {
   "cell_type": "code",
   "execution_count": 65,
   "metadata": {
    "collapsed": false
   },
   "outputs": [],
   "source": [
    "def clean_text(filename):\n",
    "    if type(filename) != str:\n",
    "        raise TypeError('filename must be entered as a string')\n",
    "    try:\n",
    "        text = str()\n",
    "        with open(\"badstring.txt\",\"r\") as b:\n",
    "            badchars = b.read()\n",
    "        badchars += '!\"#$%&\\'()*+,-./:;<=>?@[\\\\]^_`\\{|\\}~'\n",
    "        with open(filename,\"r\") as f:\n",
    "            text = str()\n",
    "            for line in f:\n",
    "                temp = line.split()\n",
    "                for word in temp:\n",
    "                    word = word.strip(badchars)\n",
    "                    text += word + ' '\n",
    "            text = text.strip().lower().split()     \n",
    "        return(text)\n",
    "    except:\n",
    "        print('File does not exist')\n",
    "        raise"
   ]
  },
  {
   "cell_type": "markdown",
   "metadata": {},
   "source": [
    "#### 3.1"
   ]
  },
  {
   "cell_type": "code",
   "execution_count": 66,
   "metadata": {
    "collapsed": false
   },
   "outputs": [],
   "source": [
    "def count_bigrams_in_file(filename):\n",
    "    if (type(filename) == str):\n",
    "        text=clean_text(filename)\n",
    "        d = dict()\n",
    "        for i in range(len(text)-1):\n",
    "            key = text[i], text[i+1]\n",
    "            if key not in d:\n",
    "                d[key] = 1\n",
    "            else:\n",
    "                d[key] += 1\n",
    "\n",
    "        return d\n",
    "    else:\n",
    "        raise TypeError('filename must be input as a string')"
   ]
  },
  {
   "cell_type": "markdown",
   "metadata": {},
   "source": [
    "Test cases follow:"
   ]
  },
  {
   "cell_type": "code",
   "execution_count": 67,
   "metadata": {
    "collapsed": false
   },
   "outputs": [
    {
     "name": "stdout",
     "output_type": "stream",
     "text": [
      "File does not exist\n"
     ]
    },
    {
     "ename": "FileNotFoundError",
     "evalue": "[Errno 2] No such file or directory: 'modifiedpom.txt'",
     "output_type": "error",
     "traceback": [
      "\u001b[0;31m---------------------------------------------------------------------------\u001b[0m",
      "\u001b[0;31mFileNotFoundError\u001b[0m                         Traceback (most recent call last)",
      "\u001b[0;32m<ipython-input-67-dd5ca5fb1a15>\u001b[0m in \u001b[0;36m<module>\u001b[0;34m()\u001b[0m\n\u001b[0;32m----> 1\u001b[0;31m \u001b[0mcount_bigrams_in_file\u001b[0m\u001b[0;34m(\u001b[0m\u001b[0;34m\"modifiedpom.txt\"\u001b[0m\u001b[0;34m)\u001b[0m\u001b[0;34m\u001b[0m\u001b[0m\n\u001b[0m",
      "\u001b[0;32m<ipython-input-66-13bb0606ba49>\u001b[0m in \u001b[0;36mcount_bigrams_in_file\u001b[0;34m(filename)\u001b[0m\n\u001b[1;32m      1\u001b[0m \u001b[0;32mdef\u001b[0m \u001b[0mcount_bigrams_in_file\u001b[0m\u001b[0;34m(\u001b[0m\u001b[0mfilename\u001b[0m\u001b[0;34m)\u001b[0m\u001b[0;34m:\u001b[0m\u001b[0;34m\u001b[0m\u001b[0m\n\u001b[1;32m      2\u001b[0m     \u001b[0;32mif\u001b[0m \u001b[0;34m(\u001b[0m\u001b[0mtype\u001b[0m\u001b[0;34m(\u001b[0m\u001b[0mfilename\u001b[0m\u001b[0;34m)\u001b[0m \u001b[0;34m==\u001b[0m \u001b[0mstr\u001b[0m\u001b[0;34m)\u001b[0m\u001b[0;34m:\u001b[0m\u001b[0;34m\u001b[0m\u001b[0m\n\u001b[0;32m----> 3\u001b[0;31m         \u001b[0mtext\u001b[0m\u001b[0;34m=\u001b[0m\u001b[0mclean_text\u001b[0m\u001b[0;34m(\u001b[0m\u001b[0mfilename\u001b[0m\u001b[0;34m)\u001b[0m\u001b[0;34m\u001b[0m\u001b[0m\n\u001b[0m\u001b[1;32m      4\u001b[0m         \u001b[0md\u001b[0m \u001b[0;34m=\u001b[0m \u001b[0mdict\u001b[0m\u001b[0;34m(\u001b[0m\u001b[0;34m)\u001b[0m\u001b[0;34m\u001b[0m\u001b[0m\n\u001b[1;32m      5\u001b[0m         \u001b[0;32mfor\u001b[0m \u001b[0mi\u001b[0m \u001b[0;32min\u001b[0m \u001b[0mrange\u001b[0m\u001b[0;34m(\u001b[0m\u001b[0mlen\u001b[0m\u001b[0;34m(\u001b[0m\u001b[0mtext\u001b[0m\u001b[0;34m)\u001b[0m\u001b[0;34m-\u001b[0m\u001b[0;36m1\u001b[0m\u001b[0;34m)\u001b[0m\u001b[0;34m:\u001b[0m\u001b[0;34m\u001b[0m\u001b[0m\n",
      "\u001b[0;32m<ipython-input-65-aa3902a4ec54>\u001b[0m in \u001b[0;36mclean_text\u001b[0;34m(filename)\u001b[0m\n\u001b[1;32m      7\u001b[0m             \u001b[0mbadchars\u001b[0m \u001b[0;34m=\u001b[0m \u001b[0mb\u001b[0m\u001b[0;34m.\u001b[0m\u001b[0mread\u001b[0m\u001b[0;34m(\u001b[0m\u001b[0;34m)\u001b[0m\u001b[0;34m\u001b[0m\u001b[0m\n\u001b[1;32m      8\u001b[0m         \u001b[0mbadchars\u001b[0m \u001b[0;34m+=\u001b[0m \u001b[0;34m'!\"#$%&\\'()*+,-./:;<=>?@[\\\\]^_`\\{|\\}~'\u001b[0m\u001b[0;34m\u001b[0m\u001b[0m\n\u001b[0;32m----> 9\u001b[0;31m         \u001b[0;32mwith\u001b[0m \u001b[0mopen\u001b[0m\u001b[0;34m(\u001b[0m\u001b[0mfilename\u001b[0m\u001b[0;34m,\u001b[0m\u001b[0;34m\"r\"\u001b[0m\u001b[0;34m)\u001b[0m \u001b[0;32mas\u001b[0m \u001b[0mf\u001b[0m\u001b[0;34m:\u001b[0m\u001b[0;34m\u001b[0m\u001b[0m\n\u001b[0m\u001b[1;32m     10\u001b[0m             \u001b[0mtext\u001b[0m \u001b[0;34m=\u001b[0m \u001b[0mstr\u001b[0m\u001b[0;34m(\u001b[0m\u001b[0;34m)\u001b[0m\u001b[0;34m\u001b[0m\u001b[0m\n\u001b[1;32m     11\u001b[0m             \u001b[0;32mfor\u001b[0m \u001b[0mline\u001b[0m \u001b[0;32min\u001b[0m \u001b[0mf\u001b[0m\u001b[0;34m:\u001b[0m\u001b[0;34m\u001b[0m\u001b[0m\n",
      "\u001b[0;31mFileNotFoundError\u001b[0m: [Errno 2] No such file or directory: 'modifiedpom.txt'"
     ]
    }
   ],
   "source": [
    "count_bigrams_in_file(\"modifiedpom.txt\")"
   ]
  },
  {
   "cell_type": "code",
   "execution_count": 68,
   "metadata": {
    "collapsed": false
   },
   "outputs": [
    {
     "ename": "TypeError",
     "evalue": "filename must be input as a string",
     "output_type": "error",
     "traceback": [
      "\u001b[0;31m---------------------------------------------------------------------------\u001b[0m",
      "\u001b[0;31mTypeError\u001b[0m                                 Traceback (most recent call last)",
      "\u001b[0;32m<ipython-input-68-79a3b84f4f17>\u001b[0m in \u001b[0;36m<module>\u001b[0;34m()\u001b[0m\n\u001b[0;32m----> 1\u001b[0;31m \u001b[0mcount_bigrams_in_file\u001b[0m\u001b[0;34m(\u001b[0m\u001b[0;34m[\u001b[0m\u001b[0;34m\"modifiedpoem.txt\"\u001b[0m\u001b[0;34m]\u001b[0m\u001b[0;34m)\u001b[0m\u001b[0;34m\u001b[0m\u001b[0m\n\u001b[0m",
      "\u001b[0;32m<ipython-input-66-13bb0606ba49>\u001b[0m in \u001b[0;36mcount_bigrams_in_file\u001b[0;34m(filename)\u001b[0m\n\u001b[1;32m     12\u001b[0m         \u001b[0;32mreturn\u001b[0m \u001b[0md\u001b[0m\u001b[0;34m\u001b[0m\u001b[0m\n\u001b[1;32m     13\u001b[0m     \u001b[0;32melse\u001b[0m\u001b[0;34m:\u001b[0m\u001b[0;34m\u001b[0m\u001b[0m\n\u001b[0;32m---> 14\u001b[0;31m         \u001b[0;32mraise\u001b[0m \u001b[0mTypeError\u001b[0m\u001b[0;34m(\u001b[0m\u001b[0;34m'filename must be input as a string'\u001b[0m\u001b[0;34m)\u001b[0m\u001b[0;34m\u001b[0m\u001b[0m\n\u001b[0m",
      "\u001b[0;31mTypeError\u001b[0m: filename must be input as a string"
     ]
    }
   ],
   "source": [
    "count_bigrams_in_file([\"modifiedpoem.txt\"])"
   ]
  },
  {
   "cell_type": "code",
   "execution_count": 69,
   "metadata": {
    "collapsed": false
   },
   "outputs": [
    {
     "data": {
      "text/plain": [
       "{('6+6=12', '6-6=0'): 1,\n",
       " ('6-6=0', 'h?“’!:#ϰוœ.”@/—£&%œς*-)ητè[_חæ;(é,âο‘$i'): 1,\n",
       " ('747-8', '6+6=12'): 1,\n",
       " ('a', 'league'): 3,\n",
       " ('all', 'in'): 1,\n",
       " ('boeing', '747-8'): 1,\n",
       " ('death', 'rode'): 1,\n",
       " ('erlkönig', 'the'): 1,\n",
       " ('h?“’!:#ϰוœ.”@/—£&%œς*-)ητè[_חæ;(é,âο‘$i', 'ä'): 1,\n",
       " ('half', 'a'): 3,\n",
       " ('hello', 'there'): 1,\n",
       " ('hundred', 'seventy-five'): 1,\n",
       " ('in', 'the'): 1,\n",
       " ('league', 'half'): 2,\n",
       " ('league', 'onward'): 1,\n",
       " ('of', 'death'): 1,\n",
       " ('onward', 'all'): 1,\n",
       " ('rode', 'the'): 1,\n",
       " ('said', 'she'): 1,\n",
       " ('seventy-five', 'trombones'): 1,\n",
       " ('she', 'erlkönig'): 1,\n",
       " ('six', 'hundred'): 1,\n",
       " ('six', 'the'): 1,\n",
       " ('the', 'boeing'): 1,\n",
       " ('the', 'six'): 2,\n",
       " ('the', 'valley'): 1,\n",
       " ('there', 'said'): 1,\n",
       " ('trombones', 'hello'): 1,\n",
       " ('valley', 'of'): 1,\n",
       " ('ä', '75'): 1}"
      ]
     },
     "execution_count": 69,
     "metadata": {},
     "output_type": "execute_result"
    }
   ],
   "source": [
    "ex = count_bigrams_in_file(\"modifiedpoem.txt\")\n",
    "ex"
   ]
  },
  {
   "cell_type": "code",
   "execution_count": 70,
   "metadata": {
    "collapsed": false
   },
   "outputs": [],
   "source": []
  },
  {
   "cell_type": "markdown",
   "metadata": {},
   "source": [
    "#### 3.2"
   ]
  },
  {
   "cell_type": "code",
   "execution_count": 71,
   "metadata": {
    "collapsed": false
   },
   "outputs": [],
   "source": [
    "mb = count_bigrams_in_file(\"mobydick.txt\")"
   ]
  },
  {
   "cell_type": "code",
   "execution_count": 84,
   "metadata": {
    "collapsed": false
   },
   "outputs": [
    {
     "data": {
      "text/plain": [
       "{False}"
      ]
     },
     "execution_count": 84,
     "metadata": {},
     "output_type": "execute_result"
    }
   ],
   "source": [
    "l=[]\n",
    "for key in mb:\n",
    "    l.append('' in key)\n",
    "set(l)"
   ]
  },
  {
   "cell_type": "code",
   "execution_count": 73,
   "metadata": {
    "collapsed": false
   },
   "outputs": [],
   "source": [
    "# Following the dump example\n",
    "# https://docs.python.org/3/library/pickle.html#examples\n",
    "import pickle\n",
    "with open(\"mb.bigrams.pickle\",\"wb\") as f:\n",
    "    pickle.dump(mb, f)"
   ]
  },
  {
   "cell_type": "markdown",
   "metadata": {},
   "source": [
    "#### 3.3"
   ]
  },
  {
   "cell_type": "code",
   "execution_count": 74,
   "metadata": {
    "collapsed": true
   },
   "outputs": [],
   "source": [
    "def collocations(filename):\n",
    "    text = clean_text(filename) # clean text\n",
    "    d = dict() # initialize dictionary of words\n",
    "    # define the adjacent words\n",
    "    for i in range(len(text)-1):\n",
    "        key = text[i]\n",
    "        if i == 0: # if at beginning of text, the adjacent word only to right\n",
    "            adj = text[1]\n",
    "        elif i == len(text)-1: # if at end of text, the adjacent word only to left\n",
    "            adj = text[len(text)-2]\n",
    "        else: # all other cases, adjacent words are both left and right\n",
    "            adj = [text[i-1], text[i+1]]\n",
    "            \n",
    "        # if the word is not already in the dictionary, create a new value for that word which is an empty dictionary\n",
    "        if key not in d: \n",
    "            d[key] = dict()\n",
    "            # go through the adjacent words and count them\n",
    "            for a in adj:\n",
    "                if a not in d[key]:\n",
    "                    d[key][a] = 1\n",
    "                else:\n",
    "                    d[key][a] += 1\n",
    "        else: # if the word is already listed as key in dictionary, then add to existing word\n",
    "            for a in adj:\n",
    "                if a not in d[key]:\n",
    "                    d[key][a] = 1\n",
    "                else:\n",
    "                    d[key][a] += 1\n",
    "    # then reduce the dictionary to a set\n",
    "    for j in d:\n",
    "        d[j] = set(d[j])\n",
    "    return d"
   ]
  },
  {
   "cell_type": "markdown",
   "metadata": {},
   "source": [
    "Test cases follow:"
   ]
  },
  {
   "cell_type": "code",
   "execution_count": 75,
   "metadata": {
    "collapsed": false
   },
   "outputs": [
    {
     "name": "stdout",
     "output_type": "stream",
     "text": [
      "File does not exist\n"
     ]
    },
    {
     "ename": "FileNotFoundError",
     "evalue": "[Errno 2] No such file or directory: 'modifiedpom.txt'",
     "output_type": "error",
     "traceback": [
      "\u001b[0;31m---------------------------------------------------------------------------\u001b[0m",
      "\u001b[0;31mFileNotFoundError\u001b[0m                         Traceback (most recent call last)",
      "\u001b[0;32m<ipython-input-75-201972352688>\u001b[0m in \u001b[0;36m<module>\u001b[0;34m()\u001b[0m\n\u001b[0;32m----> 1\u001b[0;31m \u001b[0mcollocations\u001b[0m\u001b[0;34m(\u001b[0m\u001b[0;34m\"modifiedpom.txt\"\u001b[0m\u001b[0;34m)\u001b[0m\u001b[0;34m\u001b[0m\u001b[0m\n\u001b[0m",
      "\u001b[0;32m<ipython-input-74-bc7727079419>\u001b[0m in \u001b[0;36mcollocations\u001b[0;34m(filename)\u001b[0m\n\u001b[1;32m      1\u001b[0m \u001b[0;32mdef\u001b[0m \u001b[0mcollocations\u001b[0m\u001b[0;34m(\u001b[0m\u001b[0mfilename\u001b[0m\u001b[0;34m)\u001b[0m\u001b[0;34m:\u001b[0m\u001b[0;34m\u001b[0m\u001b[0m\n\u001b[0;32m----> 2\u001b[0;31m     \u001b[0mtext\u001b[0m \u001b[0;34m=\u001b[0m \u001b[0mclean_text\u001b[0m\u001b[0;34m(\u001b[0m\u001b[0mfilename\u001b[0m\u001b[0;34m)\u001b[0m \u001b[0;31m# clean text\u001b[0m\u001b[0;34m\u001b[0m\u001b[0m\n\u001b[0m\u001b[1;32m      3\u001b[0m     \u001b[0md\u001b[0m \u001b[0;34m=\u001b[0m \u001b[0mdict\u001b[0m\u001b[0;34m(\u001b[0m\u001b[0;34m)\u001b[0m \u001b[0;31m# initialize dictionary of words\u001b[0m\u001b[0;34m\u001b[0m\u001b[0m\n\u001b[1;32m      4\u001b[0m     \u001b[0;31m# define the adjacent words\u001b[0m\u001b[0;34m\u001b[0m\u001b[0;34m\u001b[0m\u001b[0m\n\u001b[1;32m      5\u001b[0m     \u001b[0;32mfor\u001b[0m \u001b[0mi\u001b[0m \u001b[0;32min\u001b[0m \u001b[0mrange\u001b[0m\u001b[0;34m(\u001b[0m\u001b[0mlen\u001b[0m\u001b[0;34m(\u001b[0m\u001b[0mtext\u001b[0m\u001b[0;34m)\u001b[0m\u001b[0;34m-\u001b[0m\u001b[0;36m1\u001b[0m\u001b[0;34m)\u001b[0m\u001b[0;34m:\u001b[0m\u001b[0;34m\u001b[0m\u001b[0m\n",
      "\u001b[0;32m<ipython-input-65-aa3902a4ec54>\u001b[0m in \u001b[0;36mclean_text\u001b[0;34m(filename)\u001b[0m\n\u001b[1;32m      7\u001b[0m             \u001b[0mbadchars\u001b[0m \u001b[0;34m=\u001b[0m \u001b[0mb\u001b[0m\u001b[0;34m.\u001b[0m\u001b[0mread\u001b[0m\u001b[0;34m(\u001b[0m\u001b[0;34m)\u001b[0m\u001b[0;34m\u001b[0m\u001b[0m\n\u001b[1;32m      8\u001b[0m         \u001b[0mbadchars\u001b[0m \u001b[0;34m+=\u001b[0m \u001b[0;34m'!\"#$%&\\'()*+,-./:;<=>?@[\\\\]^_`\\{|\\}~'\u001b[0m\u001b[0;34m\u001b[0m\u001b[0m\n\u001b[0;32m----> 9\u001b[0;31m         \u001b[0;32mwith\u001b[0m \u001b[0mopen\u001b[0m\u001b[0;34m(\u001b[0m\u001b[0mfilename\u001b[0m\u001b[0;34m,\u001b[0m\u001b[0;34m\"r\"\u001b[0m\u001b[0;34m)\u001b[0m \u001b[0;32mas\u001b[0m \u001b[0mf\u001b[0m\u001b[0;34m:\u001b[0m\u001b[0;34m\u001b[0m\u001b[0m\n\u001b[0m\u001b[1;32m     10\u001b[0m             \u001b[0mtext\u001b[0m \u001b[0;34m=\u001b[0m \u001b[0mstr\u001b[0m\u001b[0;34m(\u001b[0m\u001b[0;34m)\u001b[0m\u001b[0;34m\u001b[0m\u001b[0m\n\u001b[1;32m     11\u001b[0m             \u001b[0;32mfor\u001b[0m \u001b[0mline\u001b[0m \u001b[0;32min\u001b[0m \u001b[0mf\u001b[0m\u001b[0;34m:\u001b[0m\u001b[0;34m\u001b[0m\u001b[0m\n",
      "\u001b[0;31mFileNotFoundError\u001b[0m: [Errno 2] No such file or directory: 'modifiedpom.txt'"
     ]
    }
   ],
   "source": [
    "collocations(\"modifiedpom.txt\")"
   ]
  },
  {
   "cell_type": "code",
   "execution_count": 76,
   "metadata": {
    "collapsed": false
   },
   "outputs": [
    {
     "ename": "TypeError",
     "evalue": "filename must be entered as a string",
     "output_type": "error",
     "traceback": [
      "\u001b[0;31m---------------------------------------------------------------------------\u001b[0m",
      "\u001b[0;31mTypeError\u001b[0m                                 Traceback (most recent call last)",
      "\u001b[0;32m<ipython-input-76-ef654c654b6c>\u001b[0m in \u001b[0;36m<module>\u001b[0;34m()\u001b[0m\n\u001b[0;32m----> 1\u001b[0;31m \u001b[0mcollocations\u001b[0m\u001b[0;34m(\u001b[0m\u001b[0;34m[\u001b[0m\u001b[0;34m\"modifiedpoem.txt\"\u001b[0m\u001b[0;34m]\u001b[0m\u001b[0;34m)\u001b[0m\u001b[0;34m\u001b[0m\u001b[0m\n\u001b[0m",
      "\u001b[0;32m<ipython-input-74-bc7727079419>\u001b[0m in \u001b[0;36mcollocations\u001b[0;34m(filename)\u001b[0m\n\u001b[1;32m      1\u001b[0m \u001b[0;32mdef\u001b[0m \u001b[0mcollocations\u001b[0m\u001b[0;34m(\u001b[0m\u001b[0mfilename\u001b[0m\u001b[0;34m)\u001b[0m\u001b[0;34m:\u001b[0m\u001b[0;34m\u001b[0m\u001b[0m\n\u001b[0;32m----> 2\u001b[0;31m     \u001b[0mtext\u001b[0m \u001b[0;34m=\u001b[0m \u001b[0mclean_text\u001b[0m\u001b[0;34m(\u001b[0m\u001b[0mfilename\u001b[0m\u001b[0;34m)\u001b[0m \u001b[0;31m# clean text\u001b[0m\u001b[0;34m\u001b[0m\u001b[0m\n\u001b[0m\u001b[1;32m      3\u001b[0m     \u001b[0md\u001b[0m \u001b[0;34m=\u001b[0m \u001b[0mdict\u001b[0m\u001b[0;34m(\u001b[0m\u001b[0;34m)\u001b[0m \u001b[0;31m# initialize dictionary of words\u001b[0m\u001b[0;34m\u001b[0m\u001b[0m\n\u001b[1;32m      4\u001b[0m     \u001b[0;31m# define the adjacent words\u001b[0m\u001b[0;34m\u001b[0m\u001b[0;34m\u001b[0m\u001b[0m\n\u001b[1;32m      5\u001b[0m     \u001b[0;32mfor\u001b[0m \u001b[0mi\u001b[0m \u001b[0;32min\u001b[0m \u001b[0mrange\u001b[0m\u001b[0;34m(\u001b[0m\u001b[0mlen\u001b[0m\u001b[0;34m(\u001b[0m\u001b[0mtext\u001b[0m\u001b[0;34m)\u001b[0m\u001b[0;34m-\u001b[0m\u001b[0;36m1\u001b[0m\u001b[0;34m)\u001b[0m\u001b[0;34m:\u001b[0m\u001b[0;34m\u001b[0m\u001b[0m\n",
      "\u001b[0;32m<ipython-input-65-aa3902a4ec54>\u001b[0m in \u001b[0;36mclean_text\u001b[0;34m(filename)\u001b[0m\n\u001b[1;32m      1\u001b[0m \u001b[0;32mdef\u001b[0m \u001b[0mclean_text\u001b[0m\u001b[0;34m(\u001b[0m\u001b[0mfilename\u001b[0m\u001b[0;34m)\u001b[0m\u001b[0;34m:\u001b[0m\u001b[0;34m\u001b[0m\u001b[0m\n\u001b[1;32m      2\u001b[0m     \u001b[0;32mif\u001b[0m \u001b[0mtype\u001b[0m\u001b[0;34m(\u001b[0m\u001b[0mfilename\u001b[0m\u001b[0;34m)\u001b[0m \u001b[0;34m!=\u001b[0m \u001b[0mstr\u001b[0m\u001b[0;34m:\u001b[0m\u001b[0;34m\u001b[0m\u001b[0m\n\u001b[0;32m----> 3\u001b[0;31m         \u001b[0;32mraise\u001b[0m \u001b[0mTypeError\u001b[0m\u001b[0;34m(\u001b[0m\u001b[0;34m'filename must be entered as a string'\u001b[0m\u001b[0;34m)\u001b[0m\u001b[0;34m\u001b[0m\u001b[0m\n\u001b[0m\u001b[1;32m      4\u001b[0m     \u001b[0;32mtry\u001b[0m\u001b[0;34m:\u001b[0m\u001b[0;34m\u001b[0m\u001b[0m\n\u001b[1;32m      5\u001b[0m         \u001b[0mtext\u001b[0m \u001b[0;34m=\u001b[0m \u001b[0mstr\u001b[0m\u001b[0;34m(\u001b[0m\u001b[0;34m)\u001b[0m\u001b[0;34m\u001b[0m\u001b[0m\n",
      "\u001b[0;31mTypeError\u001b[0m: filename must be entered as a string"
     ]
    }
   ],
   "source": [
    "collocations([\"modifiedpoem.txt\"])"
   ]
  },
  {
   "cell_type": "code",
   "execution_count": 77,
   "metadata": {
    "collapsed": false
   },
   "outputs": [],
   "source": [
    "temp_col = collocations(\"modifiedpoem.txt\")"
   ]
  },
  {
   "cell_type": "code",
   "execution_count": 78,
   "metadata": {
    "collapsed": false
   },
   "outputs": [
    {
     "data": {
      "text/plain": [
       "{'6+6=12': {'6-6=0', '747-8'},\n",
       " '6-6=0': {'6+6=12', 'h?“’!:#ϰוœ.”@/—£&%œς*-)ητè[_חæ;(é,âο‘$i'},\n",
       " '747-8': {'6+6=12', 'boeing'},\n",
       " 'a': {'half', 'league'},\n",
       " 'all': {'in', 'onward'},\n",
       " 'boeing': {'747-8', 'the'},\n",
       " 'death': {'of', 'rode'},\n",
       " 'erlkönig': {'she', 'the'},\n",
       " 'h?“’!:#ϰוœ.”@/—£&%œς*-)ητè[_חæ;(é,âο‘$i': {'6-6=0', 'ä'},\n",
       " 'half': {'a', 'league'},\n",
       " 'hello': {'there', 'trombones'},\n",
       " 'hundred': {'seventy-five', 'six'},\n",
       " 'in': {'all', 'the'},\n",
       " 'league': {'a', 'half', 'onward'},\n",
       " 'of': {'death', 'valley'},\n",
       " 'onward': {'all', 'league'},\n",
       " 'rode': {'death', 'the'},\n",
       " 'said': {'she', 'there'},\n",
       " 'seventy-five': {'hundred', 'trombones'},\n",
       " 'she': {'erlkönig', 'said'},\n",
       " 'six': {'hundred', 'the'},\n",
       " 'the': {'boeing', 'erlkönig', 'in', 'rode', 'six', 'valley'},\n",
       " 'there': {'hello', 'said'},\n",
       " 'trombones': {'hello', 'seventy-five'},\n",
       " 'valley': {'of', 'the'},\n",
       " 'ä': {'75', 'h?“’!:#ϰוœ.”@/—£&%œς*-)ητè[_חæ;(é,âο‘$i'}}"
      ]
     },
     "execution_count": 78,
     "metadata": {},
     "output_type": "execute_result"
    }
   ],
   "source": [
    "temp_col"
   ]
  },
  {
   "cell_type": "markdown",
   "metadata": {},
   "source": [
    "#### 3.4"
   ]
  },
  {
   "cell_type": "code",
   "execution_count": 86,
   "metadata": {
    "collapsed": false
   },
   "outputs": [],
   "source": [
    "mb_col = collocations(\"mobydick.txt\")"
   ]
  },
  {
   "cell_type": "code",
   "execution_count": 87,
   "metadata": {
    "collapsed": false
   },
   "outputs": [
    {
     "data": {
      "text/plain": [
       "{False}"
      ]
     },
     "execution_count": 87,
     "metadata": {},
     "output_type": "execute_result"
    }
   ],
   "source": [
    "l=[]\n",
    "for key in mb_col:\n",
    "    l.append('' in mb_col[key])\n",
    "set(l)"
   ]
  },
  {
   "cell_type": "code",
   "execution_count": 88,
   "metadata": {
    "collapsed": false
   },
   "outputs": [],
   "source": [
    "with open(\"mb.colloc.pickle\",\"wb\") as f:\n",
    "    pickle.dump(mb_col, f)"
   ]
  },
  {
   "cell_type": "markdown",
   "metadata": {},
   "source": [
    "### Appendix\n",
    "\n",
    "#### 3\n",
    "Clean text function using str.replace instead by removing punctuation first and then splitting words.\n",
    "\n",
    "We do not remove the hyphen as it can be used for special words. We assume hyphenated words only contain letters or digits and disregard the edge case of reading numerical expressions (\"6+6\" and \"6-6\" will be treated as a name like \"Boeing 747-8\"), since our main focus is on words and not numerical representations of things that can be expressed in both words and numbers.\n",
    "\n",
    "Regarding the fix including the additional special characters, I still remove the hyphen from that list due to its significance in creating new words, and disregard edge cases where the text includes "
   ]
  },
  {
   "cell_type": "code",
   "execution_count": null,
   "metadata": {
    "collapsed": false
   },
   "outputs": [],
   "source": [
    "def clean_text_aggressive(filename):\n",
    "    if type(filename) != str:\n",
    "        raise TypeError('filename must be entered as a string')\n",
    "    try:\n",
    "        text = str()\n",
    "        with open(\"badstring.txt\",\"r\") as b:\n",
    "            badchars = b.read()\n",
    "        badchars = badchars.replace('-','')\n",
    "        badchars = list(tuple(badchars))\n",
    "        punct = '! \" # $ % & \\' ( ) * + , . / : ; < = > ? @ [ \\ ] ^ _ ` { | } ~'.split()\n",
    "        punct = punct + badchars\n",
    "        \n",
    "        with open(filename,\"r\") as f:\n",
    "            for line in f:\n",
    "                # em and en dashes, but not hyphens, are removed\n",
    "                line = line.replace('—','')\n",
    "                line = line.replace('——','')\n",
    "                line = line.replace('…','')  # special ellipsis character\n",
    "                if (line.strip() != ''):\n",
    "                    '''for lines that are not whitespace/line breaks, \n",
    "                    add padding at end in case puncutation is at end of line\n",
    "                    in case punctuation is immediately adjacent to another word'''\n",
    "                    text = text + line.strip() + ' ' \n",
    "                else:\n",
    "                    text = text + line.strip()\n",
    "            text = text.strip().lower()\n",
    "            # punctuation symbols listed in \n",
    "            # http://www.gnu.org/software/grep/manual/html_node/Character-Classes-and-Bracket-Expressions.html\n",
    "            # with hyphen - removed from the list\n",
    "\n",
    "        for p in punct:\n",
    "            text = text.replace(p,'')\n",
    "        text = text.strip().split()        \n",
    "        return(text)\n",
    "    except:\n",
    "        print('File does not exist')\n",
    "        raise"
   ]
  }
 ],
 "metadata": {
  "kernelspec": {
   "display_name": "Python 3",
   "language": "python",
   "name": "python3"
  },
  "language_info": {
   "codemirror_mode": {
    "name": "ipython",
    "version": 3
   },
   "file_extension": ".py",
   "mimetype": "text/x-python",
   "name": "python",
   "nbconvert_exporter": "python",
   "pygments_lexer": "ipython3",
   "version": "3.6.0"
  }
 },
 "nbformat": 4,
 "nbformat_minor": 2
}
